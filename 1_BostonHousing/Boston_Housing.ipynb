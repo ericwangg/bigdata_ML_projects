{
 "cells": [
  {
   "cell_type": "raw",
   "metadata": {},
   "source": [
    "# CSE4502 Programming Assignment #1"
   ]
  },
  {
   "cell_type": "markdown",
   "metadata": {},
   "source": [
    "## Follow the chapter 2 of the textbook and finish the code as an end-to-end machine learning project"
   ]
  },
  {
   "cell_type": "code",
   "execution_count": 1,
   "metadata": {},
   "outputs": [],
   "source": [
    "import numpy as np\n",
    "import pandas as pd"
   ]
  },
  {
   "cell_type": "code",
   "execution_count": 2,
   "metadata": {},
   "outputs": [],
   "source": [
    "from sklearn.datasets import load_boston\n",
    "boston = load_boston()"
   ]
  },
  {
   "cell_type": "code",
   "execution_count": 3,
   "metadata": {},
   "outputs": [
    {
     "name": "stdout",
     "output_type": "stream",
     "text": [
      "dict_keys(['data', 'target', 'feature_names', 'DESCR', 'filename'])\n"
     ]
    }
   ],
   "source": [
    "print(boston.keys())"
   ]
  },
  {
   "cell_type": "code",
   "execution_count": 4,
   "metadata": {},
   "outputs": [
    {
     "name": "stdout",
     "output_type": "stream",
     "text": [
      "['CRIM' 'ZN' 'INDUS' 'CHAS' 'NOX' 'RM' 'AGE' 'DIS' 'RAD' 'TAX' 'PTRATIO'\n",
      " 'B' 'LSTAT']\n"
     ]
    }
   ],
   "source": [
    "print(boston.feature_names)"
   ]
  },
  {
   "cell_type": "code",
   "execution_count": 5,
   "metadata": {},
   "outputs": [
    {
     "name": "stdout",
     "output_type": "stream",
     "text": [
      ".. _boston_dataset:\n",
      "\n",
      "Boston house prices dataset\n",
      "---------------------------\n",
      "\n",
      "**Data Set Characteristics:**  \n",
      "\n",
      "    :Number of Instances: 506 \n",
      "\n",
      "    :Number of Attributes: 13 numeric/categorical predictive. Median Value (attribute 14) is usually the target.\n",
      "\n",
      "    :Attribute Information (in order):\n",
      "        - CRIM     per capita crime rate by town\n",
      "        - ZN       proportion of residential land zoned for lots over 25,000 sq.ft.\n",
      "        - INDUS    proportion of non-retail business acres per town\n",
      "        - CHAS     Charles River dummy variable (= 1 if tract bounds river; 0 otherwise)\n",
      "        - NOX      nitric oxides concentration (parts per 10 million)\n",
      "        - RM       average number of rooms per dwelling\n",
      "        - AGE      proportion of owner-occupied units built prior to 1940\n",
      "        - DIS      weighted distances to five Boston employment centres\n",
      "        - RAD      index of accessibility to radial highways\n",
      "        - TAX      full-value property-tax rate per $10,000\n",
      "        - PTRATIO  pupil-teacher ratio by town\n",
      "        - B        1000(Bk - 0.63)^2 where Bk is the proportion of blacks by town\n",
      "        - LSTAT    % lower status of the population\n",
      "        - MEDV     Median value of owner-occupied homes in $1000's\n",
      "\n",
      "    :Missing Attribute Values: None\n",
      "\n",
      "    :Creator: Harrison, D. and Rubinfeld, D.L.\n",
      "\n",
      "This is a copy of UCI ML housing dataset.\n",
      "https://archive.ics.uci.edu/ml/machine-learning-databases/housing/\n",
      "\n",
      "\n",
      "This dataset was taken from the StatLib library which is maintained at Carnegie Mellon University.\n",
      "\n",
      "The Boston house-price data of Harrison, D. and Rubinfeld, D.L. 'Hedonic\n",
      "prices and the demand for clean air', J. Environ. Economics & Management,\n",
      "vol.5, 81-102, 1978.   Used in Belsley, Kuh & Welsch, 'Regression diagnostics\n",
      "...', Wiley, 1980.   N.B. Various transformations are used in the table on\n",
      "pages 244-261 of the latter.\n",
      "\n",
      "The Boston house-price data has been used in many machine learning papers that address regression\n",
      "problems.   \n",
      "     \n",
      ".. topic:: References\n",
      "\n",
      "   - Belsley, Kuh & Welsch, 'Regression diagnostics: Identifying Influential Data and Sources of Collinearity', Wiley, 1980. 244-261.\n",
      "   - Quinlan,R. (1993). Combining Instance-Based and Model-Based Learning. In Proceedings on the Tenth International Conference of Machine Learning, 236-243, University of Massachusetts, Amherst. Morgan Kaufmann.\n",
      "\n"
     ]
    }
   ],
   "source": [
    "print(boston.DESCR)"
   ]
  },
  {
   "cell_type": "code",
   "execution_count": 6,
   "metadata": {},
   "outputs": [
    {
     "data": {
      "text/plain": [
       "2"
      ]
     },
     "execution_count": 6,
     "metadata": {},
     "output_type": "execute_result"
    }
   ],
   "source": [
    "boston.data.ndim"
   ]
  },
  {
   "cell_type": "code",
   "execution_count": 7,
   "metadata": {},
   "outputs": [
    {
     "data": {
      "text/plain": [
       "(506, 13)"
      ]
     },
     "execution_count": 7,
     "metadata": {},
     "output_type": "execute_result"
    }
   ],
   "source": [
    "boston.data.shape"
   ]
  },
  {
   "cell_type": "code",
   "execution_count": 8,
   "metadata": {},
   "outputs": [
    {
     "data": {
      "text/plain": [
       "1"
      ]
     },
     "execution_count": 8,
     "metadata": {},
     "output_type": "execute_result"
    }
   ],
   "source": [
    "boston.target.ndim"
   ]
  },
  {
   "cell_type": "code",
   "execution_count": 9,
   "metadata": {},
   "outputs": [
    {
     "data": {
      "text/plain": [
       "(506,)"
      ]
     },
     "execution_count": 9,
     "metadata": {},
     "output_type": "execute_result"
    }
   ],
   "source": [
    "boston.target.shape"
   ]
  },
  {
   "cell_type": "code",
   "execution_count": 10,
   "metadata": {},
   "outputs": [],
   "source": [
    "housing = np.c_[boston.data, boston.target]"
   ]
  },
  {
   "cell_type": "code",
   "execution_count": 11,
   "metadata": {},
   "outputs": [],
   "source": [
    "housing = pd.DataFrame(housing)"
   ]
  },
  {
   "cell_type": "code",
   "execution_count": 12,
   "metadata": {},
   "outputs": [],
   "source": [
    "housing.columns = list(boston.feature_names) + ['MEDV']"
   ]
  },
  {
   "cell_type": "code",
   "execution_count": 13,
   "metadata": {},
   "outputs": [
    {
     "data": {
      "text/html": [
       "<div>\n",
       "<style scoped>\n",
       "    .dataframe tbody tr th:only-of-type {\n",
       "        vertical-align: middle;\n",
       "    }\n",
       "\n",
       "    .dataframe tbody tr th {\n",
       "        vertical-align: top;\n",
       "    }\n",
       "\n",
       "    .dataframe thead th {\n",
       "        text-align: right;\n",
       "    }\n",
       "</style>\n",
       "<table border=\"1\" class=\"dataframe\">\n",
       "  <thead>\n",
       "    <tr style=\"text-align: right;\">\n",
       "      <th></th>\n",
       "      <th>CRIM</th>\n",
       "      <th>ZN</th>\n",
       "      <th>INDUS</th>\n",
       "      <th>CHAS</th>\n",
       "      <th>NOX</th>\n",
       "      <th>RM</th>\n",
       "      <th>AGE</th>\n",
       "      <th>DIS</th>\n",
       "      <th>RAD</th>\n",
       "      <th>TAX</th>\n",
       "      <th>PTRATIO</th>\n",
       "      <th>B</th>\n",
       "      <th>LSTAT</th>\n",
       "      <th>MEDV</th>\n",
       "    </tr>\n",
       "  </thead>\n",
       "  <tbody>\n",
       "    <tr>\n",
       "      <td>0</td>\n",
       "      <td>0.00632</td>\n",
       "      <td>18.0</td>\n",
       "      <td>2.31</td>\n",
       "      <td>0.0</td>\n",
       "      <td>0.538</td>\n",
       "      <td>6.575</td>\n",
       "      <td>65.2</td>\n",
       "      <td>4.0900</td>\n",
       "      <td>1.0</td>\n",
       "      <td>296.0</td>\n",
       "      <td>15.3</td>\n",
       "      <td>396.90</td>\n",
       "      <td>4.98</td>\n",
       "      <td>24.0</td>\n",
       "    </tr>\n",
       "    <tr>\n",
       "      <td>1</td>\n",
       "      <td>0.02731</td>\n",
       "      <td>0.0</td>\n",
       "      <td>7.07</td>\n",
       "      <td>0.0</td>\n",
       "      <td>0.469</td>\n",
       "      <td>6.421</td>\n",
       "      <td>78.9</td>\n",
       "      <td>4.9671</td>\n",
       "      <td>2.0</td>\n",
       "      <td>242.0</td>\n",
       "      <td>17.8</td>\n",
       "      <td>396.90</td>\n",
       "      <td>9.14</td>\n",
       "      <td>21.6</td>\n",
       "    </tr>\n",
       "    <tr>\n",
       "      <td>2</td>\n",
       "      <td>0.02729</td>\n",
       "      <td>0.0</td>\n",
       "      <td>7.07</td>\n",
       "      <td>0.0</td>\n",
       "      <td>0.469</td>\n",
       "      <td>7.185</td>\n",
       "      <td>61.1</td>\n",
       "      <td>4.9671</td>\n",
       "      <td>2.0</td>\n",
       "      <td>242.0</td>\n",
       "      <td>17.8</td>\n",
       "      <td>392.83</td>\n",
       "      <td>4.03</td>\n",
       "      <td>34.7</td>\n",
       "    </tr>\n",
       "    <tr>\n",
       "      <td>3</td>\n",
       "      <td>0.03237</td>\n",
       "      <td>0.0</td>\n",
       "      <td>2.18</td>\n",
       "      <td>0.0</td>\n",
       "      <td>0.458</td>\n",
       "      <td>6.998</td>\n",
       "      <td>45.8</td>\n",
       "      <td>6.0622</td>\n",
       "      <td>3.0</td>\n",
       "      <td>222.0</td>\n",
       "      <td>18.7</td>\n",
       "      <td>394.63</td>\n",
       "      <td>2.94</td>\n",
       "      <td>33.4</td>\n",
       "    </tr>\n",
       "    <tr>\n",
       "      <td>4</td>\n",
       "      <td>0.06905</td>\n",
       "      <td>0.0</td>\n",
       "      <td>2.18</td>\n",
       "      <td>0.0</td>\n",
       "      <td>0.458</td>\n",
       "      <td>7.147</td>\n",
       "      <td>54.2</td>\n",
       "      <td>6.0622</td>\n",
       "      <td>3.0</td>\n",
       "      <td>222.0</td>\n",
       "      <td>18.7</td>\n",
       "      <td>396.90</td>\n",
       "      <td>5.33</td>\n",
       "      <td>36.2</td>\n",
       "    </tr>\n",
       "  </tbody>\n",
       "</table>\n",
       "</div>"
      ],
      "text/plain": [
       "      CRIM    ZN  INDUS  CHAS    NOX     RM   AGE     DIS  RAD    TAX  \\\n",
       "0  0.00632  18.0   2.31   0.0  0.538  6.575  65.2  4.0900  1.0  296.0   \n",
       "1  0.02731   0.0   7.07   0.0  0.469  6.421  78.9  4.9671  2.0  242.0   \n",
       "2  0.02729   0.0   7.07   0.0  0.469  7.185  61.1  4.9671  2.0  242.0   \n",
       "3  0.03237   0.0   2.18   0.0  0.458  6.998  45.8  6.0622  3.0  222.0   \n",
       "4  0.06905   0.0   2.18   0.0  0.458  7.147  54.2  6.0622  3.0  222.0   \n",
       "\n",
       "   PTRATIO       B  LSTAT  MEDV  \n",
       "0     15.3  396.90   4.98  24.0  \n",
       "1     17.8  396.90   9.14  21.6  \n",
       "2     17.8  392.83   4.03  34.7  \n",
       "3     18.7  394.63   2.94  33.4  \n",
       "4     18.7  396.90   5.33  36.2  "
      ]
     },
     "execution_count": 13,
     "metadata": {},
     "output_type": "execute_result"
    }
   ],
   "source": [
    "housing.head()"
   ]
  },
  {
   "cell_type": "code",
   "execution_count": 14,
   "metadata": {},
   "outputs": [
    {
     "name": "stdout",
     "output_type": "stream",
     "text": [
      "Hello World\n"
     ]
    }
   ],
   "source": [
    "print(\"Hello World\")"
   ]
  },
  {
   "cell_type": "code",
   "execution_count": 15,
   "metadata": {},
   "outputs": [
    {
     "name": "stdout",
     "output_type": "stream",
     "text": [
      "<class 'pandas.core.frame.DataFrame'>\n",
      "RangeIndex: 506 entries, 0 to 505\n",
      "Data columns (total 14 columns):\n",
      "CRIM       506 non-null float64\n",
      "ZN         506 non-null float64\n",
      "INDUS      506 non-null float64\n",
      "CHAS       506 non-null float64\n",
      "NOX        506 non-null float64\n",
      "RM         506 non-null float64\n",
      "AGE        506 non-null float64\n",
      "DIS        506 non-null float64\n",
      "RAD        506 non-null float64\n",
      "TAX        506 non-null float64\n",
      "PTRATIO    506 non-null float64\n",
      "B          506 non-null float64\n",
      "LSTAT      506 non-null float64\n",
      "MEDV       506 non-null float64\n",
      "dtypes: float64(14)\n",
      "memory usage: 55.5 KB\n"
     ]
    }
   ],
   "source": [
    "housing.info()"
   ]
  },
  {
   "cell_type": "code",
   "execution_count": 16,
   "metadata": {},
   "outputs": [
    {
     "data": {
      "image/png": "[encoded data removed]",
      "text/plain": [
       "<Figure size 1440x1080 with 16 Axes>"
      ]
     },
     "metadata": {
      "needs_background": "light"
     },
     "output_type": "display_data"
    }
   ],
   "source": [
    "%matplotlib inline\n",
    "import matplotlib.pyplot as plt\n",
    "housing.hist(bins=50, figsize=(20,15))\n",
    "plt.show()"
   ]
  },
  {
   "cell_type": "code",
   "execution_count": 17,
   "metadata": {},
   "outputs": [],
   "source": [
    "def split_train_test(data, test_ratio):\n",
    "    shuffled_indices = np.random.permutation(len(data))\n",
    "    test_set_size = int(len(data) * test_ratio)\n",
    "    test_indices = shuffled_indices[:test_set_size]\n",
    "    train_indices = shuffled_indices[test_set_size:]\n",
    "    return data.iloc[train_indices], data.iloc[test_indices]"
   ]
  },
  {
   "cell_type": "code",
   "execution_count": 18,
   "metadata": {},
   "outputs": [
    {
     "data": {
      "text/plain": [
       "405"
      ]
     },
     "execution_count": 18,
     "metadata": {},
     "output_type": "execute_result"
    }
   ],
   "source": [
    "train_set, test_set = split_train_test(housing, 0.2)\n",
    "len(train_set)"
   ]
  },
  {
   "cell_type": "code",
   "execution_count": 19,
   "metadata": {},
   "outputs": [
    {
     "data": {
      "text/plain": [
       "101"
      ]
     },
     "execution_count": 19,
     "metadata": {},
     "output_type": "execute_result"
    }
   ],
   "source": [
    "len(test_set)"
   ]
  },
  {
   "cell_type": "code",
   "execution_count": 20,
   "metadata": {},
   "outputs": [],
   "source": [
    "from zlib import crc32\n",
    "\n",
    "def test_set_check(identifier, test_ratio):\n",
    "    return crc32(np.int64(identifier)) & 0xffffffff < test_ratio * 2**32\n",
    "\n",
    "def split_train_test_by_id(data, test_ratio, id_column):\n",
    "    ids = data[id_column]\n",
    "    in_test_set = ids.apply(lambda id_: test_set_check(id_, test_ratio))\n",
    "    return data.loc[~in_test_set], data.loc[in_test_set]"
   ]
  },
  {
   "cell_type": "code",
   "execution_count": 21,
   "metadata": {},
   "outputs": [],
   "source": [
    "from sklearn.model_selection import train_test_split\n",
    "\n",
    "train_set, test_set = train_test_split(housing, test_size=0.2, random_state=42)"
   ]
  },
  {
   "cell_type": "code",
   "execution_count": 22,
   "metadata": {},
   "outputs": [],
   "source": [
    "housing[\"income_cat\"] = pd.cut(housing[\"MEDV\"],\n",
    "                               bins=[0, 10, 20, 30, 40, 50, np.inf],\n",
    "                               labels=[0, 1, 2, 3, 4, 5])"
   ]
  },
  {
   "cell_type": "code",
   "execution_count": 23,
   "metadata": {},
   "outputs": [
    {
     "data": {
      "text/plain": [
       "<matplotlib.axes._subplots.AxesSubplot at 0x1bf5fb43308>"
      ]
     },
     "execution_count": 23,
     "metadata": {},
     "output_type": "execute_result"
    },
    {
     "data": {
      "image/png": "[encoded data removed]",
      "text/plain": [
       "<Figure size 432x288 with 1 Axes>"
      ]
     },
     "metadata": {
      "needs_background": "light"
     },
     "output_type": "display_data"
    }
   ],
   "source": [
    "housing[\"income_cat\"].hist()"
   ]
  },
  {
   "cell_type": "code",
   "execution_count": 24,
   "metadata": {},
   "outputs": [],
   "source": [
    "from sklearn.model_selection import StratifiedShuffleSplit\n",
    "\n",
    "split = StratifiedShuffleSplit(n_splits=1, test_size=0.2, random_state=42)\n",
    "for train_index, test_index in split.split(housing, housing[\"income_cat\"]):\n",
    "    strat_train_set = housing.loc[train_index]\n",
    "    strat_test_set = housing.loc[test_index]"
   ]
  },
  {
   "cell_type": "code",
   "execution_count": 25,
   "metadata": {},
   "outputs": [
    {
     "data": {
      "text/plain": [
       "2    0.411765\n",
       "1    0.372549\n",
       "3    0.107843\n",
       "4    0.058824\n",
       "0    0.049020\n",
       "5    0.000000\n",
       "Name: income_cat, dtype: float64"
      ]
     },
     "execution_count": 25,
     "metadata": {},
     "output_type": "execute_result"
    }
   ],
   "source": [
    "strat_test_set[\"income_cat\"].value_counts() / len(strat_test_set)"
   ]
  },
  {
   "cell_type": "code",
   "execution_count": 26,
   "metadata": {},
   "outputs": [],
   "source": [
    "for set_ in (strat_train_set, strat_test_set):\n",
    "    set_.drop(\"income_cat\", axis=1, inplace=True)"
   ]
  },
  {
   "cell_type": "code",
   "execution_count": 27,
   "metadata": {},
   "outputs": [],
   "source": [
    "housing = strat_train_set.copy()"
   ]
  },
  {
   "cell_type": "code",
   "execution_count": 28,
   "metadata": {},
   "outputs": [],
   "source": [
    "corr_matrix = housing.corr()"
   ]
  },
  {
   "cell_type": "code",
   "execution_count": 29,
   "metadata": {},
   "outputs": [
    {
     "data": {
      "text/plain": [
       "MEDV       1.000000\n",
       "RM         0.679439\n",
       "ZN         0.375967\n",
       "B          0.324998\n",
       "DIS        0.266088\n",
       "CHAS       0.183854\n",
       "RAD       -0.381903\n",
       "AGE       -0.390075\n",
       "CRIM      -0.391283\n",
       "NOX       -0.438384\n",
       "TAX       -0.477005\n",
       "PTRATIO   -0.483569\n",
       "INDUS     -0.499120\n",
       "LSTAT     -0.734822\n",
       "Name: MEDV, dtype: float64"
      ]
     },
     "execution_count": 29,
     "metadata": {},
     "output_type": "execute_result"
    }
   ],
   "source": [
    "corr_matrix[\"MEDV\"].sort_values(ascending=False)"
   ]
  },
  {
   "cell_type": "code",
   "execution_count": 30,
   "metadata": {},
   "outputs": [
    {
     "data": {
      "text/plain": [
       "array([[<matplotlib.axes._subplots.AxesSubplot object at 0x000001BF60F4BC88>,\n",
       "        <matplotlib.axes._subplots.AxesSubplot object at 0x000001BF60FBB488>,\n",
       "        <matplotlib.axes._subplots.AxesSubplot object at 0x000001BF60FF1C48>,\n",
       "        <matplotlib.axes._subplots.AxesSubplot object at 0x000001BF6102B608>],\n",
       "       [<matplotlib.axes._subplots.AxesSubplot object at 0x000001BF61060FC8>,\n",
       "        <matplotlib.axes._subplots.AxesSubplot object at 0x000001BF61098A08>,\n",
       "        <matplotlib.axes._subplots.AxesSubplot object at 0x000001BF610D2B08>,\n",
       "        <matplotlib.axes._subplots.AxesSubplot object at 0x000001BF6110BC08>],\n",
       "       [<matplotlib.axes._subplots.AxesSubplot object at 0x000001BF61115808>,\n",
       "        <matplotlib.axes._subplots.AxesSubplot object at 0x000001BF6114EA08>,\n",
       "        <matplotlib.axes._subplots.AxesSubplot object at 0x000001BF60E41748>,\n",
       "        <matplotlib.axes._subplots.AxesSubplot object at 0x000001BF60E01248>],\n",
       "       [<matplotlib.axes._subplots.AxesSubplot object at 0x000001BF6099CEC8>,\n",
       "        <matplotlib.axes._subplots.AxesSubplot object at 0x000001BF60C60C48>,\n",
       "        <matplotlib.axes._subplots.AxesSubplot object at 0x000001BF60B52748>,\n",
       "        <matplotlib.axes._subplots.AxesSubplot object at 0x000001BF60E21E88>]],\n",
       "      dtype=object)"
      ]
     },
     "execution_count": 30,
     "metadata": {},
     "output_type": "execute_result"
    },
    {
     "data": {
      "image/png": "[encoded data removed]",
      "text/plain": [
       "<Figure size 864x576 with 16 Axes>"
      ]
     },
     "metadata": {
      "needs_background": "light"
     },
     "output_type": "display_data"
    }
   ],
   "source": [
    "from pandas.plotting import scatter_matrix\n",
    "\n",
    "attributes = [\"MEDV\", \"LSTAT\", \"RM\", \"INDUS\"]\n",
    "\n",
    "scatter_matrix(housing[attributes], figsize=(12,8))"
   ]
  },
  {
   "cell_type": "code",
   "execution_count": 31,
   "metadata": {},
   "outputs": [
    {
     "data": {
      "text/plain": [
       "<matplotlib.axes._subplots.AxesSubplot at 0x1bf60f99688>"
      ]
     },
     "execution_count": 31,
     "metadata": {},
     "output_type": "execute_result"
    },
    {
     "data": {
      "image/png": "[encoded data removed]",
      "text/plain": [
       "<Figure size 432x288 with 1 Axes>"
      ]
     },
     "metadata": {
      "needs_background": "light"
     },
     "output_type": "display_data"
    }
   ],
   "source": [
    "housing.plot(kind=\"scatter\", x=\"MEDV\", y=\"RM\", alpha=0.1)"
   ]
  },
  {
   "cell_type": "code",
   "execution_count": 32,
   "metadata": {},
   "outputs": [],
   "source": [
    "housing[\"rooms_to_tax\"] = housing[\"RM\"]/housing[\"TAX\"]\n",
    "housing[\"tax_per_rm\"] = housing[\"TAX\"]/housing[\"RM\"]\n",
    "housing[\"landzoned_to_room\"] = housing[\"ZN\"]/housing[\"RM\"]\n",
    "housing[\"status_per_landzoned\"] = housing[\"LSTAT\"]/housing[\"ZN\"]\n",
    "housing[\"highways_to_industry\"] = housing[\"RAD\"]/housing[\"INDUS\"]\n",
    "housing[\"blacks_to_lstat\"] = housing[\"B\"]/housing[\"LSTAT\"]"
   ]
  },
  {
   "cell_type": "code",
   "execution_count": 33,
   "metadata": {},
   "outputs": [
    {
     "data": {
      "text/plain": [
       "MEDV                    1.000000\n",
       "blacks_to_lstat         0.807401\n",
       "RM                      0.679439\n",
       "rooms_to_tax            0.624264\n",
       "ZN                      0.375967\n",
       "landzoned_to_room       0.342027\n",
       "B                       0.324998\n",
       "DIS                     0.266088\n",
       "highways_to_industry    0.198425\n",
       "CHAS                    0.183854\n",
       "RAD                    -0.381903\n",
       "AGE                    -0.390075\n",
       "CRIM                   -0.391283\n",
       "status_per_landzoned   -0.405537\n",
       "NOX                    -0.438384\n",
       "TAX                    -0.477005\n",
       "PTRATIO                -0.483569\n",
       "INDUS                  -0.499120\n",
       "tax_per_rm             -0.536372\n",
       "LSTAT                  -0.734822\n",
       "Name: MEDV, dtype: float64"
      ]
     },
     "execution_count": 33,
     "metadata": {},
     "output_type": "execute_result"
    }
   ],
   "source": [
    "corr_matrix = housing.corr()\n",
    "corr_matrix[\"MEDV\"].sort_values(ascending=False)"
   ]
  },
  {
   "cell_type": "markdown",
   "metadata": {},
   "source": [
    "## Prepare the Data for Machine Learning Algorithm"
   ]
  },
  {
   "cell_type": "code",
   "execution_count": 34,
   "metadata": {},
   "outputs": [],
   "source": [
    "housing = strat_train_set.drop(\"MEDV\", axis=1)\n",
    "housing_labels = strat_train_set[\"MEDV\"].copy()"
   ]
  },
  {
   "cell_type": "markdown",
   "metadata": {},
   "source": [
    "### Data Cleaning"
   ]
  },
  {
   "cell_type": "code",
   "execution_count": 35,
   "metadata": {},
   "outputs": [],
   "source": [
    "housing.dropna(subset=[\"RM\"])    # option 1\n",
    "housing.drop(\"RM\", axis=1)       # option 2\n",
    "median = housing[\"RM\"].median()  #option 3\n",
    "housing[\"RM\"].fillna(median, inplace=True)"
   ]
  },
  {
   "cell_type": "code",
   "execution_count": 36,
   "metadata": {},
   "outputs": [],
   "source": [
    "from sklearn.impute import SimpleImputer\n",
    "\n",
    "imputer = SimpleImputer(strategy=\"median\")"
   ]
  },
  {
   "cell_type": "markdown",
   "metadata": {},
   "source": [
    "EW: No data of \"object\" or unusable, non-numerical datatype. No attribute needs to be dropped here (as compared to Ch.2)"
   ]
  },
  {
   "cell_type": "markdown",
   "metadata": {},
   "source": [
    "### Custom Transformers"
   ]
  },
  {
   "cell_type": "markdown",
   "metadata": {},
   "source": []
  },
  {
   "cell_type": "code",
   "execution_count": 37,
   "metadata": {},
   "outputs": [],
   "source": [
    "from sklearn.base import BaseEstimator, TransformerMixin\n",
    "\n",
    "RM_idx, B_idx, LSTAT_idx, TAX_idx = 5, 11, 12, 9\n",
    "\n",
    "class CombinedAttributesAdder(BaseEstimator, TransformerMixin):\n",
    "    def __init__(self, add_rooms_per_taxrate = True): # no *args or **kargs\n",
    "        self.add_rooms_per_taxrate = add_rooms_per_taxrate\n",
    "    def fit(self, X, y=None):\n",
    "        return self  # nothing else to do\n",
    "    def transform(self, X):\n",
    "        rooms_per_lowerStatus = X[:, RM_idx] / X[:, LSTAT_idx]\n",
    "        blacks_per_lowerStatus = X[:, B_idx] / X[:, LSTAT_idx]\n",
    "        if self.add_rooms_per_taxrate:\n",
    "            rooms_per_taxrate = X[:, RM_idx] / X[:, TAX_idx]\n",
    "            return np.c_[X, rooms_per_lowerStatus, blacks_per_lowerStatus, rooms_per_taxrate]\n",
    "\n",
    "        else:\n",
    "            return np.c_[X, rooms_per_lowerStatus, blacks_per_lowerStatus]\n",
    "\n",
    "attr_adder = CombinedAttributesAdder(add_rooms_per_taxrate=False)\n",
    "housing_extra_attribs = attr_adder.transform(housing.values)"
   ]
  },
  {
   "cell_type": "code",
   "execution_count": 38,
   "metadata": {},
   "outputs": [
    {
     "data": {
      "text/html": [
       "<div>\n",
       "<style scoped>\n",
       "    .dataframe tbody tr th:only-of-type {\n",
       "        vertical-align: middle;\n",
       "    }\n",
       "\n",
       "    .dataframe tbody tr th {\n",
       "        vertical-align: top;\n",
       "    }\n",
       "\n",
       "    .dataframe thead th {\n",
       "        text-align: right;\n",
       "    }\n",
       "</style>\n",
       "<table border=\"1\" class=\"dataframe\">\n",
       "  <thead>\n",
       "    <tr style=\"text-align: right;\">\n",
       "      <th></th>\n",
       "      <th>CRIM</th>\n",
       "      <th>ZN</th>\n",
       "      <th>INDUS</th>\n",
       "      <th>CHAS</th>\n",
       "      <th>NOX</th>\n",
       "      <th>RM</th>\n",
       "      <th>AGE</th>\n",
       "      <th>DIS</th>\n",
       "      <th>RAD</th>\n",
       "      <th>TAX</th>\n",
       "      <th>PTRATIO</th>\n",
       "      <th>B</th>\n",
       "      <th>LSTAT</th>\n",
       "      <th>rooms_per_lowerStatus</th>\n",
       "      <th>blacks_per_lowerStatus</th>\n",
       "    </tr>\n",
       "  </thead>\n",
       "  <tbody>\n",
       "    <tr>\n",
       "      <td>362</td>\n",
       "      <td>3.67822</td>\n",
       "      <td>0.0</td>\n",
       "      <td>18.10</td>\n",
       "      <td>0.0</td>\n",
       "      <td>0.770</td>\n",
       "      <td>5.362</td>\n",
       "      <td>96.2</td>\n",
       "      <td>2.1036</td>\n",
       "      <td>24.0</td>\n",
       "      <td>666.0</td>\n",
       "      <td>20.2</td>\n",
       "      <td>380.79</td>\n",
       "      <td>10.19</td>\n",
       "      <td>0.526202</td>\n",
       "      <td>37.368989</td>\n",
       "    </tr>\n",
       "    <tr>\n",
       "      <td>36</td>\n",
       "      <td>0.09744</td>\n",
       "      <td>0.0</td>\n",
       "      <td>5.96</td>\n",
       "      <td>0.0</td>\n",
       "      <td>0.499</td>\n",
       "      <td>5.841</td>\n",
       "      <td>61.4</td>\n",
       "      <td>3.3779</td>\n",
       "      <td>5.0</td>\n",
       "      <td>279.0</td>\n",
       "      <td>19.2</td>\n",
       "      <td>377.56</td>\n",
       "      <td>11.41</td>\n",
       "      <td>0.511919</td>\n",
       "      <td>33.090272</td>\n",
       "    </tr>\n",
       "    <tr>\n",
       "      <td>327</td>\n",
       "      <td>0.24103</td>\n",
       "      <td>0.0</td>\n",
       "      <td>7.38</td>\n",
       "      <td>0.0</td>\n",
       "      <td>0.493</td>\n",
       "      <td>6.083</td>\n",
       "      <td>43.7</td>\n",
       "      <td>5.4159</td>\n",
       "      <td>5.0</td>\n",
       "      <td>287.0</td>\n",
       "      <td>19.6</td>\n",
       "      <td>396.90</td>\n",
       "      <td>12.79</td>\n",
       "      <td>0.475606</td>\n",
       "      <td>31.032056</td>\n",
       "    </tr>\n",
       "    <tr>\n",
       "      <td>284</td>\n",
       "      <td>0.00906</td>\n",
       "      <td>90.0</td>\n",
       "      <td>2.97</td>\n",
       "      <td>0.0</td>\n",
       "      <td>0.400</td>\n",
       "      <td>7.088</td>\n",
       "      <td>20.8</td>\n",
       "      <td>7.3073</td>\n",
       "      <td>1.0</td>\n",
       "      <td>285.0</td>\n",
       "      <td>15.3</td>\n",
       "      <td>394.72</td>\n",
       "      <td>7.85</td>\n",
       "      <td>0.902930</td>\n",
       "      <td>50.282803</td>\n",
       "    </tr>\n",
       "    <tr>\n",
       "      <td>54</td>\n",
       "      <td>0.01360</td>\n",
       "      <td>75.0</td>\n",
       "      <td>4.00</td>\n",
       "      <td>0.0</td>\n",
       "      <td>0.410</td>\n",
       "      <td>5.888</td>\n",
       "      <td>47.6</td>\n",
       "      <td>7.3197</td>\n",
       "      <td>3.0</td>\n",
       "      <td>469.0</td>\n",
       "      <td>21.1</td>\n",
       "      <td>396.90</td>\n",
       "      <td>14.80</td>\n",
       "      <td>0.397838</td>\n",
       "      <td>26.817568</td>\n",
       "    </tr>\n",
       "  </tbody>\n",
       "</table>\n",
       "</div>"
      ],
      "text/plain": [
       "        CRIM    ZN  INDUS  CHAS    NOX     RM   AGE     DIS   RAD    TAX  \\\n",
       "362  3.67822   0.0  18.10   0.0  0.770  5.362  96.2  2.1036  24.0  666.0   \n",
       "36   0.09744   0.0   5.96   0.0  0.499  5.841  61.4  3.3779   5.0  279.0   \n",
       "327  0.24103   0.0   7.38   0.0  0.493  6.083  43.7  5.4159   5.0  287.0   \n",
       "284  0.00906  90.0   2.97   0.0  0.400  7.088  20.8  7.3073   1.0  285.0   \n",
       "54   0.01360  75.0   4.00   0.0  0.410  5.888  47.6  7.3197   3.0  469.0   \n",
       "\n",
       "     PTRATIO       B  LSTAT  rooms_per_lowerStatus  blacks_per_lowerStatus  \n",
       "362     20.2  380.79  10.19               0.526202               37.368989  \n",
       "36      19.2  377.56  11.41               0.511919               33.090272  \n",
       "327     19.6  396.90  12.79               0.475606               31.032056  \n",
       "284     15.3  394.72   7.85               0.902930               50.282803  \n",
       "54      21.1  396.90  14.80               0.397838               26.817568  "
      ]
     },
     "execution_count": 38,
     "metadata": {},
     "output_type": "execute_result"
    }
   ],
   "source": [
    "housing_extra_attribs = pd.DataFrame(\n",
    "    housing_extra_attribs,\n",
    "    columns=list(housing.columns)+[\"rooms_per_lowerStatus\", \"blacks_per_lowerStatus\"],\n",
    "    index=housing.index)\n",
    "housing_extra_attribs.head()"
   ]
  },
  {
   "cell_type": "markdown",
   "metadata": {},
   "source": [
    "### Feature Scaling"
   ]
  },
  {
   "cell_type": "markdown",
   "metadata": {},
   "source": [
    "### Transformation Pipelines"
   ]
  },
  {
   "cell_type": "code",
   "execution_count": 39,
   "metadata": {},
   "outputs": [],
   "source": [
    "from sklearn.pipeline import Pipeline\n",
    "from sklearn.preprocessing import StandardScaler\n",
    "\n",
    "num_pipeline = Pipeline([\n",
    "        ('imputer', SimpleImputer(strategy=\"median\")),\n",
    "        ('attribs_adder', CombinedAttributesAdder()),\n",
    "        ('std_scaler', StandardScaler()),\n",
    "    ])\n",
    "\n",
    "housing_num_tr = num_pipeline.fit_transform(housing)"
   ]
  },
  {
   "cell_type": "code",
   "execution_count": 40,
   "metadata": {},
   "outputs": [],
   "source": [
    "from sklearn.compose import ColumnTransformer\n",
    "\n",
    "num_attribs = list(housing)\n",
    "\n",
    "full_pipeline = ColumnTransformer([\n",
    "        (\"num\", num_pipeline, num_attribs),\n",
    "    ])\n",
    "\n",
    "housing_prepared = full_pipeline.fit_transform(housing)"
   ]
  },
  {
   "cell_type": "markdown",
   "metadata": {},
   "source": [
    "### Training and Evaluating on the Training Set"
   ]
  },
  {
   "cell_type": "code",
   "execution_count": 41,
   "metadata": {},
   "outputs": [
    {
     "data": {
      "text/plain": [
       "LinearRegression(copy_X=True, fit_intercept=True, n_jobs=None, normalize=False)"
      ]
     },
     "execution_count": 41,
     "metadata": {},
     "output_type": "execute_result"
    }
   ],
   "source": [
    "from sklearn.linear_model import LinearRegression\n",
    "\n",
    "lin_reg = LinearRegression()\n",
    "lin_reg.fit(housing_prepared, housing_labels)"
   ]
  },
  {
   "cell_type": "code",
   "execution_count": 42,
   "metadata": {},
   "outputs": [
    {
     "name": "stdout",
     "output_type": "stream",
     "text": [
      "Predictions: [20.0584383  21.27987018 18.31707272 27.77100735 14.7327443 ]\n",
      "Labels: [20.8, 20.0, 22.2, 32.2, 18.9]\n"
     ]
    }
   ],
   "source": [
    "some_data = housing.iloc[:5]\n",
    "some_labels = housing_labels.iloc[:5]\n",
    "some_data_prepared = full_pipeline.transform(some_data)\n",
    "print(\"Predictions:\", lin_reg.predict(some_data_prepared))\n",
    "print(\"Labels:\", list(some_labels))"
   ]
  },
  {
   "cell_type": "code",
   "execution_count": 43,
   "metadata": {},
   "outputs": [
    {
     "data": {
      "text/plain": [
       "4.095688233431635"
      ]
     },
     "execution_count": 43,
     "metadata": {},
     "output_type": "execute_result"
    }
   ],
   "source": [
    "from sklearn.metrics import mean_squared_error\n",
    "housing_predictions = lin_reg.predict(housing_prepared)\n",
    "lin_mse = mean_squared_error(housing_labels, housing_predictions)\n",
    "lin_rmse = np.sqrt(lin_mse)\n",
    "lin_rmse"
   ]
  },
  {
   "cell_type": "code",
   "execution_count": 44,
   "metadata": {},
   "outputs": [
    {
     "data": {
      "text/plain": [
       "DecisionTreeRegressor(criterion='mse', max_depth=None, max_features=None,\n",
       "                      max_leaf_nodes=None, min_impurity_decrease=0.0,\n",
       "                      min_impurity_split=None, min_samples_leaf=1,\n",
       "                      min_samples_split=2, min_weight_fraction_leaf=0.0,\n",
       "                      presort=False, random_state=None, splitter='best')"
      ]
     },
     "execution_count": 44,
     "metadata": {},
     "output_type": "execute_result"
    }
   ],
   "source": [
    "from sklearn.tree import DecisionTreeRegressor\n",
    "\n",
    "tree_reg = DecisionTreeRegressor()\n",
    "tree_reg.fit(housing_prepared, housing_labels)"
   ]
  },
  {
   "cell_type": "code",
   "execution_count": 45,
   "metadata": {},
   "outputs": [
    {
     "data": {
      "text/plain": [
       "0.0"
      ]
     },
     "execution_count": 45,
     "metadata": {},
     "output_type": "execute_result"
    }
   ],
   "source": [
    "housing_predictions = tree_reg.predict(housing_prepared)\n",
    "tree_mse = mean_squared_error(housing_labels, housing_predictions)\n",
    "tree_rmse = np.sqrt(tree_mse)\n",
    "tree_rmse"
   ]
  },
  {
   "cell_type": "markdown",
   "metadata": {},
   "source": [
    "### Fine-tune your Model (Better Evaluation Using Cross-Validation)"
   ]
  },
  {
   "cell_type": "code",
   "execution_count": 46,
   "metadata": {},
   "outputs": [],
   "source": [
    "from sklearn.model_selection import cross_val_score\n",
    "scores = cross_val_score(tree_reg, housing_prepared, housing_labels,\n",
    "                         scoring=\"neg_mean_squared_error\", cv=10)\n",
    "tree_rmse_scores = np.sqrt(-scores)"
   ]
  },
  {
   "cell_type": "code",
   "execution_count": 47,
   "metadata": {},
   "outputs": [],
   "source": [
    "def display_scores(scores):\n",
    "    print(\"Scores:\", scores)\n",
    "    print(\"Mean:\", scores.mean())\n",
    "    print(\"Standard deviation:\", scores.std())"
   ]
  },
  {
   "cell_type": "code",
   "execution_count": 48,
   "metadata": {},
   "outputs": [
    {
     "name": "stdout",
     "output_type": "stream",
     "text": [
      "Scores: [4.92160493 4.52871597 3.42818305 3.95418889 3.4648593  3.89493261\n",
      " 3.74556404 4.87521794 5.60867631 3.67828085]\n",
      "Mean: 4.210022389544121\n",
      "Standard deviation: 0.6954406509900067\n"
     ]
    }
   ],
   "source": [
    "display_scores(tree_rmse_scores)"
   ]
  },
  {
   "cell_type": "code",
   "execution_count": 49,
   "metadata": {},
   "outputs": [
    {
     "name": "stdout",
     "output_type": "stream",
     "text": [
      "Scores: [3.4086796  4.64868715 3.67453904 3.39463535 3.8988494  3.14103003\n",
      " 7.82908756 3.64675707 5.60644157 4.01098998]\n",
      "Mean: 4.325969675882147\n",
      "Standard deviation: 1.3526201224876666\n"
     ]
    }
   ],
   "source": [
    "lin_scores = cross_val_score(lin_reg, housing_prepared, housing_labels, scoring=\"neg_mean_squared_error\", cv=10)\n",
    "lin_rmse_scores = np.sqrt(-lin_scores)\n",
    "display_scores(lin_rmse_scores)"
   ]
  },
  {
   "cell_type": "code",
   "execution_count": 50,
   "metadata": {},
   "outputs": [
    {
     "data": {
      "text/plain": [
       "RandomForestRegressor(bootstrap=True, criterion='mse', max_depth=None,\n",
       "                      max_features='auto', max_leaf_nodes=None,\n",
       "                      min_impurity_decrease=0.0, min_impurity_split=None,\n",
       "                      min_samples_leaf=1, min_samples_split=2,\n",
       "                      min_weight_fraction_leaf=0.0, n_estimators=100,\n",
       "                      n_jobs=None, oob_score=False, random_state=42, verbose=0,\n",
       "                      warm_start=False)"
      ]
     },
     "execution_count": 50,
     "metadata": {},
     "output_type": "execute_result"
    }
   ],
   "source": [
    "from sklearn.ensemble import RandomForestRegressor\n",
    "\n",
    "forest_reg = RandomForestRegressor(n_estimators=100, random_state=42)\n",
    "forest_reg.fit(housing_prepared, housing_labels)"
   ]
  },
  {
   "cell_type": "code",
   "execution_count": 51,
   "metadata": {},
   "outputs": [
    {
     "data": {
      "text/plain": [
       "1.1726633370154431"
      ]
     },
     "execution_count": 51,
     "metadata": {},
     "output_type": "execute_result"
    }
   ],
   "source": [
    "housing_predictions = forest_reg.predict(housing_prepared)\n",
    "forest_mse = mean_squared_error(housing_labels, housing_predictions)\n",
    "forest_rmse = np.sqrt(forest_mse)\n",
    "forest_rmse"
   ]
  },
  {
   "cell_type": "code",
   "execution_count": 52,
   "metadata": {},
   "outputs": [
    {
     "name": "stdout",
     "output_type": "stream",
     "text": [
      "Scores: [2.15357435 3.75114611 2.6941514  2.85265854 2.37996811 2.96175328\n",
      " 3.32661703 2.94383412 5.05378537 2.92777041]\n",
      "Mean: 3.104525871533914\n",
      "Standard deviation: 0.7749606603239664\n"
     ]
    }
   ],
   "source": [
    "from sklearn.model_selection import cross_val_score\n",
    "\n",
    "forest_scores = cross_val_score(forest_reg, housing_prepared, housing_labels,\n",
    "                                scoring=\"neg_mean_squared_error\", cv=10)\n",
    "forest_rmse_scores = np.sqrt(-forest_scores)\n",
    "display_scores(forest_rmse_scores)"
   ]
  },
  {
   "cell_type": "code",
   "execution_count": 53,
   "metadata": {},
   "outputs": [
    {
     "data": {
      "text/plain": [
       "count    10.000000\n",
       "mean      4.325970\n",
       "std       1.425787\n",
       "min       3.141030\n",
       "25%       3.468199\n",
       "50%       3.786694\n",
       "75%       4.489263\n",
       "max       7.829088\n",
       "dtype: float64"
      ]
     },
     "execution_count": 53,
     "metadata": {},
     "output_type": "execute_result"
    }
   ],
   "source": [
    "scores = cross_val_score(lin_reg, housing_prepared, housing_labels, scoring=\"neg_mean_squared_error\", cv=10)\n",
    "pd.Series(np.sqrt(-scores)).describe()"
   ]
  },
  {
   "cell_type": "code",
   "execution_count": 54,
   "metadata": {},
   "outputs": [
    {
     "data": {
      "text/plain": [
       "4.437032415768746"
      ]
     },
     "execution_count": 54,
     "metadata": {},
     "output_type": "execute_result"
    }
   ],
   "source": [
    "from sklearn.svm import SVR\n",
    "\n",
    "svm_reg = SVR(kernel=\"linear\")\n",
    "svm_reg.fit(housing_prepared, housing_labels)\n",
    "housing_predictions = svm_reg.predict(housing_prepared)\n",
    "svm_mse = mean_squared_error(housing_labels, housing_predictions)\n",
    "svm_rmse = np.sqrt(svm_mse)\n",
    "svm_rmse"
   ]
  },
  {
   "cell_type": "code",
   "execution_count": 55,
   "metadata": {},
   "outputs": [
    {
     "name": "stderr",
     "output_type": "stream",
     "text": [
      "C:\\Users\\EcW78\\Anaconda3\\lib\\site-packages\\sklearn\\model_selection\\_search.py:814: DeprecationWarning: The default of the `iid` parameter will change from True to False in version 0.22 and will be removed in 0.24. This will change numeric results when test-set sizes are unequal.\n",
      "  DeprecationWarning)\n"
     ]
    },
    {
     "data": {
      "text/plain": [
       "GridSearchCV(cv=5, error_score='raise-deprecating',\n",
       "             estimator=RandomForestRegressor(bootstrap=True, criterion='mse',\n",
       "                                             max_depth=None,\n",
       "                                             max_features='auto',\n",
       "                                             max_leaf_nodes=None,\n",
       "                                             min_impurity_decrease=0.0,\n",
       "                                             min_impurity_split=None,\n",
       "                                             min_samples_leaf=1,\n",
       "                                             min_samples_split=2,\n",
       "                                             min_weight_fraction_leaf=0.0,\n",
       "                                             n_estimators='warn', n_jobs=None,\n",
       "                                             oob_score=False, random_state=42,\n",
       "                                             verbose=0, warm_start=False),\n",
       "             iid='warn', n_jobs=None,\n",
       "             param_grid=[{'max_features': [2, 4, 6, 8],\n",
       "                          'n_estimators': [3, 10, 30]},\n",
       "                         {'bootstrap': [False], 'max_features': [2, 3, 4],\n",
       "                          'n_estimators': [3, 10]}],\n",
       "             pre_dispatch='2*n_jobs', refit=True, return_train_score=True,\n",
       "             scoring='neg_mean_squared_error', verbose=0)"
      ]
     },
     "execution_count": 55,
     "metadata": {},
     "output_type": "execute_result"
    }
   ],
   "source": [
    "from sklearn.model_selection import GridSearchCV\n",
    "\n",
    "param_grid = [\n",
    "    # try 12 (3×4) combinations of hyperparameters\n",
    "    {'n_estimators': [3, 10, 30], 'max_features': [2, 4, 6, 8]},\n",
    "    # then try 6 (2×3) combinations with bootstrap set as False\n",
    "    {'bootstrap': [False], 'n_estimators': [3, 10], 'max_features': [2, 3, 4]},\n",
    "  ]\n",
    "\n",
    "forest_reg = RandomForestRegressor(random_state=42)\n",
    "# train across 5 folds, that's a total of (12+6)*5=90 rounds of training \n",
    "grid_search = GridSearchCV(forest_reg, param_grid, cv=5,\n",
    "                           scoring='neg_mean_squared_error',\n",
    "                           return_train_score=True)\n",
    "grid_search.fit(housing_prepared, housing_labels)"
   ]
  },
  {
   "cell_type": "code",
   "execution_count": 56,
   "metadata": {},
   "outputs": [
    {
     "data": {
      "text/plain": [
       "{'max_features': 4, 'n_estimators': 30}"
      ]
     },
     "execution_count": 56,
     "metadata": {},
     "output_type": "execute_result"
    }
   ],
   "source": [
    "grid_search.best_params_"
   ]
  },
  {
   "cell_type": "code",
   "execution_count": 57,
   "metadata": {},
   "outputs": [
    {
     "data": {
      "text/plain": [
       "RandomForestRegressor(bootstrap=True, criterion='mse', max_depth=None,\n",
       "                      max_features=4, max_leaf_nodes=None,\n",
       "                      min_impurity_decrease=0.0, min_impurity_split=None,\n",
       "                      min_samples_leaf=1, min_samples_split=2,\n",
       "                      min_weight_fraction_leaf=0.0, n_estimators=30,\n",
       "                      n_jobs=None, oob_score=False, random_state=42, verbose=0,\n",
       "                      warm_start=False)"
      ]
     },
     "execution_count": 57,
     "metadata": {},
     "output_type": "execute_result"
    }
   ],
   "source": [
    "grid_search.best_estimator_"
   ]
  },
  {
   "cell_type": "code",
   "execution_count": 58,
   "metadata": {},
   "outputs": [
    {
     "name": "stdout",
     "output_type": "stream",
     "text": [
      "4.657520504487873 {'max_features': 2, 'n_estimators': 3}\n",
      "4.035724109364847 {'max_features': 2, 'n_estimators': 10}\n",
      "3.582068948692111 {'max_features': 2, 'n_estimators': 30}\n",
      "4.168018592556755 {'max_features': 4, 'n_estimators': 3}\n",
      "3.370443532231388 {'max_features': 4, 'n_estimators': 10}\n",
      "3.2280486779673465 {'max_features': 4, 'n_estimators': 30}\n",
      "4.2876796661705 {'max_features': 6, 'n_estimators': 3}\n",
      "3.513147301266492 {'max_features': 6, 'n_estimators': 10}\n",
      "3.2964246099404275 {'max_features': 6, 'n_estimators': 30}\n",
      "3.8093304332697344 {'max_features': 8, 'n_estimators': 3}\n",
      "3.5546759053504733 {'max_features': 8, 'n_estimators': 10}\n",
      "3.3302502697523977 {'max_features': 8, 'n_estimators': 30}\n",
      "3.9846218416710655 {'bootstrap': False, 'max_features': 2, 'n_estimators': 3}\n",
      "3.2762816628997977 {'bootstrap': False, 'max_features': 2, 'n_estimators': 10}\n",
      "3.593023584927906 {'bootstrap': False, 'max_features': 3, 'n_estimators': 3}\n",
      "3.2389104022895423 {'bootstrap': False, 'max_features': 3, 'n_estimators': 10}\n",
      "3.5907368448702712 {'bootstrap': False, 'max_features': 4, 'n_estimators': 3}\n",
      "3.2673188966302673 {'bootstrap': False, 'max_features': 4, 'n_estimators': 10}\n"
     ]
    }
   ],
   "source": [
    "cvres = grid_search.cv_results_\n",
    "for mean_score, params in zip(cvres[\"mean_test_score\"], cvres[\"params\"]):\n",
    "    print(np.sqrt(-mean_score), params)"
   ]
  },
  {
   "cell_type": "code",
   "execution_count": 59,
   "metadata": {},
   "outputs": [
    {
     "data": {
      "text/html": [
       "<div>\n",
       "<style scoped>\n",
       "    .dataframe tbody tr th:only-of-type {\n",
       "        vertical-align: middle;\n",
       "    }\n",
       "\n",
       "    .dataframe tbody tr th {\n",
       "        vertical-align: top;\n",
       "    }\n",
       "\n",
       "    .dataframe thead th {\n",
       "        text-align: right;\n",
       "    }\n",
       "</style>\n",
       "<table border=\"1\" class=\"dataframe\">\n",
       "  <thead>\n",
       "    <tr style=\"text-align: right;\">\n",
       "      <th></th>\n",
       "      <th>mean_fit_time</th>\n",
       "      <th>std_fit_time</th>\n",
       "      <th>mean_score_time</th>\n",
       "      <th>std_score_time</th>\n",
       "      <th>param_max_features</th>\n",
       "      <th>param_n_estimators</th>\n",
       "      <th>param_bootstrap</th>\n",
       "      <th>params</th>\n",
       "      <th>split0_test_score</th>\n",
       "      <th>split1_test_score</th>\n",
       "      <th>...</th>\n",
       "      <th>mean_test_score</th>\n",
       "      <th>std_test_score</th>\n",
       "      <th>rank_test_score</th>\n",
       "      <th>split0_train_score</th>\n",
       "      <th>split1_train_score</th>\n",
       "      <th>split2_train_score</th>\n",
       "      <th>split3_train_score</th>\n",
       "      <th>split4_train_score</th>\n",
       "      <th>mean_train_score</th>\n",
       "      <th>std_train_score</th>\n",
       "    </tr>\n",
       "  </thead>\n",
       "  <tbody>\n",
       "    <tr>\n",
       "      <td>0</td>\n",
       "      <td>0.004388</td>\n",
       "      <td>1.016607e-03</td>\n",
       "      <td>0.000601</td>\n",
       "      <td>4.908645e-04</td>\n",
       "      <td>2</td>\n",
       "      <td>3</td>\n",
       "      <td>NaN</td>\n",
       "      <td>{'max_features': 2, 'n_estimators': 3}</td>\n",
       "      <td>-19.544883</td>\n",
       "      <td>-12.846804</td>\n",
       "      <td>...</td>\n",
       "      <td>-21.692497</td>\n",
       "      <td>7.727233</td>\n",
       "      <td>18</td>\n",
       "      <td>-5.417884e+00</td>\n",
       "      <td>-4.852301e+00</td>\n",
       "      <td>-4.696598e+00</td>\n",
       "      <td>-6.268407e+00</td>\n",
       "      <td>-5.042397e+00</td>\n",
       "      <td>-5.255518e+00</td>\n",
       "      <td>5.608393e-01</td>\n",
       "    </tr>\n",
       "    <tr>\n",
       "      <td>1</td>\n",
       "      <td>0.010173</td>\n",
       "      <td>3.179328e-03</td>\n",
       "      <td>0.000997</td>\n",
       "      <td>6.304496e-04</td>\n",
       "      <td>2</td>\n",
       "      <td>10</td>\n",
       "      <td>NaN</td>\n",
       "      <td>{'max_features': 2, 'n_estimators': 10}</td>\n",
       "      <td>-16.399074</td>\n",
       "      <td>-11.794751</td>\n",
       "      <td>...</td>\n",
       "      <td>-16.287069</td>\n",
       "      <td>3.520783</td>\n",
       "      <td>15</td>\n",
       "      <td>-3.233433e+00</td>\n",
       "      <td>-2.230350e+00</td>\n",
       "      <td>-3.001827e+00</td>\n",
       "      <td>-3.170897e+00</td>\n",
       "      <td>-3.382313e+00</td>\n",
       "      <td>-3.003764e+00</td>\n",
       "      <td>4.055007e-01</td>\n",
       "    </tr>\n",
       "    <tr>\n",
       "      <td>2</td>\n",
       "      <td>0.021956</td>\n",
       "      <td>1.268314e-03</td>\n",
       "      <td>0.001196</td>\n",
       "      <td>3.978297e-04</td>\n",
       "      <td>2</td>\n",
       "      <td>30</td>\n",
       "      <td>NaN</td>\n",
       "      <td>{'max_features': 2, 'n_estimators': 30}</td>\n",
       "      <td>-11.779795</td>\n",
       "      <td>-9.347060</td>\n",
       "      <td>...</td>\n",
       "      <td>-12.831218</td>\n",
       "      <td>3.494188</td>\n",
       "      <td>10</td>\n",
       "      <td>-2.218237e+00</td>\n",
       "      <td>-2.006182e+00</td>\n",
       "      <td>-2.027849e+00</td>\n",
       "      <td>-1.895191e+00</td>\n",
       "      <td>-2.078801e+00</td>\n",
       "      <td>-2.045252e+00</td>\n",
       "      <td>1.052587e-01</td>\n",
       "    </tr>\n",
       "    <tr>\n",
       "      <td>3</td>\n",
       "      <td>0.002400</td>\n",
       "      <td>4.990328e-04</td>\n",
       "      <td>0.000599</td>\n",
       "      <td>4.892799e-04</td>\n",
       "      <td>4</td>\n",
       "      <td>3</td>\n",
       "      <td>NaN</td>\n",
       "      <td>{'max_features': 4, 'n_estimators': 3}</td>\n",
       "      <td>-17.423374</td>\n",
       "      <td>-12.098505</td>\n",
       "      <td>...</td>\n",
       "      <td>-17.372379</td>\n",
       "      <td>5.535652</td>\n",
       "      <td>16</td>\n",
       "      <td>-5.216047e+00</td>\n",
       "      <td>-5.383234e+00</td>\n",
       "      <td>-5.848070e+00</td>\n",
       "      <td>-4.059997e+00</td>\n",
       "      <td>-4.623371e+00</td>\n",
       "      <td>-5.026144e+00</td>\n",
       "      <td>6.220620e-01</td>\n",
       "    </tr>\n",
       "    <tr>\n",
       "      <td>4</td>\n",
       "      <td>0.007980</td>\n",
       "      <td>6.313555e-04</td>\n",
       "      <td>0.000995</td>\n",
       "      <td>1.319728e-06</td>\n",
       "      <td>4</td>\n",
       "      <td>10</td>\n",
       "      <td>NaN</td>\n",
       "      <td>{'max_features': 4, 'n_estimators': 10}</td>\n",
       "      <td>-11.252083</td>\n",
       "      <td>-8.168477</td>\n",
       "      <td>...</td>\n",
       "      <td>-11.359890</td>\n",
       "      <td>2.111769</td>\n",
       "      <td>7</td>\n",
       "      <td>-2.830100e+00</td>\n",
       "      <td>-2.868273e+00</td>\n",
       "      <td>-3.057529e+00</td>\n",
       "      <td>-2.718264e+00</td>\n",
       "      <td>-2.897672e+00</td>\n",
       "      <td>-2.874368e+00</td>\n",
       "      <td>1.099602e-01</td>\n",
       "    </tr>\n",
       "    <tr>\n",
       "      <td>5</td>\n",
       "      <td>0.022340</td>\n",
       "      <td>4.874312e-04</td>\n",
       "      <td>0.001795</td>\n",
       "      <td>3.988996e-04</td>\n",
       "      <td>4</td>\n",
       "      <td>30</td>\n",
       "      <td>NaN</td>\n",
       "      <td>{'max_features': 4, 'n_estimators': 30}</td>\n",
       "      <td>-9.387597</td>\n",
       "      <td>-7.034753</td>\n",
       "      <td>...</td>\n",
       "      <td>-10.420298</td>\n",
       "      <td>2.811046</td>\n",
       "      <td>1</td>\n",
       "      <td>-1.850406e+00</td>\n",
       "      <td>-1.842381e+00</td>\n",
       "      <td>-1.774961e+00</td>\n",
       "      <td>-1.743150e+00</td>\n",
       "      <td>-1.912202e+00</td>\n",
       "      <td>-1.824620e+00</td>\n",
       "      <td>5.958928e-02</td>\n",
       "    </tr>\n",
       "    <tr>\n",
       "      <td>6</td>\n",
       "      <td>0.003399</td>\n",
       "      <td>4.989732e-04</td>\n",
       "      <td>0.000598</td>\n",
       "      <td>4.885811e-04</td>\n",
       "      <td>6</td>\n",
       "      <td>3</td>\n",
       "      <td>NaN</td>\n",
       "      <td>{'max_features': 6, 'n_estimators': 3}</td>\n",
       "      <td>-16.767503</td>\n",
       "      <td>-12.942030</td>\n",
       "      <td>...</td>\n",
       "      <td>-18.384197</td>\n",
       "      <td>5.598378</td>\n",
       "      <td>17</td>\n",
       "      <td>-4.288844e+00</td>\n",
       "      <td>-5.927114e+00</td>\n",
       "      <td>-4.816997e+00</td>\n",
       "      <td>-5.068803e+00</td>\n",
       "      <td>-4.474342e+00</td>\n",
       "      <td>-4.915220e+00</td>\n",
       "      <td>5.733908e-01</td>\n",
       "    </tr>\n",
       "    <tr>\n",
       "      <td>7</td>\n",
       "      <td>0.009766</td>\n",
       "      <td>1.155912e-03</td>\n",
       "      <td>0.000995</td>\n",
       "      <td>2.360686e-05</td>\n",
       "      <td>6</td>\n",
       "      <td>10</td>\n",
       "      <td>NaN</td>\n",
       "      <td>{'max_features': 6, 'n_estimators': 10}</td>\n",
       "      <td>-12.080125</td>\n",
       "      <td>-8.333293</td>\n",
       "      <td>...</td>\n",
       "      <td>-12.342204</td>\n",
       "      <td>2.714147</td>\n",
       "      <td>8</td>\n",
       "      <td>-2.202277e+00</td>\n",
       "      <td>-2.512942e+00</td>\n",
       "      <td>-2.201666e+00</td>\n",
       "      <td>-2.481599e+00</td>\n",
       "      <td>-2.375379e+00</td>\n",
       "      <td>-2.354772e+00</td>\n",
       "      <td>1.328336e-01</td>\n",
       "    </tr>\n",
       "    <tr>\n",
       "      <td>8</td>\n",
       "      <td>0.027726</td>\n",
       "      <td>3.995976e-04</td>\n",
       "      <td>0.001396</td>\n",
       "      <td>4.884804e-04</td>\n",
       "      <td>6</td>\n",
       "      <td>30</td>\n",
       "      <td>NaN</td>\n",
       "      <td>{'max_features': 6, 'n_estimators': 30}</td>\n",
       "      <td>-10.326437</td>\n",
       "      <td>-7.369395</td>\n",
       "      <td>...</td>\n",
       "      <td>-10.866415</td>\n",
       "      <td>2.940419</td>\n",
       "      <td>5</td>\n",
       "      <td>-1.790831e+00</td>\n",
       "      <td>-1.681278e+00</td>\n",
       "      <td>-1.576917e+00</td>\n",
       "      <td>-1.669805e+00</td>\n",
       "      <td>-1.669797e+00</td>\n",
       "      <td>-1.677725e+00</td>\n",
       "      <td>6.796077e-02</td>\n",
       "    </tr>\n",
       "    <tr>\n",
       "      <td>9</td>\n",
       "      <td>0.003584</td>\n",
       "      <td>4.822740e-04</td>\n",
       "      <td>0.000797</td>\n",
       "      <td>3.986142e-04</td>\n",
       "      <td>8</td>\n",
       "      <td>3</td>\n",
       "      <td>NaN</td>\n",
       "      <td>{'max_features': 8, 'n_estimators': 3}</td>\n",
       "      <td>-13.381399</td>\n",
       "      <td>-7.313032</td>\n",
       "      <td>...</td>\n",
       "      <td>-14.510998</td>\n",
       "      <td>5.709836</td>\n",
       "      <td>13</td>\n",
       "      <td>-3.729542e+00</td>\n",
       "      <td>-4.769205e+00</td>\n",
       "      <td>-5.476942e+00</td>\n",
       "      <td>-3.958559e+00</td>\n",
       "      <td>-4.705504e+00</td>\n",
       "      <td>-4.527950e+00</td>\n",
       "      <td>6.248162e-01</td>\n",
       "    </tr>\n",
       "    <tr>\n",
       "      <td>10</td>\n",
       "      <td>0.010964</td>\n",
       "      <td>1.250410e-03</td>\n",
       "      <td>0.000598</td>\n",
       "      <td>4.886166e-04</td>\n",
       "      <td>8</td>\n",
       "      <td>10</td>\n",
       "      <td>NaN</td>\n",
       "      <td>{'max_features': 8, 'n_estimators': 10}</td>\n",
       "      <td>-10.576379</td>\n",
       "      <td>-8.994842</td>\n",
       "      <td>...</td>\n",
       "      <td>-12.635721</td>\n",
       "      <td>2.995639</td>\n",
       "      <td>9</td>\n",
       "      <td>-2.214729e+00</td>\n",
       "      <td>-2.427947e+00</td>\n",
       "      <td>-2.896014e+00</td>\n",
       "      <td>-2.392892e+00</td>\n",
       "      <td>-2.617789e+00</td>\n",
       "      <td>-2.509874e+00</td>\n",
       "      <td>2.316276e-01</td>\n",
       "    </tr>\n",
       "    <tr>\n",
       "      <td>11</td>\n",
       "      <td>0.031018</td>\n",
       "      <td>2.017737e-04</td>\n",
       "      <td>0.001309</td>\n",
       "      <td>4.058829e-04</td>\n",
       "      <td>8</td>\n",
       "      <td>30</td>\n",
       "      <td>NaN</td>\n",
       "      <td>{'max_features': 8, 'n_estimators': 30}</td>\n",
       "      <td>-9.875637</td>\n",
       "      <td>-7.554952</td>\n",
       "      <td>...</td>\n",
       "      <td>-11.090567</td>\n",
       "      <td>3.069455</td>\n",
       "      <td>6</td>\n",
       "      <td>-1.702038e+00</td>\n",
       "      <td>-1.855772e+00</td>\n",
       "      <td>-1.819364e+00</td>\n",
       "      <td>-1.653171e+00</td>\n",
       "      <td>-1.833540e+00</td>\n",
       "      <td>-1.772777e+00</td>\n",
       "      <td>8.007513e-02</td>\n",
       "    </tr>\n",
       "    <tr>\n",
       "      <td>12</td>\n",
       "      <td>0.002381</td>\n",
       "      <td>4.734810e-04</td>\n",
       "      <td>0.001010</td>\n",
       "      <td>2.591670e-05</td>\n",
       "      <td>2</td>\n",
       "      <td>3</td>\n",
       "      <td>False</td>\n",
       "      <td>{'bootstrap': False, 'max_features': 2, 'n_est...</td>\n",
       "      <td>-14.075940</td>\n",
       "      <td>-14.420905</td>\n",
       "      <td>...</td>\n",
       "      <td>-15.877211</td>\n",
       "      <td>4.113135</td>\n",
       "      <td>14</td>\n",
       "      <td>-2.630350e-30</td>\n",
       "      <td>-2.386121e-30</td>\n",
       "      <td>-2.764677e-30</td>\n",
       "      <td>-2.522890e-30</td>\n",
       "      <td>-2.164498e-30</td>\n",
       "      <td>-2.493707e-30</td>\n",
       "      <td>2.063497e-31</td>\n",
       "    </tr>\n",
       "    <tr>\n",
       "      <td>13</td>\n",
       "      <td>0.007779</td>\n",
       "      <td>3.989458e-04</td>\n",
       "      <td>0.000997</td>\n",
       "      <td>1.168008e-07</td>\n",
       "      <td>2</td>\n",
       "      <td>10</td>\n",
       "      <td>False</td>\n",
       "      <td>{'bootstrap': False, 'max_features': 2, 'n_est...</td>\n",
       "      <td>-10.441658</td>\n",
       "      <td>-8.243216</td>\n",
       "      <td>...</td>\n",
       "      <td>-10.734022</td>\n",
       "      <td>2.699202</td>\n",
       "      <td>4</td>\n",
       "      <td>-5.572755e-06</td>\n",
       "      <td>-1.016727e-29</td>\n",
       "      <td>-5.572755e-06</td>\n",
       "      <td>-1.047500e-29</td>\n",
       "      <td>-6.172840e-05</td>\n",
       "      <td>-1.457478e-05</td>\n",
       "      <td>2.370816e-05</td>\n",
       "    </tr>\n",
       "    <tr>\n",
       "      <td>14</td>\n",
       "      <td>0.002992</td>\n",
       "      <td>1.907349e-07</td>\n",
       "      <td>0.000798</td>\n",
       "      <td>3.988982e-04</td>\n",
       "      <td>3</td>\n",
       "      <td>3</td>\n",
       "      <td>False</td>\n",
       "      <td>{'bootstrap': False, 'max_features': 3, 'n_est...</td>\n",
       "      <td>-9.839863</td>\n",
       "      <td>-13.798326</td>\n",
       "      <td>...</td>\n",
       "      <td>-12.909818</td>\n",
       "      <td>2.510727</td>\n",
       "      <td>12</td>\n",
       "      <td>-2.630350e-30</td>\n",
       "      <td>-2.386121e-30</td>\n",
       "      <td>-2.764677e-30</td>\n",
       "      <td>-2.522890e-30</td>\n",
       "      <td>-2.164498e-30</td>\n",
       "      <td>-2.493707e-30</td>\n",
       "      <td>2.063497e-31</td>\n",
       "    </tr>\n",
       "    <tr>\n",
       "      <td>15</td>\n",
       "      <td>0.009375</td>\n",
       "      <td>1.017289e-03</td>\n",
       "      <td>0.001197</td>\n",
       "      <td>3.989458e-04</td>\n",
       "      <td>3</td>\n",
       "      <td>10</td>\n",
       "      <td>False</td>\n",
       "      <td>{'bootstrap': False, 'max_features': 3, 'n_est...</td>\n",
       "      <td>-9.265725</td>\n",
       "      <td>-10.997038</td>\n",
       "      <td>...</td>\n",
       "      <td>-10.490541</td>\n",
       "      <td>1.434682</td>\n",
       "      <td>2</td>\n",
       "      <td>-5.572755e-06</td>\n",
       "      <td>-1.016727e-29</td>\n",
       "      <td>-1.026496e-29</td>\n",
       "      <td>-1.047500e-29</td>\n",
       "      <td>-9.636764e-30</td>\n",
       "      <td>-1.114551e-06</td>\n",
       "      <td>2.229102e-06</td>\n",
       "    </tr>\n",
       "    <tr>\n",
       "      <td>16</td>\n",
       "      <td>0.003391</td>\n",
       "      <td>4.886555e-04</td>\n",
       "      <td>0.000598</td>\n",
       "      <td>4.886166e-04</td>\n",
       "      <td>4</td>\n",
       "      <td>3</td>\n",
       "      <td>False</td>\n",
       "      <td>{'bootstrap': False, 'max_features': 4, 'n_est...</td>\n",
       "      <td>-10.823813</td>\n",
       "      <td>-14.226379</td>\n",
       "      <td>...</td>\n",
       "      <td>-12.893391</td>\n",
       "      <td>3.983263</td>\n",
       "      <td>11</td>\n",
       "      <td>-2.630350e-30</td>\n",
       "      <td>-2.386121e-30</td>\n",
       "      <td>-2.764677e-30</td>\n",
       "      <td>-2.522890e-30</td>\n",
       "      <td>-2.164498e-30</td>\n",
       "      <td>-2.493707e-30</td>\n",
       "      <td>2.063497e-31</td>\n",
       "    </tr>\n",
       "    <tr>\n",
       "      <td>17</td>\n",
       "      <td>0.010372</td>\n",
       "      <td>7.978678e-04</td>\n",
       "      <td>0.000599</td>\n",
       "      <td>4.887334e-04</td>\n",
       "      <td>4</td>\n",
       "      <td>10</td>\n",
       "      <td>False</td>\n",
       "      <td>{'bootstrap': False, 'max_features': 4, 'n_est...</td>\n",
       "      <td>-8.051647</td>\n",
       "      <td>-8.421525</td>\n",
       "      <td>...</td>\n",
       "      <td>-10.675373</td>\n",
       "      <td>3.189124</td>\n",
       "      <td>3</td>\n",
       "      <td>-9.864425e-30</td>\n",
       "      <td>-1.016727e-29</td>\n",
       "      <td>-1.026496e-29</td>\n",
       "      <td>-1.047500e-29</td>\n",
       "      <td>-9.636764e-30</td>\n",
       "      <td>-1.008168e-29</td>\n",
       "      <td>2.969064e-31</td>\n",
       "    </tr>\n",
       "  </tbody>\n",
       "</table>\n",
       "<p>18 rows × 23 columns</p>\n",
       "</div>"
      ],
      "text/plain": [
       "    mean_fit_time  std_fit_time  mean_score_time  std_score_time  \\\n",
       "0        0.004388  1.016607e-03         0.000601    4.908645e-04   \n",
       "1        0.010173  3.179328e-03         0.000997    6.304496e-04   \n",
       "2        0.021956  1.268314e-03         0.001196    3.978297e-04   \n",
       "3        0.002400  4.990328e-04         0.000599    4.892799e-04   \n",
       "4        0.007980  6.313555e-04         0.000995    1.319728e-06   \n",
       "5        0.022340  4.874312e-04         0.001795    3.988996e-04   \n",
       "6        0.003399  4.989732e-04         0.000598    4.885811e-04   \n",
       "7        0.009766  1.155912e-03         0.000995    2.360686e-05   \n",
       "8        0.027726  3.995976e-04         0.001396    4.884804e-04   \n",
       "9        0.003584  4.822740e-04         0.000797    3.986142e-04   \n",
       "10       0.010964  1.250410e-03         0.000598    4.886166e-04   \n",
       "11       0.031018  2.017737e-04         0.001309    4.058829e-04   \n",
       "12       0.002381  4.734810e-04         0.001010    2.591670e-05   \n",
       "13       0.007779  3.989458e-04         0.000997    1.168008e-07   \n",
       "14       0.002992  1.907349e-07         0.000798    3.988982e-04   \n",
       "15       0.009375  1.017289e-03         0.001197    3.989458e-04   \n",
       "16       0.003391  4.886555e-04         0.000598    4.886166e-04   \n",
       "17       0.010372  7.978678e-04         0.000599    4.887334e-04   \n",
       "\n",
       "   param_max_features param_n_estimators param_bootstrap  \\\n",
       "0                   2                  3             NaN   \n",
       "1                   2                 10             NaN   \n",
       "2                   2                 30             NaN   \n",
       "3                   4                  3             NaN   \n",
       "4                   4                 10             NaN   \n",
       "5                   4                 30             NaN   \n",
       "6                   6                  3             NaN   \n",
       "7                   6                 10             NaN   \n",
       "8                   6                 30             NaN   \n",
       "9                   8                  3             NaN   \n",
       "10                  8                 10             NaN   \n",
       "11                  8                 30             NaN   \n",
       "12                  2                  3           False   \n",
       "13                  2                 10           False   \n",
       "14                  3                  3           False   \n",
       "15                  3                 10           False   \n",
       "16                  4                  3           False   \n",
       "17                  4                 10           False   \n",
       "\n",
       "                                               params  split0_test_score  \\\n",
       "0              {'max_features': 2, 'n_estimators': 3}         -19.544883   \n",
       "1             {'max_features': 2, 'n_estimators': 10}         -16.399074   \n",
       "2             {'max_features': 2, 'n_estimators': 30}         -11.779795   \n",
       "3              {'max_features': 4, 'n_estimators': 3}         -17.423374   \n",
       "4             {'max_features': 4, 'n_estimators': 10}         -11.252083   \n",
       "5             {'max_features': 4, 'n_estimators': 30}          -9.387597   \n",
       "6              {'max_features': 6, 'n_estimators': 3}         -16.767503   \n",
       "7             {'max_features': 6, 'n_estimators': 10}         -12.080125   \n",
       "8             {'max_features': 6, 'n_estimators': 30}         -10.326437   \n",
       "9              {'max_features': 8, 'n_estimators': 3}         -13.381399   \n",
       "10            {'max_features': 8, 'n_estimators': 10}         -10.576379   \n",
       "11            {'max_features': 8, 'n_estimators': 30}          -9.875637   \n",
       "12  {'bootstrap': False, 'max_features': 2, 'n_est...         -14.075940   \n",
       "13  {'bootstrap': False, 'max_features': 2, 'n_est...         -10.441658   \n",
       "14  {'bootstrap': False, 'max_features': 3, 'n_est...          -9.839863   \n",
       "15  {'bootstrap': False, 'max_features': 3, 'n_est...          -9.265725   \n",
       "16  {'bootstrap': False, 'max_features': 4, 'n_est...         -10.823813   \n",
       "17  {'bootstrap': False, 'max_features': 4, 'n_est...          -8.051647   \n",
       "\n",
       "    split1_test_score  ...  mean_test_score  std_test_score  rank_test_score  \\\n",
       "0          -12.846804  ...       -21.692497        7.727233               18   \n",
       "1          -11.794751  ...       -16.287069        3.520783               15   \n",
       "2           -9.347060  ...       -12.831218        3.494188               10   \n",
       "3          -12.098505  ...       -17.372379        5.535652               16   \n",
       "4           -8.168477  ...       -11.359890        2.111769                7   \n",
       "5           -7.034753  ...       -10.420298        2.811046                1   \n",
       "6          -12.942030  ...       -18.384197        5.598378               17   \n",
       "7           -8.333293  ...       -12.342204        2.714147                8   \n",
       "8           -7.369395  ...       -10.866415        2.940419                5   \n",
       "9           -7.313032  ...       -14.510998        5.709836               13   \n",
       "10          -8.994842  ...       -12.635721        2.995639                9   \n",
       "11          -7.554952  ...       -11.090567        3.069455                6   \n",
       "12         -14.420905  ...       -15.877211        4.113135               14   \n",
       "13          -8.243216  ...       -10.734022        2.699202                4   \n",
       "14         -13.798326  ...       -12.909818        2.510727               12   \n",
       "15         -10.997038  ...       -10.490541        1.434682                2   \n",
       "16         -14.226379  ...       -12.893391        3.983263               11   \n",
       "17          -8.421525  ...       -10.675373        3.189124                3   \n",
       "\n",
       "    split0_train_score  split1_train_score  split2_train_score  \\\n",
       "0        -5.417884e+00       -4.852301e+00       -4.696598e+00   \n",
       "1        -3.233433e+00       -2.230350e+00       -3.001827e+00   \n",
       "2        -2.218237e+00       -2.006182e+00       -2.027849e+00   \n",
       "3        -5.216047e+00       -5.383234e+00       -5.848070e+00   \n",
       "4        -2.830100e+00       -2.868273e+00       -3.057529e+00   \n",
       "5        -1.850406e+00       -1.842381e+00       -1.774961e+00   \n",
       "6        -4.288844e+00       -5.927114e+00       -4.816997e+00   \n",
       "7        -2.202277e+00       -2.512942e+00       -2.201666e+00   \n",
       "8        -1.790831e+00       -1.681278e+00       -1.576917e+00   \n",
       "9        -3.729542e+00       -4.769205e+00       -5.476942e+00   \n",
       "10       -2.214729e+00       -2.427947e+00       -2.896014e+00   \n",
       "11       -1.702038e+00       -1.855772e+00       -1.819364e+00   \n",
       "12       -2.630350e-30       -2.386121e-30       -2.764677e-30   \n",
       "13       -5.572755e-06       -1.016727e-29       -5.572755e-06   \n",
       "14       -2.630350e-30       -2.386121e-30       -2.764677e-30   \n",
       "15       -5.572755e-06       -1.016727e-29       -1.026496e-29   \n",
       "16       -2.630350e-30       -2.386121e-30       -2.764677e-30   \n",
       "17       -9.864425e-30       -1.016727e-29       -1.026496e-29   \n",
       "\n",
       "    split3_train_score  split4_train_score  mean_train_score  std_train_score  \n",
       "0        -6.268407e+00       -5.042397e+00     -5.255518e+00     5.608393e-01  \n",
       "1        -3.170897e+00       -3.382313e+00     -3.003764e+00     4.055007e-01  \n",
       "2        -1.895191e+00       -2.078801e+00     -2.045252e+00     1.052587e-01  \n",
       "3        -4.059997e+00       -4.623371e+00     -5.026144e+00     6.220620e-01  \n",
       "4        -2.718264e+00       -2.897672e+00     -2.874368e+00     1.099602e-01  \n",
       "5        -1.743150e+00       -1.912202e+00     -1.824620e+00     5.958928e-02  \n",
       "6        -5.068803e+00       -4.474342e+00     -4.915220e+00     5.733908e-01  \n",
       "7        -2.481599e+00       -2.375379e+00     -2.354772e+00     1.328336e-01  \n",
       "8        -1.669805e+00       -1.669797e+00     -1.677725e+00     6.796077e-02  \n",
       "9        -3.958559e+00       -4.705504e+00     -4.527950e+00     6.248162e-01  \n",
       "10       -2.392892e+00       -2.617789e+00     -2.509874e+00     2.316276e-01  \n",
       "11       -1.653171e+00       -1.833540e+00     -1.772777e+00     8.007513e-02  \n",
       "12       -2.522890e-30       -2.164498e-30     -2.493707e-30     2.063497e-31  \n",
       "13       -1.047500e-29       -6.172840e-05     -1.457478e-05     2.370816e-05  \n",
       "14       -2.522890e-30       -2.164498e-30     -2.493707e-30     2.063497e-31  \n",
       "15       -1.047500e-29       -9.636764e-30     -1.114551e-06     2.229102e-06  \n",
       "16       -2.522890e-30       -2.164498e-30     -2.493707e-30     2.063497e-31  \n",
       "17       -1.047500e-29       -9.636764e-30     -1.008168e-29     2.969064e-31  \n",
       "\n",
       "[18 rows x 23 columns]"
      ]
     },
     "execution_count": 59,
     "metadata": {},
     "output_type": "execute_result"
    }
   ],
   "source": [
    "pd.DataFrame(grid_search.cv_results_)"
   ]
  },
  {
   "cell_type": "code",
   "execution_count": 82,
   "metadata": {},
   "outputs": [
    {
     "name": "stderr",
     "output_type": "stream",
     "text": [
      "C:\\Users\\EcW78\\Anaconda3\\lib\\site-packages\\sklearn\\model_selection\\_search.py:814: DeprecationWarning: The default of the `iid` parameter will change from True to False in version 0.22 and will be removed in 0.24. This will change numeric results when test-set sizes are unequal.\n",
      "  DeprecationWarning)\n"
     ]
    },
    {
     "data": {
      "text/plain": [
       "RandomizedSearchCV(cv=5, error_score='raise-deprecating',\n",
       "                   estimator=RandomForestRegressor(bootstrap=True,\n",
       "                                                   criterion='mse',\n",
       "                                                   max_depth=None,\n",
       "                                                   max_features='auto',\n",
       "                                                   max_leaf_nodes=None,\n",
       "                                                   min_impurity_decrease=0.0,\n",
       "                                                   min_impurity_split=None,\n",
       "                                                   min_samples_leaf=1,\n",
       "                                                   min_samples_split=2,\n",
       "                                                   min_weight_fraction_leaf=0.0,\n",
       "                                                   n_estimators='warn',\n",
       "                                                   n_jobs=None, oob_score=False,\n",
       "                                                   random_sta...\n",
       "                                                   warm_start=False),\n",
       "                   iid='warn', n_iter=10, n_jobs=None,\n",
       "                   param_distributions={'max_features': <scipy.stats._distn_infrastructure.rv_frozen object at 0x000001BF60448AC8>,\n",
       "                                        'n_estimators': <scipy.stats._distn_infrastructure.rv_frozen object at 0x000001BF60448B88>},\n",
       "                   pre_dispatch='2*n_jobs', random_state=42, refit=True,\n",
       "                   return_train_score=False, scoring='neg_mean_squared_error',\n",
       "                   verbose=0)"
      ]
     },
     "execution_count": 82,
     "metadata": {},
     "output_type": "execute_result"
    }
   ],
   "source": [
    "from sklearn.model_selection import RandomizedSearchCV\n",
    "from scipy.stats import randint\n",
    "\n",
    "param_distribs = {\n",
    "        'n_estimators': randint(low=1, high=200),\n",
    "        'max_features': randint(low=1, high=8),\n",
    "    }\n",
    "\n",
    "forest_reg = RandomForestRegressor(random_state=42)\n",
    "rnd_search = RandomizedSearchCV(forest_reg, param_distributions=param_distribs,\n",
    "                                n_iter=10, cv=5, scoring='neg_mean_squared_error', random_state=42)\n",
    "rnd_search.fit(housing_prepared, housing_labels)"
   ]
  },
  {
   "cell_type": "code",
   "execution_count": 61,
   "metadata": {},
   "outputs": [
    {
     "name": "stdout",
     "output_type": "stream",
     "text": [
      "3.1945836659526607 {'max_features': 7, 'n_estimators': 180}\n",
      "3.4413545955256066 {'max_features': 5, 'n_estimators': 15}\n",
      "3.412064944408931 {'max_features': 3, 'n_estimators': 72}\n",
      "3.335093493650778 {'max_features': 5, 'n_estimators': 21}\n",
      "3.1906695574871486 {'max_features': 7, 'n_estimators': 122}\n",
      "3.41133690906523 {'max_features': 3, 'n_estimators': 75}\n",
      "3.3878831506641136 {'max_features': 3, 'n_estimators': 88}\n",
      "3.229322583226187 {'max_features': 5, 'n_estimators': 100}\n",
      "3.3460565013999757 {'max_features': 3, 'n_estimators': 150}\n",
      "4.392161531728094 {'max_features': 5, 'n_estimators': 2}\n"
     ]
    }
   ],
   "source": [
    "cvres = rnd_search.cv_results_\n",
    "for mean_score, params in zip(cvres[\"mean_test_score\"], cvres[\"params\"]):\n",
    "    print(np.sqrt(-mean_score), params)"
   ]
  },
  {
   "cell_type": "code",
   "execution_count": 62,
   "metadata": {},
   "outputs": [
    {
     "data": {
      "text/plain": [
       "array([0.03255834, 0.00561189, 0.05094867, 0.00079486, 0.02531644,\n",
       "       0.16299847, 0.01750809, 0.03687915, 0.0085184 , 0.01992076,\n",
       "       0.03222608, 0.01557437, 0.15016763, 0.22424609, 0.12156226,\n",
       "       0.09516851])"
      ]
     },
     "execution_count": 62,
     "metadata": {},
     "output_type": "execute_result"
    }
   ],
   "source": [
    "feature_importances = grid_search.best_estimator_.feature_importances_\n",
    "feature_importances"
   ]
  },
  {
   "cell_type": "code",
   "execution_count": 71,
   "metadata": {},
   "outputs": [
    {
     "data": {
      "text/plain": [
       "[(0.22424609240707025, 'rooms_per_lowerStatus'),\n",
       " (0.16299846569578283, 'RM'),\n",
       " (0.1501676329197516, 'LSTAT'),\n",
       " (0.12156225690002094, 'blacks_per_lowerStatus'),\n",
       " (0.09516851041260097, 'rooms_per_taxrate'),\n",
       " (0.050948667239781996, 'INDUS'),\n",
       " (0.036879148166165575, 'DIS'),\n",
       " (0.032558342446629786, 'CRIM'),\n",
       " (0.03222608456059943, 'PTRATIO'),\n",
       " (0.025316436190419653, 'NOX'),\n",
       " (0.01992075593586144, 'TAX'),\n",
       " (0.017508087826358147, 'AGE'),\n",
       " (0.015574367735983292, 'B'),\n",
       " (0.008518404713671508, 'RAD'),\n",
       " (0.005611885246955503, 'ZN'),\n",
       " (0.0007948616023470642, 'CHAS')]"
      ]
     },
     "execution_count": 71,
     "metadata": {},
     "output_type": "execute_result"
    }
   ],
   "source": [
    "extra_attribs = [\"rooms_per_lowerStatus\", \"blacks_per_lowerStatus\", \"rooms_per_taxrate\"]\n",
    "#cat_encoder = cat_pipeline.named_steps[\"cat_encoder\"] # old solution\n",
    "# cat_encoder = full_pipeline.named_transformers_[\"cat\"]\n",
    "# cat_one_hot_attribs = list(cat_encoder.categories_[0])\n",
    "# attributes = num_attribs + extra_attribs + cat_one_hot_attribs   \n",
    "\n",
    "# no need for Key \"cat\", as that deals with attribute \"ocean_proximity\" from textbook\n",
    "attributes = num_attribs + extra_attribs\n",
    "sorted(zip(feature_importances, attributes), reverse=True)"
   ]
  },
  {
   "cell_type": "code",
   "execution_count": 73,
   "metadata": {},
   "outputs": [],
   "source": [
    "final_model = grid_search.best_estimator_\n",
    "\n",
    "X_test = strat_test_set.drop(\"MEDV\", axis=1)\n",
    "y_test = strat_test_set[\"\"].copy()\n",
    "\n",
    "X_test_prepared = full_pipeline.transform(X_test)\n",
    "final_predictions = final_model.predict(X_test_prepared)\n",
    "\n",
    "final_mse = mean_squared_error(y_test, final_predictions)\n",
    "final_rmse = np.sqrt(final_mse)"
   ]
  },
  {
   "cell_type": "code",
   "execution_count": 81,
   "metadata": {},
   "outputs": [
    {
     "data": {
      "text/plain": [
       "3.3738132909223593"
      ]
     },
     "execution_count": 81,
     "metadata": {},
     "output_type": "execute_result"
    }
   ],
   "source": [
    "final_rmse"
   ]
  },
  {
   "cell_type": "markdown",
   "metadata": {},
   "source": [
    "Computing a 95% CI for the test RMSE:"
   ]
  },
  {
   "cell_type": "code",
   "execution_count": 76,
   "metadata": {},
   "outputs": [
    {
     "data": {
      "text/plain": [
       "array([2.12355095, 4.2726764 ])"
      ]
     },
     "execution_count": 76,
     "metadata": {},
     "output_type": "execute_result"
    }
   ],
   "source": [
    "from scipy import stats\n",
    "\n",
    "confidence = 0.95\n",
    "squared_errors = (final_predictions - y_test) ** 2\n",
    "np.sqrt(stats.t.interval(confidence, len(squared_errors) - 1,\n",
    "                         loc=squared_errors.mean(),\n",
    "                         scale=stats.sem(squared_errors)))"
   ]
  },
  {
   "cell_type": "markdown",
   "metadata": {},
   "source": [
    "## Extra Material"
   ]
  },
  {
   "cell_type": "markdown",
   "metadata": {},
   "source": [
    "## A full pipeline with both preparation and prediction"
   ]
  },
  {
   "cell_type": "code",
   "execution_count": 77,
   "metadata": {},
   "outputs": [
    {
     "data": {
      "text/plain": [
       "array([20.0584383 , 21.27987018, 18.31707272, 27.77100735, 14.7327443 ])"
      ]
     },
     "execution_count": 77,
     "metadata": {},
     "output_type": "execute_result"
    }
   ],
   "source": [
    "full_pipeline_with_predictor = Pipeline([\n",
    "        (\"preparation\", full_pipeline),\n",
    "        (\"linear\", LinearRegression())\n",
    "    ])\n",
    "\n",
    "full_pipeline_with_predictor.fit(housing, housing_labels)\n",
    "full_pipeline_with_predictor.predict(some_data)"
   ]
  },
  {
   "cell_type": "markdown",
   "metadata": {},
   "source": [
    "## Model persistence using joblib"
   ]
  },
  {
   "cell_type": "code",
   "execution_count": 78,
   "metadata": {},
   "outputs": [],
   "source": [
    "my_model = full_pipeline_with_predictor"
   ]
  },
  {
   "cell_type": "code",
   "execution_count": 79,
   "metadata": {},
   "outputs": [],
   "source": [
    "import joblib\n",
    "joblib.dump(my_model, \"my_model.pkl\") # DIFF\n",
    "#...\n",
    "my_model_loaded = joblib.load(\"my_model.pkl\") # DIFF"
   ]
  },
  {
   "cell_type": "markdown",
   "metadata": {},
   "source": [
    "## Example SciPy distributions for `RandomizedSearchCV`"
   ]
  },
  {
   "cell_type": "code",
   "execution_count": 80,
   "metadata": {},
   "outputs": [
    {
     "data": {
      "image/png": "[encoded data removed]",
      "text/plain": [
       "<Figure size 432x288 with 1 Axes>"
      ]
     },
     "metadata": {
      "needs_background": "light"
     },
     "output_type": "display_data"
    },
    {
     "data": {
      "image/png": "[encoded data removed]",
      "text/plain": [
       "<Figure size 432x288 with 1 Axes>"
      ]
     },
     "metadata": {
      "needs_background": "light"
     },
     "output_type": "display_data"
    }
   ],
   "source": [
    "from scipy.stats import geom, expon\n",
    "geom_distrib=geom(0.5).rvs(10000, random_state=42)\n",
    "expon_distrib=expon(scale=1).rvs(10000, random_state=42)\n",
    "plt.hist(geom_distrib, bins=50)\n",
    "plt.show()\n",
    "plt.hist(expon_distrib, bins=50)\n",
    "plt.show()"
   ]
  }
 ],
 "metadata": {
  "kernelspec": {
   "display_name": "Python 3",
   "language": "python",
   "name": "python3"
  },
  "language_info": {
   "codemirror_mode": {
    "name": "ipython",
    "version": 3
   },
   "file_extension": ".py",
   "mimetype": "text/x-python",
   "name": "python",
   "nbconvert_exporter": "python",
   "pygments_lexer": "ipython3",
   "version": "3.6.5"
  }
 },
 "nbformat": 4,
 "nbformat_minor": 2
}
