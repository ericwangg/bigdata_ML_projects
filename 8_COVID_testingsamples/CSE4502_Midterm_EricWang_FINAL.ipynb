{
 "cells": [
  {
   "cell_type": "markdown",
   "metadata": {},
   "source": [
    "# CSE4502 Midterm"
   ]
  },
  {
   "cell_type": "markdown",
   "metadata": {},
   "source": [
    "## Problem 1 (100 points) Automatic Coronavirus Test Kits"
   ]
  },
  {
   "cell_type": "markdown",
   "metadata": {},
   "source": [
    "The fast automatic test kits lab is asking for help. The lab already developed a fast coronavirus test kit that can automate the testing of coronavirus. What they need help with is to improve the performance of their test kit in terms of recall and precision.\n",
    "\n",
    "The test kit can automatically take 25 different measurements. The reading of the first measurement x1 is categorical. The rest of the readings x2 to x25 are numerical.\n",
    "\n",
    "The lab provided us a training set of 30, 000 samples, and a test set of 10, 000 samples. The data sets are in the form of .csv files. The file names are train.csv and test.csv respectively. In both data sets, the last column y is the label of a sample, where value 1 means positive, and value 0 means negative. A positive label indicates the sample is from a patient infected\n",
    "by the coronavirus.\n",
    "\n",
    "Our job is to use the training data to train a classifier that can achieve 100% recall and at least 70% of precision. Once we can convinced that we have a classifier that can achieve this goal, we use the test set to test whether we indeed can achieve these requirements in the test set.\n"
   ]
  },
  {
   "cell_type": "markdown",
   "metadata": {},
   "source": [
    "***Save the code in midterm.ipynb and submit it to HuskyCT by the deadline.\n",
    "The submission should include the following steps. Whenever applicable, use\n",
    "random state=42.***"
   ]
  },
  {
   "cell_type": "markdown",
   "metadata": {},
   "source": [
    "1. Read train.csv\n",
    "2. Obtain the high level information of the dataset.\n",
    "3.  Plot histograms of all the attributes.\n",
    "4. Handle both categorical and numerical attributes. And use pipelines to prepare data for later steps.\n",
    "5.  Report the importance of each attribute by using the random forest classifier\n",
    "6.  Train 3 different promising classifiers in terms of accuracy, and use these classifiers to obtain a soft-voting classifier.\n",
    "    * Report the accuracy of each of these classifiers.\n",
    "    * Use 3-fold cross-validation for this step\n",
    "7. Explore the above 4 classifiers on the recall and precision trade-off and find a classifier that suits our purpose the most.\n",
    "    * Plot the ROC curves for these classifiers.\n",
    "    * Calculate the ROC AUC scores for these classifiers.\n",
    "    * Plot the precision versus recall for these classifiers\n",
    "    * Find out the precision for each classifier when the recall is 1, and use these values to choose the classifier for our purpose.\n",
    "8. Fine-tune the hyperparameters for the chosen classifier in terms of recall.\n",
    "9. Use the best hyperparameters obtain above for the classifier to obtain the precision value when the recall is 1 using 3-fold cross-validation. If the precision is well above our target 0.70, go to the last step.\n",
    "10. Use the test data from test.csv to check whether we can achieve the proposed requirement on recall and precision."
   ]
  },
  {
   "cell_type": "markdown",
   "metadata": {},
   "source": [
    "### 1. Reading the train.csv"
   ]
  },
  {
   "cell_type": "code",
   "execution_count": 1,
   "metadata": {},
   "outputs": [],
   "source": [
    "import numpy as np\n",
    "import os\n",
    "import pandas as pd\n",
    "\n",
    "np.random.seed(42)"
   ]
  },
  {
   "cell_type": "markdown",
   "metadata": {},
   "source": [
    "***I'm chosing to load the test.csv in now so as to do preprocessing with both set simultaneously so as to not miss this later when the test data is needed. We will not plot histograms of any test.csv attributes, but will perform OneHotEncoding on x1***"
   ]
  },
  {
   "cell_type": "code",
   "execution_count": 2,
   "metadata": {},
   "outputs": [
    {
     "data": {
      "text/html": [
       "<div>\n",
       "<style scoped>\n",
       "    .dataframe tbody tr th:only-of-type {\n",
       "        vertical-align: middle;\n",
       "    }\n",
       "\n",
       "    .dataframe tbody tr th {\n",
       "        vertical-align: top;\n",
       "    }\n",
       "\n",
       "    .dataframe thead th {\n",
       "        text-align: right;\n",
       "    }\n",
       "</style>\n",
       "<table border=\"1\" class=\"dataframe\">\n",
       "  <thead>\n",
       "    <tr style=\"text-align: right;\">\n",
       "      <th></th>\n",
       "      <th>x1</th>\n",
       "      <th>x2</th>\n",
       "      <th>x3</th>\n",
       "      <th>x4</th>\n",
       "      <th>x5</th>\n",
       "      <th>x6</th>\n",
       "      <th>x7</th>\n",
       "      <th>x8</th>\n",
       "      <th>x9</th>\n",
       "      <th>x10</th>\n",
       "      <th>...</th>\n",
       "      <th>x17</th>\n",
       "      <th>x18</th>\n",
       "      <th>x19</th>\n",
       "      <th>x20</th>\n",
       "      <th>x21</th>\n",
       "      <th>x22</th>\n",
       "      <th>x23</th>\n",
       "      <th>x24</th>\n",
       "      <th>x25</th>\n",
       "      <th>y</th>\n",
       "    </tr>\n",
       "  </thead>\n",
       "  <tbody>\n",
       "    <tr>\n",
       "      <th>0</th>\n",
       "      <td>3.0</td>\n",
       "      <td>-0.183355</td>\n",
       "      <td>-4.634184</td>\n",
       "      <td>1.184842</td>\n",
       "      <td>5.470261</td>\n",
       "      <td>3.672736</td>\n",
       "      <td>-4.030212</td>\n",
       "      <td>2.689942</td>\n",
       "      <td>8.962724</td>\n",
       "      <td>2.484879</td>\n",
       "      <td>...</td>\n",
       "      <td>-15.994611</td>\n",
       "      <td>15.024532</td>\n",
       "      <td>23.204973</td>\n",
       "      <td>2.528437</td>\n",
       "      <td>8.962604</td>\n",
       "      <td>0.266541</td>\n",
       "      <td>-1.383385</td>\n",
       "      <td>-1.029273</td>\n",
       "      <td>1.711146</td>\n",
       "      <td>1.0</td>\n",
       "    </tr>\n",
       "    <tr>\n",
       "      <th>1</th>\n",
       "      <td>2.0</td>\n",
       "      <td>1.643093</td>\n",
       "      <td>0.232917</td>\n",
       "      <td>-3.235598</td>\n",
       "      <td>-0.082242</td>\n",
       "      <td>-6.190242</td>\n",
       "      <td>-2.308474</td>\n",
       "      <td>-0.968020</td>\n",
       "      <td>-5.374390</td>\n",
       "      <td>2.460543</td>\n",
       "      <td>...</td>\n",
       "      <td>22.711908</td>\n",
       "      <td>45.220479</td>\n",
       "      <td>-0.635627</td>\n",
       "      <td>22.675962</td>\n",
       "      <td>32.937243</td>\n",
       "      <td>-1.082314</td>\n",
       "      <td>0.571426</td>\n",
       "      <td>-0.063689</td>\n",
       "      <td>-3.122653</td>\n",
       "      <td>1.0</td>\n",
       "    </tr>\n",
       "    <tr>\n",
       "      <th>2</th>\n",
       "      <td>1.0</td>\n",
       "      <td>0.812938</td>\n",
       "      <td>0.095642</td>\n",
       "      <td>-1.170322</td>\n",
       "      <td>-1.808930</td>\n",
       "      <td>-2.618295</td>\n",
       "      <td>1.613534</td>\n",
       "      <td>-5.186820</td>\n",
       "      <td>-0.011963</td>\n",
       "      <td>3.381312</td>\n",
       "      <td>...</td>\n",
       "      <td>-3.333037</td>\n",
       "      <td>-8.586271</td>\n",
       "      <td>-3.326587</td>\n",
       "      <td>5.033094</td>\n",
       "      <td>-5.385510</td>\n",
       "      <td>-1.281024</td>\n",
       "      <td>-0.788055</td>\n",
       "      <td>0.505804</td>\n",
       "      <td>-0.891985</td>\n",
       "      <td>0.0</td>\n",
       "    </tr>\n",
       "    <tr>\n",
       "      <th>3</th>\n",
       "      <td>2.0</td>\n",
       "      <td>-0.250723</td>\n",
       "      <td>0.011880</td>\n",
       "      <td>2.086732</td>\n",
       "      <td>-2.476512</td>\n",
       "      <td>-0.265453</td>\n",
       "      <td>4.399695</td>\n",
       "      <td>-0.159362</td>\n",
       "      <td>0.674294</td>\n",
       "      <td>-7.503565</td>\n",
       "      <td>...</td>\n",
       "      <td>4.438590</td>\n",
       "      <td>9.183342</td>\n",
       "      <td>7.087640</td>\n",
       "      <td>25.453062</td>\n",
       "      <td>12.087652</td>\n",
       "      <td>-0.613746</td>\n",
       "      <td>0.141558</td>\n",
       "      <td>-0.206084</td>\n",
       "      <td>0.538862</td>\n",
       "      <td>0.0</td>\n",
       "    </tr>\n",
       "    <tr>\n",
       "      <th>4</th>\n",
       "      <td>2.0</td>\n",
       "      <td>1.215325</td>\n",
       "      <td>1.675581</td>\n",
       "      <td>2.193322</td>\n",
       "      <td>2.983158</td>\n",
       "      <td>0.007759</td>\n",
       "      <td>2.983193</td>\n",
       "      <td>2.731582</td>\n",
       "      <td>2.418476</td>\n",
       "      <td>-6.947729</td>\n",
       "      <td>...</td>\n",
       "      <td>-21.198210</td>\n",
       "      <td>19.839208</td>\n",
       "      <td>9.945454</td>\n",
       "      <td>13.003429</td>\n",
       "      <td>-10.114149</td>\n",
       "      <td>-0.111361</td>\n",
       "      <td>-0.954487</td>\n",
       "      <td>0.825140</td>\n",
       "      <td>1.437519</td>\n",
       "      <td>1.0</td>\n",
       "    </tr>\n",
       "    <tr>\n",
       "      <th>5</th>\n",
       "      <td>3.0</td>\n",
       "      <td>-0.586428</td>\n",
       "      <td>1.458492</td>\n",
       "      <td>2.502627</td>\n",
       "      <td>5.459522</td>\n",
       "      <td>-0.464288</td>\n",
       "      <td>-3.323099</td>\n",
       "      <td>12.077233</td>\n",
       "      <td>-5.563451</td>\n",
       "      <td>3.322810</td>\n",
       "      <td>...</td>\n",
       "      <td>-0.711339</td>\n",
       "      <td>21.769618</td>\n",
       "      <td>-0.028254</td>\n",
       "      <td>34.139830</td>\n",
       "      <td>16.388355</td>\n",
       "      <td>1.094223</td>\n",
       "      <td>-0.006528</td>\n",
       "      <td>-0.308278</td>\n",
       "      <td>-0.269354</td>\n",
       "      <td>1.0</td>\n",
       "    </tr>\n",
       "    <tr>\n",
       "      <th>6</th>\n",
       "      <td>3.0</td>\n",
       "      <td>0.100524</td>\n",
       "      <td>-1.388749</td>\n",
       "      <td>-2.665432</td>\n",
       "      <td>-6.028741</td>\n",
       "      <td>2.039358</td>\n",
       "      <td>4.406920</td>\n",
       "      <td>-8.420067</td>\n",
       "      <td>4.183515</td>\n",
       "      <td>7.966043</td>\n",
       "      <td>...</td>\n",
       "      <td>-0.759000</td>\n",
       "      <td>20.886151</td>\n",
       "      <td>20.667753</td>\n",
       "      <td>-5.444716</td>\n",
       "      <td>-9.691848</td>\n",
       "      <td>0.106968</td>\n",
       "      <td>0.289668</td>\n",
       "      <td>0.463266</td>\n",
       "      <td>0.544190</td>\n",
       "      <td>1.0</td>\n",
       "    </tr>\n",
       "    <tr>\n",
       "      <th>7</th>\n",
       "      <td>3.0</td>\n",
       "      <td>-0.807155</td>\n",
       "      <td>-0.410471</td>\n",
       "      <td>5.684534</td>\n",
       "      <td>-5.024604</td>\n",
       "      <td>-1.326458</td>\n",
       "      <td>1.545482</td>\n",
       "      <td>12.270015</td>\n",
       "      <td>4.611056</td>\n",
       "      <td>-0.723930</td>\n",
       "      <td>...</td>\n",
       "      <td>3.904253</td>\n",
       "      <td>2.738676</td>\n",
       "      <td>-18.404293</td>\n",
       "      <td>29.809074</td>\n",
       "      <td>45.261686</td>\n",
       "      <td>-0.390345</td>\n",
       "      <td>-1.810121</td>\n",
       "      <td>0.363185</td>\n",
       "      <td>-0.118386</td>\n",
       "      <td>1.0</td>\n",
       "    </tr>\n",
       "    <tr>\n",
       "      <th>8</th>\n",
       "      <td>3.0</td>\n",
       "      <td>-0.336882</td>\n",
       "      <td>-0.588544</td>\n",
       "      <td>-1.669453</td>\n",
       "      <td>-0.652405</td>\n",
       "      <td>-6.343050</td>\n",
       "      <td>-1.139569</td>\n",
       "      <td>-0.767075</td>\n",
       "      <td>-3.199307</td>\n",
       "      <td>2.588771</td>\n",
       "      <td>...</td>\n",
       "      <td>-6.440363</td>\n",
       "      <td>5.707824</td>\n",
       "      <td>27.422301</td>\n",
       "      <td>-12.839884</td>\n",
       "      <td>-29.174395</td>\n",
       "      <td>1.602833</td>\n",
       "      <td>1.263823</td>\n",
       "      <td>0.258739</td>\n",
       "      <td>0.755062</td>\n",
       "      <td>1.0</td>\n",
       "    </tr>\n",
       "    <tr>\n",
       "      <th>9</th>\n",
       "      <td>2.0</td>\n",
       "      <td>0.988316</td>\n",
       "      <td>-0.248479</td>\n",
       "      <td>0.837765</td>\n",
       "      <td>1.387419</td>\n",
       "      <td>-6.525173</td>\n",
       "      <td>-15.473819</td>\n",
       "      <td>2.243488</td>\n",
       "      <td>5.006446</td>\n",
       "      <td>4.125233</td>\n",
       "      <td>...</td>\n",
       "      <td>-25.140891</td>\n",
       "      <td>17.417926</td>\n",
       "      <td>-19.726156</td>\n",
       "      <td>-34.530741</td>\n",
       "      <td>28.621006</td>\n",
       "      <td>-2.476262</td>\n",
       "      <td>0.437255</td>\n",
       "      <td>0.228907</td>\n",
       "      <td>-0.213761</td>\n",
       "      <td>1.0</td>\n",
       "    </tr>\n",
       "    <tr>\n",
       "      <th>10</th>\n",
       "      <td>1.0</td>\n",
       "      <td>0.492496</td>\n",
       "      <td>-0.342664</td>\n",
       "      <td>-2.018667</td>\n",
       "      <td>-3.226724</td>\n",
       "      <td>-1.563788</td>\n",
       "      <td>-1.297202</td>\n",
       "      <td>5.479536</td>\n",
       "      <td>2.889477</td>\n",
       "      <td>6.274115</td>\n",
       "      <td>...</td>\n",
       "      <td>5.453938</td>\n",
       "      <td>-14.036660</td>\n",
       "      <td>44.209692</td>\n",
       "      <td>-28.761550</td>\n",
       "      <td>27.212683</td>\n",
       "      <td>-2.012468</td>\n",
       "      <td>0.779081</td>\n",
       "      <td>0.578787</td>\n",
       "      <td>0.049925</td>\n",
       "      <td>1.0</td>\n",
       "    </tr>\n",
       "    <tr>\n",
       "      <th>11</th>\n",
       "      <td>1.0</td>\n",
       "      <td>-0.044271</td>\n",
       "      <td>0.102832</td>\n",
       "      <td>2.559110</td>\n",
       "      <td>2.207415</td>\n",
       "      <td>2.384315</td>\n",
       "      <td>1.575261</td>\n",
       "      <td>2.614218</td>\n",
       "      <td>0.139660</td>\n",
       "      <td>-0.170927</td>\n",
       "      <td>...</td>\n",
       "      <td>-7.696890</td>\n",
       "      <td>-2.616903</td>\n",
       "      <td>0.451265</td>\n",
       "      <td>21.640463</td>\n",
       "      <td>8.059171</td>\n",
       "      <td>-0.811931</td>\n",
       "      <td>-0.467696</td>\n",
       "      <td>1.115696</td>\n",
       "      <td>0.410996</td>\n",
       "      <td>0.0</td>\n",
       "    </tr>\n",
       "    <tr>\n",
       "      <th>12</th>\n",
       "      <td>3.0</td>\n",
       "      <td>1.950262</td>\n",
       "      <td>-1.248222</td>\n",
       "      <td>2.018527</td>\n",
       "      <td>0.261584</td>\n",
       "      <td>6.825969</td>\n",
       "      <td>-8.176299</td>\n",
       "      <td>-9.379149</td>\n",
       "      <td>13.914775</td>\n",
       "      <td>-8.754574</td>\n",
       "      <td>...</td>\n",
       "      <td>6.377316</td>\n",
       "      <td>-40.125053</td>\n",
       "      <td>4.438803</td>\n",
       "      <td>-19.208301</td>\n",
       "      <td>20.812314</td>\n",
       "      <td>-0.661779</td>\n",
       "      <td>0.224823</td>\n",
       "      <td>-1.562913</td>\n",
       "      <td>-0.076285</td>\n",
       "      <td>1.0</td>\n",
       "    </tr>\n",
       "    <tr>\n",
       "      <th>13</th>\n",
       "      <td>2.0</td>\n",
       "      <td>-0.063870</td>\n",
       "      <td>0.782585</td>\n",
       "      <td>0.154649</td>\n",
       "      <td>-2.112620</td>\n",
       "      <td>-1.499814</td>\n",
       "      <td>1.104918</td>\n",
       "      <td>3.215710</td>\n",
       "      <td>-1.838151</td>\n",
       "      <td>6.671896</td>\n",
       "      <td>...</td>\n",
       "      <td>17.288401</td>\n",
       "      <td>-12.215198</td>\n",
       "      <td>1.565094</td>\n",
       "      <td>-2.990642</td>\n",
       "      <td>-6.023450</td>\n",
       "      <td>0.454172</td>\n",
       "      <td>-0.817888</td>\n",
       "      <td>0.895375</td>\n",
       "      <td>-0.209763</td>\n",
       "      <td>0.0</td>\n",
       "    </tr>\n",
       "    <tr>\n",
       "      <th>14</th>\n",
       "      <td>1.0</td>\n",
       "      <td>-0.673051</td>\n",
       "      <td>-0.534723</td>\n",
       "      <td>0.138136</td>\n",
       "      <td>2.275431</td>\n",
       "      <td>2.413616</td>\n",
       "      <td>-0.152226</td>\n",
       "      <td>0.330154</td>\n",
       "      <td>3.489944</td>\n",
       "      <td>5.548768</td>\n",
       "      <td>...</td>\n",
       "      <td>-11.445495</td>\n",
       "      <td>-5.854216</td>\n",
       "      <td>-2.480141</td>\n",
       "      <td>8.043721</td>\n",
       "      <td>-0.809234</td>\n",
       "      <td>0.907691</td>\n",
       "      <td>-0.100476</td>\n",
       "      <td>1.267555</td>\n",
       "      <td>1.588455</td>\n",
       "      <td>0.0</td>\n",
       "    </tr>\n",
       "    <tr>\n",
       "      <th>15</th>\n",
       "      <td>1.0</td>\n",
       "      <td>0.100836</td>\n",
       "      <td>-0.460947</td>\n",
       "      <td>-2.717226</td>\n",
       "      <td>-1.662620</td>\n",
       "      <td>0.865854</td>\n",
       "      <td>2.838971</td>\n",
       "      <td>-0.356720</td>\n",
       "      <td>1.706732</td>\n",
       "      <td>-0.025300</td>\n",
       "      <td>...</td>\n",
       "      <td>2.909348</td>\n",
       "      <td>-7.463501</td>\n",
       "      <td>-0.095119</td>\n",
       "      <td>-7.796221</td>\n",
       "      <td>-3.797851</td>\n",
       "      <td>0.312685</td>\n",
       "      <td>-0.244940</td>\n",
       "      <td>0.161549</td>\n",
       "      <td>-0.115247</td>\n",
       "      <td>0.0</td>\n",
       "    </tr>\n",
       "    <tr>\n",
       "      <th>16</th>\n",
       "      <td>3.0</td>\n",
       "      <td>0.560719</td>\n",
       "      <td>1.333484</td>\n",
       "      <td>4.484460</td>\n",
       "      <td>3.941095</td>\n",
       "      <td>3.926157</td>\n",
       "      <td>-3.600442</td>\n",
       "      <td>2.605128</td>\n",
       "      <td>0.992751</td>\n",
       "      <td>8.164185</td>\n",
       "      <td>...</td>\n",
       "      <td>2.451460</td>\n",
       "      <td>7.365672</td>\n",
       "      <td>15.303374</td>\n",
       "      <td>6.312771</td>\n",
       "      <td>8.687503</td>\n",
       "      <td>0.986447</td>\n",
       "      <td>-0.229403</td>\n",
       "      <td>-1.073884</td>\n",
       "      <td>1.508835</td>\n",
       "      <td>1.0</td>\n",
       "    </tr>\n",
       "    <tr>\n",
       "      <th>17</th>\n",
       "      <td>3.0</td>\n",
       "      <td>1.381467</td>\n",
       "      <td>4.598438</td>\n",
       "      <td>3.503332</td>\n",
       "      <td>1.696726</td>\n",
       "      <td>0.818334</td>\n",
       "      <td>-14.742817</td>\n",
       "      <td>16.352322</td>\n",
       "      <td>-6.222663</td>\n",
       "      <td>-4.293430</td>\n",
       "      <td>...</td>\n",
       "      <td>15.852935</td>\n",
       "      <td>14.146498</td>\n",
       "      <td>5.920911</td>\n",
       "      <td>1.625112</td>\n",
       "      <td>23.632542</td>\n",
       "      <td>1.596164</td>\n",
       "      <td>-0.297995</td>\n",
       "      <td>-0.754230</td>\n",
       "      <td>-0.441304</td>\n",
       "      <td>1.0</td>\n",
       "    </tr>\n",
       "    <tr>\n",
       "      <th>18</th>\n",
       "      <td>2.0</td>\n",
       "      <td>-0.023407</td>\n",
       "      <td>3.124605</td>\n",
       "      <td>-3.433907</td>\n",
       "      <td>8.416833</td>\n",
       "      <td>0.071899</td>\n",
       "      <td>-0.661532</td>\n",
       "      <td>-9.201236</td>\n",
       "      <td>-0.244423</td>\n",
       "      <td>-1.947979</td>\n",
       "      <td>...</td>\n",
       "      <td>14.292659</td>\n",
       "      <td>-11.158580</td>\n",
       "      <td>-2.740799</td>\n",
       "      <td>6.154556</td>\n",
       "      <td>11.028889</td>\n",
       "      <td>1.191987</td>\n",
       "      <td>-0.991194</td>\n",
       "      <td>-0.329163</td>\n",
       "      <td>-0.507162</td>\n",
       "      <td>1.0</td>\n",
       "    </tr>\n",
       "    <tr>\n",
       "      <th>19</th>\n",
       "      <td>2.0</td>\n",
       "      <td>0.458176</td>\n",
       "      <td>5.624262</td>\n",
       "      <td>-3.772076</td>\n",
       "      <td>-2.870160</td>\n",
       "      <td>-3.850363</td>\n",
       "      <td>-11.881385</td>\n",
       "      <td>-11.613016</td>\n",
       "      <td>10.589716</td>\n",
       "      <td>2.179813</td>\n",
       "      <td>...</td>\n",
       "      <td>23.448100</td>\n",
       "      <td>34.334409</td>\n",
       "      <td>-0.684337</td>\n",
       "      <td>3.630651</td>\n",
       "      <td>-63.077201</td>\n",
       "      <td>0.035982</td>\n",
       "      <td>-1.546072</td>\n",
       "      <td>0.208326</td>\n",
       "      <td>-0.042123</td>\n",
       "      <td>1.0</td>\n",
       "    </tr>\n",
       "    <tr>\n",
       "      <th>20</th>\n",
       "      <td>3.0</td>\n",
       "      <td>0.554129</td>\n",
       "      <td>0.245771</td>\n",
       "      <td>1.841282</td>\n",
       "      <td>1.826561</td>\n",
       "      <td>-9.636799</td>\n",
       "      <td>-2.080864</td>\n",
       "      <td>-11.279587</td>\n",
       "      <td>-3.654433</td>\n",
       "      <td>-1.665717</td>\n",
       "      <td>...</td>\n",
       "      <td>1.080869</td>\n",
       "      <td>-14.934743</td>\n",
       "      <td>-27.029272</td>\n",
       "      <td>-7.986622</td>\n",
       "      <td>-11.792867</td>\n",
       "      <td>-0.819839</td>\n",
       "      <td>1.434854</td>\n",
       "      <td>0.829881</td>\n",
       "      <td>1.141698</td>\n",
       "      <td>1.0</td>\n",
       "    </tr>\n",
       "    <tr>\n",
       "      <th>21</th>\n",
       "      <td>2.0</td>\n",
       "      <td>0.015536</td>\n",
       "      <td>-0.262950</td>\n",
       "      <td>-0.394560</td>\n",
       "      <td>1.081687</td>\n",
       "      <td>4.065506</td>\n",
       "      <td>3.720861</td>\n",
       "      <td>12.990639</td>\n",
       "      <td>8.090929</td>\n",
       "      <td>3.688688</td>\n",
       "      <td>...</td>\n",
       "      <td>-9.721408</td>\n",
       "      <td>8.273754</td>\n",
       "      <td>2.150824</td>\n",
       "      <td>-9.518187</td>\n",
       "      <td>15.678412</td>\n",
       "      <td>1.741363</td>\n",
       "      <td>-0.994018</td>\n",
       "      <td>-0.061492</td>\n",
       "      <td>0.843210</td>\n",
       "      <td>1.0</td>\n",
       "    </tr>\n",
       "    <tr>\n",
       "      <th>22</th>\n",
       "      <td>1.0</td>\n",
       "      <td>-0.537952</td>\n",
       "      <td>-0.620316</td>\n",
       "      <td>0.210853</td>\n",
       "      <td>-2.497314</td>\n",
       "      <td>4.459141</td>\n",
       "      <td>3.211168</td>\n",
       "      <td>-3.410369</td>\n",
       "      <td>-4.275734</td>\n",
       "      <td>-0.963878</td>\n",
       "      <td>...</td>\n",
       "      <td>14.064743</td>\n",
       "      <td>-3.031106</td>\n",
       "      <td>-5.834098</td>\n",
       "      <td>-5.453506</td>\n",
       "      <td>-1.319901</td>\n",
       "      <td>-0.783176</td>\n",
       "      <td>0.612540</td>\n",
       "      <td>1.010973</td>\n",
       "      <td>1.175248</td>\n",
       "      <td>0.0</td>\n",
       "    </tr>\n",
       "    <tr>\n",
       "      <th>23</th>\n",
       "      <td>2.0</td>\n",
       "      <td>0.900744</td>\n",
       "      <td>1.224174</td>\n",
       "      <td>-4.547959</td>\n",
       "      <td>-1.949198</td>\n",
       "      <td>-1.757713</td>\n",
       "      <td>-12.907477</td>\n",
       "      <td>1.503751</td>\n",
       "      <td>-2.004630</td>\n",
       "      <td>-0.928808</td>\n",
       "      <td>...</td>\n",
       "      <td>9.556780</td>\n",
       "      <td>8.601334</td>\n",
       "      <td>33.224651</td>\n",
       "      <td>-2.885921</td>\n",
       "      <td>11.700869</td>\n",
       "      <td>0.321787</td>\n",
       "      <td>-0.326823</td>\n",
       "      <td>0.898741</td>\n",
       "      <td>1.524177</td>\n",
       "      <td>1.0</td>\n",
       "    </tr>\n",
       "    <tr>\n",
       "      <th>24</th>\n",
       "      <td>1.0</td>\n",
       "      <td>-0.485828</td>\n",
       "      <td>-1.279618</td>\n",
       "      <td>-0.740076</td>\n",
       "      <td>2.024787</td>\n",
       "      <td>2.782813</td>\n",
       "      <td>2.039256</td>\n",
       "      <td>3.137835</td>\n",
       "      <td>2.764713</td>\n",
       "      <td>-2.086667</td>\n",
       "      <td>...</td>\n",
       "      <td>10.061202</td>\n",
       "      <td>1.374569</td>\n",
       "      <td>-6.236872</td>\n",
       "      <td>0.250864</td>\n",
       "      <td>-5.549026</td>\n",
       "      <td>-0.994825</td>\n",
       "      <td>-0.440106</td>\n",
       "      <td>-0.399215</td>\n",
       "      <td>0.673473</td>\n",
       "      <td>0.0</td>\n",
       "    </tr>\n",
       "    <tr>\n",
       "      <th>25</th>\n",
       "      <td>2.0</td>\n",
       "      <td>-1.258572</td>\n",
       "      <td>-1.365189</td>\n",
       "      <td>5.823980</td>\n",
       "      <td>-1.547764</td>\n",
       "      <td>9.029883</td>\n",
       "      <td>-3.515040</td>\n",
       "      <td>-0.519943</td>\n",
       "      <td>2.416324</td>\n",
       "      <td>9.584181</td>\n",
       "      <td>...</td>\n",
       "      <td>11.772576</td>\n",
       "      <td>-3.907588</td>\n",
       "      <td>-5.259780</td>\n",
       "      <td>-16.529535</td>\n",
       "      <td>16.831672</td>\n",
       "      <td>-0.098802</td>\n",
       "      <td>0.508583</td>\n",
       "      <td>1.269552</td>\n",
       "      <td>-3.803546</td>\n",
       "      <td>1.0</td>\n",
       "    </tr>\n",
       "    <tr>\n",
       "      <th>26</th>\n",
       "      <td>3.0</td>\n",
       "      <td>0.537811</td>\n",
       "      <td>0.890671</td>\n",
       "      <td>2.713203</td>\n",
       "      <td>-0.914636</td>\n",
       "      <td>-7.192834</td>\n",
       "      <td>2.834049</td>\n",
       "      <td>3.304728</td>\n",
       "      <td>-11.796243</td>\n",
       "      <td>7.239909</td>\n",
       "      <td>...</td>\n",
       "      <td>30.571771</td>\n",
       "      <td>-1.062162</td>\n",
       "      <td>-33.049460</td>\n",
       "      <td>-7.382390</td>\n",
       "      <td>13.124589</td>\n",
       "      <td>0.451710</td>\n",
       "      <td>1.683799</td>\n",
       "      <td>1.033908</td>\n",
       "      <td>1.859143</td>\n",
       "      <td>1.0</td>\n",
       "    </tr>\n",
       "    <tr>\n",
       "      <th>27</th>\n",
       "      <td>1.0</td>\n",
       "      <td>-0.295589</td>\n",
       "      <td>-1.435815</td>\n",
       "      <td>1.096950</td>\n",
       "      <td>-0.412404</td>\n",
       "      <td>-0.512314</td>\n",
       "      <td>1.749384</td>\n",
       "      <td>-3.738585</td>\n",
       "      <td>2.055979</td>\n",
       "      <td>0.703683</td>\n",
       "      <td>...</td>\n",
       "      <td>9.618833</td>\n",
       "      <td>3.840551</td>\n",
       "      <td>5.455664</td>\n",
       "      <td>-6.175897</td>\n",
       "      <td>-23.107782</td>\n",
       "      <td>0.443091</td>\n",
       "      <td>0.381616</td>\n",
       "      <td>0.159900</td>\n",
       "      <td>1.570329</td>\n",
       "      <td>0.0</td>\n",
       "    </tr>\n",
       "    <tr>\n",
       "      <th>28</th>\n",
       "      <td>2.0</td>\n",
       "      <td>1.196251</td>\n",
       "      <td>0.031439</td>\n",
       "      <td>-1.776928</td>\n",
       "      <td>1.570128</td>\n",
       "      <td>-7.756356</td>\n",
       "      <td>12.968647</td>\n",
       "      <td>2.611279</td>\n",
       "      <td>-8.461652</td>\n",
       "      <td>7.287055</td>\n",
       "      <td>...</td>\n",
       "      <td>-8.524465</td>\n",
       "      <td>6.151649</td>\n",
       "      <td>25.477965</td>\n",
       "      <td>-21.355939</td>\n",
       "      <td>8.980533</td>\n",
       "      <td>1.660266</td>\n",
       "      <td>1.241206</td>\n",
       "      <td>-1.055996</td>\n",
       "      <td>0.271295</td>\n",
       "      <td>1.0</td>\n",
       "    </tr>\n",
       "    <tr>\n",
       "      <th>29</th>\n",
       "      <td>2.0</td>\n",
       "      <td>0.572720</td>\n",
       "      <td>-0.633823</td>\n",
       "      <td>1.539597</td>\n",
       "      <td>0.887638</td>\n",
       "      <td>4.625691</td>\n",
       "      <td>-0.403910</td>\n",
       "      <td>2.473997</td>\n",
       "      <td>1.005888</td>\n",
       "      <td>3.685610</td>\n",
       "      <td>...</td>\n",
       "      <td>-16.772133</td>\n",
       "      <td>-9.819354</td>\n",
       "      <td>13.298549</td>\n",
       "      <td>22.203966</td>\n",
       "      <td>23.691347</td>\n",
       "      <td>1.145119</td>\n",
       "      <td>0.275223</td>\n",
       "      <td>0.737223</td>\n",
       "      <td>0.034328</td>\n",
       "      <td>1.0</td>\n",
       "    </tr>\n",
       "    <tr>\n",
       "      <th>...</th>\n",
       "      <td>...</td>\n",
       "      <td>...</td>\n",
       "      <td>...</td>\n",
       "      <td>...</td>\n",
       "      <td>...</td>\n",
       "      <td>...</td>\n",
       "      <td>...</td>\n",
       "      <td>...</td>\n",
       "      <td>...</td>\n",
       "      <td>...</td>\n",
       "      <td>...</td>\n",
       "      <td>...</td>\n",
       "      <td>...</td>\n",
       "      <td>...</td>\n",
       "      <td>...</td>\n",
       "      <td>...</td>\n",
       "      <td>...</td>\n",
       "      <td>...</td>\n",
       "      <td>...</td>\n",
       "      <td>...</td>\n",
       "      <td>...</td>\n",
       "    </tr>\n",
       "    <tr>\n",
       "      <th>29970</th>\n",
       "      <td>3.0</td>\n",
       "      <td>-0.308503</td>\n",
       "      <td>0.503556</td>\n",
       "      <td>0.230071</td>\n",
       "      <td>0.212965</td>\n",
       "      <td>5.778664</td>\n",
       "      <td>-5.347113</td>\n",
       "      <td>3.803804</td>\n",
       "      <td>-2.864367</td>\n",
       "      <td>-10.960941</td>\n",
       "      <td>...</td>\n",
       "      <td>-1.982635</td>\n",
       "      <td>26.248314</td>\n",
       "      <td>11.018793</td>\n",
       "      <td>24.270069</td>\n",
       "      <td>-3.554248</td>\n",
       "      <td>0.171606</td>\n",
       "      <td>-1.696567</td>\n",
       "      <td>0.570271</td>\n",
       "      <td>-0.240245</td>\n",
       "      <td>1.0</td>\n",
       "    </tr>\n",
       "    <tr>\n",
       "      <th>29971</th>\n",
       "      <td>1.0</td>\n",
       "      <td>-0.097446</td>\n",
       "      <td>-0.064047</td>\n",
       "      <td>-1.655340</td>\n",
       "      <td>0.196205</td>\n",
       "      <td>5.057217</td>\n",
       "      <td>3.453455</td>\n",
       "      <td>-1.302837</td>\n",
       "      <td>0.820165</td>\n",
       "      <td>-5.033973</td>\n",
       "      <td>...</td>\n",
       "      <td>-11.040403</td>\n",
       "      <td>-16.038749</td>\n",
       "      <td>-3.430103</td>\n",
       "      <td>-13.288519</td>\n",
       "      <td>-16.789114</td>\n",
       "      <td>0.181235</td>\n",
       "      <td>1.286985</td>\n",
       "      <td>1.057842</td>\n",
       "      <td>-1.533249</td>\n",
       "      <td>0.0</td>\n",
       "    </tr>\n",
       "    <tr>\n",
       "      <th>29972</th>\n",
       "      <td>1.0</td>\n",
       "      <td>-0.104883</td>\n",
       "      <td>-0.036000</td>\n",
       "      <td>0.006546</td>\n",
       "      <td>-3.265820</td>\n",
       "      <td>0.246771</td>\n",
       "      <td>-1.231762</td>\n",
       "      <td>-5.184906</td>\n",
       "      <td>10.371530</td>\n",
       "      <td>2.200866</td>\n",
       "      <td>...</td>\n",
       "      <td>7.272503</td>\n",
       "      <td>-5.427300</td>\n",
       "      <td>11.611950</td>\n",
       "      <td>0.856884</td>\n",
       "      <td>9.644901</td>\n",
       "      <td>-0.295714</td>\n",
       "      <td>-2.523467</td>\n",
       "      <td>-0.414083</td>\n",
       "      <td>-1.826621</td>\n",
       "      <td>0.0</td>\n",
       "    </tr>\n",
       "    <tr>\n",
       "      <th>29973</th>\n",
       "      <td>3.0</td>\n",
       "      <td>-1.125992</td>\n",
       "      <td>1.172603</td>\n",
       "      <td>1.492605</td>\n",
       "      <td>0.357058</td>\n",
       "      <td>2.229146</td>\n",
       "      <td>0.631614</td>\n",
       "      <td>1.717285</td>\n",
       "      <td>3.464778</td>\n",
       "      <td>10.927536</td>\n",
       "      <td>...</td>\n",
       "      <td>6.751626</td>\n",
       "      <td>-36.299898</td>\n",
       "      <td>-3.389095</td>\n",
       "      <td>21.035072</td>\n",
       "      <td>20.091340</td>\n",
       "      <td>0.497275</td>\n",
       "      <td>-0.314905</td>\n",
       "      <td>0.970853</td>\n",
       "      <td>-0.904545</td>\n",
       "      <td>1.0</td>\n",
       "    </tr>\n",
       "    <tr>\n",
       "      <th>29974</th>\n",
       "      <td>1.0</td>\n",
       "      <td>0.224607</td>\n",
       "      <td>-0.949469</td>\n",
       "      <td>1.156429</td>\n",
       "      <td>2.283271</td>\n",
       "      <td>-1.585535</td>\n",
       "      <td>2.508690</td>\n",
       "      <td>1.244329</td>\n",
       "      <td>-5.762639</td>\n",
       "      <td>5.012303</td>\n",
       "      <td>...</td>\n",
       "      <td>0.331490</td>\n",
       "      <td>-0.859812</td>\n",
       "      <td>-0.686515</td>\n",
       "      <td>-10.297280</td>\n",
       "      <td>7.881537</td>\n",
       "      <td>0.100636</td>\n",
       "      <td>-0.055453</td>\n",
       "      <td>0.018624</td>\n",
       "      <td>0.494914</td>\n",
       "      <td>0.0</td>\n",
       "    </tr>\n",
       "    <tr>\n",
       "      <th>29975</th>\n",
       "      <td>2.0</td>\n",
       "      <td>-0.075160</td>\n",
       "      <td>-0.226696</td>\n",
       "      <td>-1.363867</td>\n",
       "      <td>-2.044468</td>\n",
       "      <td>1.560925</td>\n",
       "      <td>-1.151656</td>\n",
       "      <td>1.707254</td>\n",
       "      <td>-2.840995</td>\n",
       "      <td>1.614782</td>\n",
       "      <td>...</td>\n",
       "      <td>-1.104888</td>\n",
       "      <td>0.203151</td>\n",
       "      <td>3.608840</td>\n",
       "      <td>-7.636908</td>\n",
       "      <td>-8.258788</td>\n",
       "      <td>-0.688108</td>\n",
       "      <td>-0.444376</td>\n",
       "      <td>1.344278</td>\n",
       "      <td>0.858647</td>\n",
       "      <td>0.0</td>\n",
       "    </tr>\n",
       "    <tr>\n",
       "      <th>29976</th>\n",
       "      <td>1.0</td>\n",
       "      <td>0.484138</td>\n",
       "      <td>0.196155</td>\n",
       "      <td>-0.531884</td>\n",
       "      <td>0.542940</td>\n",
       "      <td>-0.397734</td>\n",
       "      <td>0.242456</td>\n",
       "      <td>-2.361332</td>\n",
       "      <td>4.696063</td>\n",
       "      <td>1.762202</td>\n",
       "      <td>...</td>\n",
       "      <td>3.215877</td>\n",
       "      <td>3.589234</td>\n",
       "      <td>25.106064</td>\n",
       "      <td>7.466658</td>\n",
       "      <td>-2.955608</td>\n",
       "      <td>0.586283</td>\n",
       "      <td>-0.631256</td>\n",
       "      <td>-1.466480</td>\n",
       "      <td>-1.232607</td>\n",
       "      <td>0.0</td>\n",
       "    </tr>\n",
       "    <tr>\n",
       "      <th>29977</th>\n",
       "      <td>1.0</td>\n",
       "      <td>0.709266</td>\n",
       "      <td>-0.898827</td>\n",
       "      <td>2.115023</td>\n",
       "      <td>2.294383</td>\n",
       "      <td>-2.713986</td>\n",
       "      <td>-4.052480</td>\n",
       "      <td>0.548462</td>\n",
       "      <td>0.477169</td>\n",
       "      <td>-0.938677</td>\n",
       "      <td>...</td>\n",
       "      <td>-3.862029</td>\n",
       "      <td>-11.683855</td>\n",
       "      <td>3.465106</td>\n",
       "      <td>17.610638</td>\n",
       "      <td>7.806287</td>\n",
       "      <td>-0.353744</td>\n",
       "      <td>-0.781991</td>\n",
       "      <td>-1.547958</td>\n",
       "      <td>0.972668</td>\n",
       "      <td>0.0</td>\n",
       "    </tr>\n",
       "    <tr>\n",
       "      <th>29978</th>\n",
       "      <td>1.0</td>\n",
       "      <td>0.585056</td>\n",
       "      <td>0.201768</td>\n",
       "      <td>0.912530</td>\n",
       "      <td>-0.677971</td>\n",
       "      <td>-0.574839</td>\n",
       "      <td>1.178331</td>\n",
       "      <td>2.768214</td>\n",
       "      <td>-2.763979</td>\n",
       "      <td>-0.992121</td>\n",
       "      <td>...</td>\n",
       "      <td>15.048956</td>\n",
       "      <td>0.645397</td>\n",
       "      <td>19.855666</td>\n",
       "      <td>7.663865</td>\n",
       "      <td>-8.871846</td>\n",
       "      <td>1.479316</td>\n",
       "      <td>-0.410378</td>\n",
       "      <td>-1.112925</td>\n",
       "      <td>0.160934</td>\n",
       "      <td>0.0</td>\n",
       "    </tr>\n",
       "    <tr>\n",
       "      <th>29979</th>\n",
       "      <td>2.0</td>\n",
       "      <td>1.410844</td>\n",
       "      <td>1.750420</td>\n",
       "      <td>4.552329</td>\n",
       "      <td>1.365774</td>\n",
       "      <td>2.330993</td>\n",
       "      <td>1.675921</td>\n",
       "      <td>-0.533235</td>\n",
       "      <td>3.005663</td>\n",
       "      <td>10.404590</td>\n",
       "      <td>...</td>\n",
       "      <td>3.301354</td>\n",
       "      <td>-16.706718</td>\n",
       "      <td>8.132303</td>\n",
       "      <td>23.375068</td>\n",
       "      <td>9.494462</td>\n",
       "      <td>-0.129133</td>\n",
       "      <td>0.042823</td>\n",
       "      <td>0.870694</td>\n",
       "      <td>0.532808</td>\n",
       "      <td>1.0</td>\n",
       "    </tr>\n",
       "    <tr>\n",
       "      <th>29980</th>\n",
       "      <td>3.0</td>\n",
       "      <td>-0.301438</td>\n",
       "      <td>0.604586</td>\n",
       "      <td>0.408752</td>\n",
       "      <td>-5.236854</td>\n",
       "      <td>2.625958</td>\n",
       "      <td>-9.278636</td>\n",
       "      <td>-8.625473</td>\n",
       "      <td>6.845845</td>\n",
       "      <td>6.796707</td>\n",
       "      <td>...</td>\n",
       "      <td>-34.699658</td>\n",
       "      <td>-25.582066</td>\n",
       "      <td>4.001489</td>\n",
       "      <td>5.373367</td>\n",
       "      <td>-35.817553</td>\n",
       "      <td>-0.938935</td>\n",
       "      <td>-0.720611</td>\n",
       "      <td>-0.487898</td>\n",
       "      <td>-1.382875</td>\n",
       "      <td>1.0</td>\n",
       "    </tr>\n",
       "    <tr>\n",
       "      <th>29981</th>\n",
       "      <td>1.0</td>\n",
       "      <td>-0.914673</td>\n",
       "      <td>1.035104</td>\n",
       "      <td>1.496337</td>\n",
       "      <td>-0.079006</td>\n",
       "      <td>-2.871616</td>\n",
       "      <td>-2.787302</td>\n",
       "      <td>-1.795664</td>\n",
       "      <td>6.209063</td>\n",
       "      <td>-1.346746</td>\n",
       "      <td>...</td>\n",
       "      <td>5.834357</td>\n",
       "      <td>4.542328</td>\n",
       "      <td>-4.364682</td>\n",
       "      <td>6.224571</td>\n",
       "      <td>3.445422</td>\n",
       "      <td>-0.331401</td>\n",
       "      <td>0.145854</td>\n",
       "      <td>1.067402</td>\n",
       "      <td>0.988014</td>\n",
       "      <td>0.0</td>\n",
       "    </tr>\n",
       "    <tr>\n",
       "      <th>29982</th>\n",
       "      <td>3.0</td>\n",
       "      <td>0.804758</td>\n",
       "      <td>-3.748910</td>\n",
       "      <td>4.255128</td>\n",
       "      <td>-2.385220</td>\n",
       "      <td>2.843651</td>\n",
       "      <td>-13.835901</td>\n",
       "      <td>-18.543890</td>\n",
       "      <td>3.567866</td>\n",
       "      <td>3.976667</td>\n",
       "      <td>...</td>\n",
       "      <td>33.069380</td>\n",
       "      <td>-19.110620</td>\n",
       "      <td>3.104756</td>\n",
       "      <td>17.252491</td>\n",
       "      <td>15.475249</td>\n",
       "      <td>-1.379234</td>\n",
       "      <td>-0.946054</td>\n",
       "      <td>0.699630</td>\n",
       "      <td>2.685629</td>\n",
       "      <td>1.0</td>\n",
       "    </tr>\n",
       "    <tr>\n",
       "      <th>29983</th>\n",
       "      <td>1.0</td>\n",
       "      <td>0.333782</td>\n",
       "      <td>0.095372</td>\n",
       "      <td>0.652596</td>\n",
       "      <td>-0.963214</td>\n",
       "      <td>-2.198635</td>\n",
       "      <td>8.354360</td>\n",
       "      <td>-0.072165</td>\n",
       "      <td>3.006769</td>\n",
       "      <td>-3.219080</td>\n",
       "      <td>...</td>\n",
       "      <td>2.495758</td>\n",
       "      <td>9.804773</td>\n",
       "      <td>5.504174</td>\n",
       "      <td>12.253294</td>\n",
       "      <td>2.994724</td>\n",
       "      <td>0.387423</td>\n",
       "      <td>0.646906</td>\n",
       "      <td>-0.996120</td>\n",
       "      <td>-0.066526</td>\n",
       "      <td>0.0</td>\n",
       "    </tr>\n",
       "    <tr>\n",
       "      <th>29984</th>\n",
       "      <td>1.0</td>\n",
       "      <td>-0.523608</td>\n",
       "      <td>0.746780</td>\n",
       "      <td>-0.409390</td>\n",
       "      <td>-0.413449</td>\n",
       "      <td>-0.380498</td>\n",
       "      <td>0.361039</td>\n",
       "      <td>6.418492</td>\n",
       "      <td>5.376888</td>\n",
       "      <td>-3.709316</td>\n",
       "      <td>...</td>\n",
       "      <td>-0.999924</td>\n",
       "      <td>-5.851261</td>\n",
       "      <td>4.568622</td>\n",
       "      <td>2.792128</td>\n",
       "      <td>-0.478207</td>\n",
       "      <td>0.042082</td>\n",
       "      <td>-0.737793</td>\n",
       "      <td>-0.380879</td>\n",
       "      <td>0.906686</td>\n",
       "      <td>0.0</td>\n",
       "    </tr>\n",
       "    <tr>\n",
       "      <th>29985</th>\n",
       "      <td>3.0</td>\n",
       "      <td>0.510628</td>\n",
       "      <td>0.557404</td>\n",
       "      <td>-0.806079</td>\n",
       "      <td>9.766863</td>\n",
       "      <td>3.087138</td>\n",
       "      <td>7.931738</td>\n",
       "      <td>-9.366458</td>\n",
       "      <td>-12.053553</td>\n",
       "      <td>-18.502401</td>\n",
       "      <td>...</td>\n",
       "      <td>5.469280</td>\n",
       "      <td>7.783990</td>\n",
       "      <td>4.810483</td>\n",
       "      <td>-7.924374</td>\n",
       "      <td>46.484800</td>\n",
       "      <td>1.684358</td>\n",
       "      <td>-1.494005</td>\n",
       "      <td>-1.840045</td>\n",
       "      <td>-0.914339</td>\n",
       "      <td>1.0</td>\n",
       "    </tr>\n",
       "    <tr>\n",
       "      <th>29986</th>\n",
       "      <td>2.0</td>\n",
       "      <td>1.106604</td>\n",
       "      <td>-0.305827</td>\n",
       "      <td>-0.477495</td>\n",
       "      <td>-2.188293</td>\n",
       "      <td>-1.230255</td>\n",
       "      <td>6.039173</td>\n",
       "      <td>-2.449108</td>\n",
       "      <td>3.600595</td>\n",
       "      <td>8.557280</td>\n",
       "      <td>...</td>\n",
       "      <td>15.242137</td>\n",
       "      <td>-15.834558</td>\n",
       "      <td>26.571791</td>\n",
       "      <td>-32.206739</td>\n",
       "      <td>8.688207</td>\n",
       "      <td>0.287935</td>\n",
       "      <td>1.000555</td>\n",
       "      <td>-1.836084</td>\n",
       "      <td>-0.038285</td>\n",
       "      <td>1.0</td>\n",
       "    </tr>\n",
       "    <tr>\n",
       "      <th>29987</th>\n",
       "      <td>1.0</td>\n",
       "      <td>-0.103577</td>\n",
       "      <td>-0.288426</td>\n",
       "      <td>0.066966</td>\n",
       "      <td>-1.601986</td>\n",
       "      <td>2.783405</td>\n",
       "      <td>1.812960</td>\n",
       "      <td>-0.465854</td>\n",
       "      <td>-0.262328</td>\n",
       "      <td>-0.728728</td>\n",
       "      <td>...</td>\n",
       "      <td>2.964627</td>\n",
       "      <td>8.508772</td>\n",
       "      <td>9.027977</td>\n",
       "      <td>4.859717</td>\n",
       "      <td>6.487116</td>\n",
       "      <td>-1.106975</td>\n",
       "      <td>2.133127</td>\n",
       "      <td>-0.014530</td>\n",
       "      <td>0.177208</td>\n",
       "      <td>0.0</td>\n",
       "    </tr>\n",
       "    <tr>\n",
       "      <th>29988</th>\n",
       "      <td>1.0</td>\n",
       "      <td>0.635663</td>\n",
       "      <td>2.429275</td>\n",
       "      <td>-0.049699</td>\n",
       "      <td>-1.524759</td>\n",
       "      <td>3.306374</td>\n",
       "      <td>-3.589264</td>\n",
       "      <td>1.502156</td>\n",
       "      <td>1.918500</td>\n",
       "      <td>0.316983</td>\n",
       "      <td>...</td>\n",
       "      <td>-1.000527</td>\n",
       "      <td>-15.335729</td>\n",
       "      <td>16.931388</td>\n",
       "      <td>-7.987547</td>\n",
       "      <td>7.389267</td>\n",
       "      <td>0.444272</td>\n",
       "      <td>-0.052928</td>\n",
       "      <td>0.891952</td>\n",
       "      <td>-0.916311</td>\n",
       "      <td>0.0</td>\n",
       "    </tr>\n",
       "    <tr>\n",
       "      <th>29989</th>\n",
       "      <td>1.0</td>\n",
       "      <td>0.156562</td>\n",
       "      <td>0.767585</td>\n",
       "      <td>-2.491665</td>\n",
       "      <td>-1.942559</td>\n",
       "      <td>2.620393</td>\n",
       "      <td>3.128137</td>\n",
       "      <td>-4.820041</td>\n",
       "      <td>3.880086</td>\n",
       "      <td>1.228865</td>\n",
       "      <td>...</td>\n",
       "      <td>-3.688173</td>\n",
       "      <td>15.638931</td>\n",
       "      <td>0.617553</td>\n",
       "      <td>-6.959231</td>\n",
       "      <td>-5.258259</td>\n",
       "      <td>0.208085</td>\n",
       "      <td>-1.085900</td>\n",
       "      <td>0.508263</td>\n",
       "      <td>-0.243952</td>\n",
       "      <td>0.0</td>\n",
       "    </tr>\n",
       "    <tr>\n",
       "      <th>29990</th>\n",
       "      <td>1.0</td>\n",
       "      <td>0.476488</td>\n",
       "      <td>1.179618</td>\n",
       "      <td>-2.500085</td>\n",
       "      <td>0.534435</td>\n",
       "      <td>0.527554</td>\n",
       "      <td>4.817085</td>\n",
       "      <td>2.205532</td>\n",
       "      <td>6.492471</td>\n",
       "      <td>3.229629</td>\n",
       "      <td>...</td>\n",
       "      <td>-5.239833</td>\n",
       "      <td>10.299124</td>\n",
       "      <td>-6.247785</td>\n",
       "      <td>5.382210</td>\n",
       "      <td>-2.989414</td>\n",
       "      <td>-0.992296</td>\n",
       "      <td>0.142911</td>\n",
       "      <td>-1.929534</td>\n",
       "      <td>-0.429020</td>\n",
       "      <td>0.0</td>\n",
       "    </tr>\n",
       "    <tr>\n",
       "      <th>29991</th>\n",
       "      <td>2.0</td>\n",
       "      <td>-0.009921</td>\n",
       "      <td>0.199510</td>\n",
       "      <td>2.287348</td>\n",
       "      <td>3.153397</td>\n",
       "      <td>5.705548</td>\n",
       "      <td>-0.020830</td>\n",
       "      <td>5.398044</td>\n",
       "      <td>1.082984</td>\n",
       "      <td>-2.957557</td>\n",
       "      <td>...</td>\n",
       "      <td>2.747255</td>\n",
       "      <td>-12.377818</td>\n",
       "      <td>7.873313</td>\n",
       "      <td>9.584842</td>\n",
       "      <td>4.835983</td>\n",
       "      <td>0.603037</td>\n",
       "      <td>-1.336386</td>\n",
       "      <td>-0.776144</td>\n",
       "      <td>-0.241386</td>\n",
       "      <td>0.0</td>\n",
       "    </tr>\n",
       "    <tr>\n",
       "      <th>29992</th>\n",
       "      <td>3.0</td>\n",
       "      <td>0.649661</td>\n",
       "      <td>-2.099386</td>\n",
       "      <td>1.461290</td>\n",
       "      <td>4.686937</td>\n",
       "      <td>9.140539</td>\n",
       "      <td>0.527979</td>\n",
       "      <td>-4.741311</td>\n",
       "      <td>-0.730384</td>\n",
       "      <td>-4.514821</td>\n",
       "      <td>...</td>\n",
       "      <td>0.770637</td>\n",
       "      <td>-13.480033</td>\n",
       "      <td>-19.358973</td>\n",
       "      <td>-15.978451</td>\n",
       "      <td>25.493470</td>\n",
       "      <td>0.152119</td>\n",
       "      <td>0.819738</td>\n",
       "      <td>-0.213024</td>\n",
       "      <td>0.970754</td>\n",
       "      <td>1.0</td>\n",
       "    </tr>\n",
       "    <tr>\n",
       "      <th>29993</th>\n",
       "      <td>3.0</td>\n",
       "      <td>-0.253859</td>\n",
       "      <td>0.340019</td>\n",
       "      <td>-1.984412</td>\n",
       "      <td>3.247675</td>\n",
       "      <td>0.575336</td>\n",
       "      <td>-3.435942</td>\n",
       "      <td>-11.529774</td>\n",
       "      <td>-0.780487</td>\n",
       "      <td>-5.071603</td>\n",
       "      <td>...</td>\n",
       "      <td>-8.080178</td>\n",
       "      <td>6.781584</td>\n",
       "      <td>32.819077</td>\n",
       "      <td>14.047263</td>\n",
       "      <td>-11.818754</td>\n",
       "      <td>-0.402763</td>\n",
       "      <td>-1.756006</td>\n",
       "      <td>-0.191832</td>\n",
       "      <td>0.780729</td>\n",
       "      <td>1.0</td>\n",
       "    </tr>\n",
       "    <tr>\n",
       "      <th>29994</th>\n",
       "      <td>1.0</td>\n",
       "      <td>0.736580</td>\n",
       "      <td>0.433341</td>\n",
       "      <td>-0.632017</td>\n",
       "      <td>-0.909613</td>\n",
       "      <td>-0.595241</td>\n",
       "      <td>1.163006</td>\n",
       "      <td>4.240000</td>\n",
       "      <td>2.575332</td>\n",
       "      <td>2.533575</td>\n",
       "      <td>...</td>\n",
       "      <td>-4.456939</td>\n",
       "      <td>6.408305</td>\n",
       "      <td>-1.938125</td>\n",
       "      <td>1.316601</td>\n",
       "      <td>-8.056513</td>\n",
       "      <td>0.748109</td>\n",
       "      <td>0.190219</td>\n",
       "      <td>-1.979700</td>\n",
       "      <td>-0.658454</td>\n",
       "      <td>0.0</td>\n",
       "    </tr>\n",
       "    <tr>\n",
       "      <th>29995</th>\n",
       "      <td>1.0</td>\n",
       "      <td>0.342190</td>\n",
       "      <td>0.055188</td>\n",
       "      <td>-0.572283</td>\n",
       "      <td>0.574764</td>\n",
       "      <td>3.855534</td>\n",
       "      <td>6.558000</td>\n",
       "      <td>5.319750</td>\n",
       "      <td>-2.841825</td>\n",
       "      <td>-2.912564</td>\n",
       "      <td>...</td>\n",
       "      <td>-3.143389</td>\n",
       "      <td>7.421855</td>\n",
       "      <td>0.749486</td>\n",
       "      <td>9.407745</td>\n",
       "      <td>-16.139067</td>\n",
       "      <td>0.871199</td>\n",
       "      <td>0.270625</td>\n",
       "      <td>0.035268</td>\n",
       "      <td>-0.858278</td>\n",
       "      <td>0.0</td>\n",
       "    </tr>\n",
       "    <tr>\n",
       "      <th>29996</th>\n",
       "      <td>1.0</td>\n",
       "      <td>0.438052</td>\n",
       "      <td>-0.064013</td>\n",
       "      <td>1.261939</td>\n",
       "      <td>2.458425</td>\n",
       "      <td>-2.141189</td>\n",
       "      <td>0.812509</td>\n",
       "      <td>0.854281</td>\n",
       "      <td>10.114633</td>\n",
       "      <td>-3.525051</td>\n",
       "      <td>...</td>\n",
       "      <td>-13.992396</td>\n",
       "      <td>18.326917</td>\n",
       "      <td>6.937393</td>\n",
       "      <td>10.878877</td>\n",
       "      <td>-22.235942</td>\n",
       "      <td>0.950296</td>\n",
       "      <td>-0.782184</td>\n",
       "      <td>0.439711</td>\n",
       "      <td>0.246343</td>\n",
       "      <td>0.0</td>\n",
       "    </tr>\n",
       "    <tr>\n",
       "      <th>29997</th>\n",
       "      <td>3.0</td>\n",
       "      <td>0.588171</td>\n",
       "      <td>1.798733</td>\n",
       "      <td>-0.660610</td>\n",
       "      <td>-3.502469</td>\n",
       "      <td>4.491251</td>\n",
       "      <td>11.738760</td>\n",
       "      <td>2.148399</td>\n",
       "      <td>12.240018</td>\n",
       "      <td>10.362100</td>\n",
       "      <td>...</td>\n",
       "      <td>13.963867</td>\n",
       "      <td>4.506591</td>\n",
       "      <td>10.880007</td>\n",
       "      <td>3.395453</td>\n",
       "      <td>-15.555963</td>\n",
       "      <td>-1.450757</td>\n",
       "      <td>1.036389</td>\n",
       "      <td>-0.098259</td>\n",
       "      <td>0.791844</td>\n",
       "      <td>1.0</td>\n",
       "    </tr>\n",
       "    <tr>\n",
       "      <th>29998</th>\n",
       "      <td>1.0</td>\n",
       "      <td>0.134892</td>\n",
       "      <td>0.111594</td>\n",
       "      <td>-1.338915</td>\n",
       "      <td>0.349295</td>\n",
       "      <td>-2.937067</td>\n",
       "      <td>0.127768</td>\n",
       "      <td>6.326368</td>\n",
       "      <td>3.991437</td>\n",
       "      <td>-3.354036</td>\n",
       "      <td>...</td>\n",
       "      <td>11.039819</td>\n",
       "      <td>3.334003</td>\n",
       "      <td>7.794350</td>\n",
       "      <td>-0.123210</td>\n",
       "      <td>-9.375042</td>\n",
       "      <td>0.500927</td>\n",
       "      <td>0.806953</td>\n",
       "      <td>-0.248629</td>\n",
       "      <td>0.310851</td>\n",
       "      <td>0.0</td>\n",
       "    </tr>\n",
       "    <tr>\n",
       "      <th>29999</th>\n",
       "      <td>1.0</td>\n",
       "      <td>-0.936571</td>\n",
       "      <td>-0.397513</td>\n",
       "      <td>0.861954</td>\n",
       "      <td>1.481243</td>\n",
       "      <td>-4.381343</td>\n",
       "      <td>4.754328</td>\n",
       "      <td>1.131212</td>\n",
       "      <td>-3.297607</td>\n",
       "      <td>1.941285</td>\n",
       "      <td>...</td>\n",
       "      <td>-1.980757</td>\n",
       "      <td>-2.586916</td>\n",
       "      <td>-8.551545</td>\n",
       "      <td>-16.207698</td>\n",
       "      <td>2.237815</td>\n",
       "      <td>0.476220</td>\n",
       "      <td>-0.350022</td>\n",
       "      <td>0.102257</td>\n",
       "      <td>-0.450464</td>\n",
       "      <td>0.0</td>\n",
       "    </tr>\n",
       "  </tbody>\n",
       "</table>\n",
       "<p>30000 rows × 26 columns</p>\n",
       "</div>"
      ],
      "text/plain": [
       "        x1        x2        x3        x4        x5        x6         x7  \\\n",
       "0      3.0 -0.183355 -4.634184  1.184842  5.470261  3.672736  -4.030212   \n",
       "1      2.0  1.643093  0.232917 -3.235598 -0.082242 -6.190242  -2.308474   \n",
       "2      1.0  0.812938  0.095642 -1.170322 -1.808930 -2.618295   1.613534   \n",
       "3      2.0 -0.250723  0.011880  2.086732 -2.476512 -0.265453   4.399695   \n",
       "4      2.0  1.215325  1.675581  2.193322  2.983158  0.007759   2.983193   \n",
       "5      3.0 -0.586428  1.458492  2.502627  5.459522 -0.464288  -3.323099   \n",
       "6      3.0  0.100524 -1.388749 -2.665432 -6.028741  2.039358   4.406920   \n",
       "7      3.0 -0.807155 -0.410471  5.684534 -5.024604 -1.326458   1.545482   \n",
       "8      3.0 -0.336882 -0.588544 -1.669453 -0.652405 -6.343050  -1.139569   \n",
       "9      2.0  0.988316 -0.248479  0.837765  1.387419 -6.525173 -15.473819   \n",
       "10     1.0  0.492496 -0.342664 -2.018667 -3.226724 -1.563788  -1.297202   \n",
       "11     1.0 -0.044271  0.102832  2.559110  2.207415  2.384315   1.575261   \n",
       "12     3.0  1.950262 -1.248222  2.018527  0.261584  6.825969  -8.176299   \n",
       "13     2.0 -0.063870  0.782585  0.154649 -2.112620 -1.499814   1.104918   \n",
       "14     1.0 -0.673051 -0.534723  0.138136  2.275431  2.413616  -0.152226   \n",
       "15     1.0  0.100836 -0.460947 -2.717226 -1.662620  0.865854   2.838971   \n",
       "16     3.0  0.560719  1.333484  4.484460  3.941095  3.926157  -3.600442   \n",
       "17     3.0  1.381467  4.598438  3.503332  1.696726  0.818334 -14.742817   \n",
       "18     2.0 -0.023407  3.124605 -3.433907  8.416833  0.071899  -0.661532   \n",
       "19     2.0  0.458176  5.624262 -3.772076 -2.870160 -3.850363 -11.881385   \n",
       "20     3.0  0.554129  0.245771  1.841282  1.826561 -9.636799  -2.080864   \n",
       "21     2.0  0.015536 -0.262950 -0.394560  1.081687  4.065506   3.720861   \n",
       "22     1.0 -0.537952 -0.620316  0.210853 -2.497314  4.459141   3.211168   \n",
       "23     2.0  0.900744  1.224174 -4.547959 -1.949198 -1.757713 -12.907477   \n",
       "24     1.0 -0.485828 -1.279618 -0.740076  2.024787  2.782813   2.039256   \n",
       "25     2.0 -1.258572 -1.365189  5.823980 -1.547764  9.029883  -3.515040   \n",
       "26     3.0  0.537811  0.890671  2.713203 -0.914636 -7.192834   2.834049   \n",
       "27     1.0 -0.295589 -1.435815  1.096950 -0.412404 -0.512314   1.749384   \n",
       "28     2.0  1.196251  0.031439 -1.776928  1.570128 -7.756356  12.968647   \n",
       "29     2.0  0.572720 -0.633823  1.539597  0.887638  4.625691  -0.403910   \n",
       "...    ...       ...       ...       ...       ...       ...        ...   \n",
       "29970  3.0 -0.308503  0.503556  0.230071  0.212965  5.778664  -5.347113   \n",
       "29971  1.0 -0.097446 -0.064047 -1.655340  0.196205  5.057217   3.453455   \n",
       "29972  1.0 -0.104883 -0.036000  0.006546 -3.265820  0.246771  -1.231762   \n",
       "29973  3.0 -1.125992  1.172603  1.492605  0.357058  2.229146   0.631614   \n",
       "29974  1.0  0.224607 -0.949469  1.156429  2.283271 -1.585535   2.508690   \n",
       "29975  2.0 -0.075160 -0.226696 -1.363867 -2.044468  1.560925  -1.151656   \n",
       "29976  1.0  0.484138  0.196155 -0.531884  0.542940 -0.397734   0.242456   \n",
       "29977  1.0  0.709266 -0.898827  2.115023  2.294383 -2.713986  -4.052480   \n",
       "29978  1.0  0.585056  0.201768  0.912530 -0.677971 -0.574839   1.178331   \n",
       "29979  2.0  1.410844  1.750420  4.552329  1.365774  2.330993   1.675921   \n",
       "29980  3.0 -0.301438  0.604586  0.408752 -5.236854  2.625958  -9.278636   \n",
       "29981  1.0 -0.914673  1.035104  1.496337 -0.079006 -2.871616  -2.787302   \n",
       "29982  3.0  0.804758 -3.748910  4.255128 -2.385220  2.843651 -13.835901   \n",
       "29983  1.0  0.333782  0.095372  0.652596 -0.963214 -2.198635   8.354360   \n",
       "29984  1.0 -0.523608  0.746780 -0.409390 -0.413449 -0.380498   0.361039   \n",
       "29985  3.0  0.510628  0.557404 -0.806079  9.766863  3.087138   7.931738   \n",
       "29986  2.0  1.106604 -0.305827 -0.477495 -2.188293 -1.230255   6.039173   \n",
       "29987  1.0 -0.103577 -0.288426  0.066966 -1.601986  2.783405   1.812960   \n",
       "29988  1.0  0.635663  2.429275 -0.049699 -1.524759  3.306374  -3.589264   \n",
       "29989  1.0  0.156562  0.767585 -2.491665 -1.942559  2.620393   3.128137   \n",
       "29990  1.0  0.476488  1.179618 -2.500085  0.534435  0.527554   4.817085   \n",
       "29991  2.0 -0.009921  0.199510  2.287348  3.153397  5.705548  -0.020830   \n",
       "29992  3.0  0.649661 -2.099386  1.461290  4.686937  9.140539   0.527979   \n",
       "29993  3.0 -0.253859  0.340019 -1.984412  3.247675  0.575336  -3.435942   \n",
       "29994  1.0  0.736580  0.433341 -0.632017 -0.909613 -0.595241   1.163006   \n",
       "29995  1.0  0.342190  0.055188 -0.572283  0.574764  3.855534   6.558000   \n",
       "29996  1.0  0.438052 -0.064013  1.261939  2.458425 -2.141189   0.812509   \n",
       "29997  3.0  0.588171  1.798733 -0.660610 -3.502469  4.491251  11.738760   \n",
       "29998  1.0  0.134892  0.111594 -1.338915  0.349295 -2.937067   0.127768   \n",
       "29999  1.0 -0.936571 -0.397513  0.861954  1.481243 -4.381343   4.754328   \n",
       "\n",
       "              x8         x9        x10 ...         x17        x18        x19  \\\n",
       "0       2.689942   8.962724   2.484879 ...  -15.994611  15.024532  23.204973   \n",
       "1      -0.968020  -5.374390   2.460543 ...   22.711908  45.220479  -0.635627   \n",
       "2      -5.186820  -0.011963   3.381312 ...   -3.333037  -8.586271  -3.326587   \n",
       "3      -0.159362   0.674294  -7.503565 ...    4.438590   9.183342   7.087640   \n",
       "4       2.731582   2.418476  -6.947729 ...  -21.198210  19.839208   9.945454   \n",
       "5      12.077233  -5.563451   3.322810 ...   -0.711339  21.769618  -0.028254   \n",
       "6      -8.420067   4.183515   7.966043 ...   -0.759000  20.886151  20.667753   \n",
       "7      12.270015   4.611056  -0.723930 ...    3.904253   2.738676 -18.404293   \n",
       "8      -0.767075  -3.199307   2.588771 ...   -6.440363   5.707824  27.422301   \n",
       "9       2.243488   5.006446   4.125233 ...  -25.140891  17.417926 -19.726156   \n",
       "10      5.479536   2.889477   6.274115 ...    5.453938 -14.036660  44.209692   \n",
       "11      2.614218   0.139660  -0.170927 ...   -7.696890  -2.616903   0.451265   \n",
       "12     -9.379149  13.914775  -8.754574 ...    6.377316 -40.125053   4.438803   \n",
       "13      3.215710  -1.838151   6.671896 ...   17.288401 -12.215198   1.565094   \n",
       "14      0.330154   3.489944   5.548768 ...  -11.445495  -5.854216  -2.480141   \n",
       "15     -0.356720   1.706732  -0.025300 ...    2.909348  -7.463501  -0.095119   \n",
       "16      2.605128   0.992751   8.164185 ...    2.451460   7.365672  15.303374   \n",
       "17     16.352322  -6.222663  -4.293430 ...   15.852935  14.146498   5.920911   \n",
       "18     -9.201236  -0.244423  -1.947979 ...   14.292659 -11.158580  -2.740799   \n",
       "19    -11.613016  10.589716   2.179813 ...   23.448100  34.334409  -0.684337   \n",
       "20    -11.279587  -3.654433  -1.665717 ...    1.080869 -14.934743 -27.029272   \n",
       "21     12.990639   8.090929   3.688688 ...   -9.721408   8.273754   2.150824   \n",
       "22     -3.410369  -4.275734  -0.963878 ...   14.064743  -3.031106  -5.834098   \n",
       "23      1.503751  -2.004630  -0.928808 ...    9.556780   8.601334  33.224651   \n",
       "24      3.137835   2.764713  -2.086667 ...   10.061202   1.374569  -6.236872   \n",
       "25     -0.519943   2.416324   9.584181 ...   11.772576  -3.907588  -5.259780   \n",
       "26      3.304728 -11.796243   7.239909 ...   30.571771  -1.062162 -33.049460   \n",
       "27     -3.738585   2.055979   0.703683 ...    9.618833   3.840551   5.455664   \n",
       "28      2.611279  -8.461652   7.287055 ...   -8.524465   6.151649  25.477965   \n",
       "29      2.473997   1.005888   3.685610 ...  -16.772133  -9.819354  13.298549   \n",
       "...          ...        ...        ... ...         ...        ...        ...   \n",
       "29970   3.803804  -2.864367 -10.960941 ...   -1.982635  26.248314  11.018793   \n",
       "29971  -1.302837   0.820165  -5.033973 ...  -11.040403 -16.038749  -3.430103   \n",
       "29972  -5.184906  10.371530   2.200866 ...    7.272503  -5.427300  11.611950   \n",
       "29973   1.717285   3.464778  10.927536 ...    6.751626 -36.299898  -3.389095   \n",
       "29974   1.244329  -5.762639   5.012303 ...    0.331490  -0.859812  -0.686515   \n",
       "29975   1.707254  -2.840995   1.614782 ...   -1.104888   0.203151   3.608840   \n",
       "29976  -2.361332   4.696063   1.762202 ...    3.215877   3.589234  25.106064   \n",
       "29977   0.548462   0.477169  -0.938677 ...   -3.862029 -11.683855   3.465106   \n",
       "29978   2.768214  -2.763979  -0.992121 ...   15.048956   0.645397  19.855666   \n",
       "29979  -0.533235   3.005663  10.404590 ...    3.301354 -16.706718   8.132303   \n",
       "29980  -8.625473   6.845845   6.796707 ...  -34.699658 -25.582066   4.001489   \n",
       "29981  -1.795664   6.209063  -1.346746 ...    5.834357   4.542328  -4.364682   \n",
       "29982 -18.543890   3.567866   3.976667 ...   33.069380 -19.110620   3.104756   \n",
       "29983  -0.072165   3.006769  -3.219080 ...    2.495758   9.804773   5.504174   \n",
       "29984   6.418492   5.376888  -3.709316 ...   -0.999924  -5.851261   4.568622   \n",
       "29985  -9.366458 -12.053553 -18.502401 ...    5.469280   7.783990   4.810483   \n",
       "29986  -2.449108   3.600595   8.557280 ...   15.242137 -15.834558  26.571791   \n",
       "29987  -0.465854  -0.262328  -0.728728 ...    2.964627   8.508772   9.027977   \n",
       "29988   1.502156   1.918500   0.316983 ...   -1.000527 -15.335729  16.931388   \n",
       "29989  -4.820041   3.880086   1.228865 ...   -3.688173  15.638931   0.617553   \n",
       "29990   2.205532   6.492471   3.229629 ...   -5.239833  10.299124  -6.247785   \n",
       "29991   5.398044   1.082984  -2.957557 ...    2.747255 -12.377818   7.873313   \n",
       "29992  -4.741311  -0.730384  -4.514821 ...    0.770637 -13.480033 -19.358973   \n",
       "29993 -11.529774  -0.780487  -5.071603 ...   -8.080178   6.781584  32.819077   \n",
       "29994   4.240000   2.575332   2.533575 ...   -4.456939   6.408305  -1.938125   \n",
       "29995   5.319750  -2.841825  -2.912564 ...   -3.143389   7.421855   0.749486   \n",
       "29996   0.854281  10.114633  -3.525051 ...  -13.992396  18.326917   6.937393   \n",
       "29997   2.148399  12.240018  10.362100 ...   13.963867   4.506591  10.880007   \n",
       "29998   6.326368   3.991437  -3.354036 ...   11.039819   3.334003   7.794350   \n",
       "29999   1.131212  -3.297607   1.941285 ...   -1.980757  -2.586916  -8.551545   \n",
       "\n",
       "             x20        x21       x22       x23       x24       x25    y  \n",
       "0       2.528437   8.962604  0.266541 -1.383385 -1.029273  1.711146  1.0  \n",
       "1      22.675962  32.937243 -1.082314  0.571426 -0.063689 -3.122653  1.0  \n",
       "2       5.033094  -5.385510 -1.281024 -0.788055  0.505804 -0.891985  0.0  \n",
       "3      25.453062  12.087652 -0.613746  0.141558 -0.206084  0.538862  0.0  \n",
       "4      13.003429 -10.114149 -0.111361 -0.954487  0.825140  1.437519  1.0  \n",
       "5      34.139830  16.388355  1.094223 -0.006528 -0.308278 -0.269354  1.0  \n",
       "6      -5.444716  -9.691848  0.106968  0.289668  0.463266  0.544190  1.0  \n",
       "7      29.809074  45.261686 -0.390345 -1.810121  0.363185 -0.118386  1.0  \n",
       "8     -12.839884 -29.174395  1.602833  1.263823  0.258739  0.755062  1.0  \n",
       "9     -34.530741  28.621006 -2.476262  0.437255  0.228907 -0.213761  1.0  \n",
       "10    -28.761550  27.212683 -2.012468  0.779081  0.578787  0.049925  1.0  \n",
       "11     21.640463   8.059171 -0.811931 -0.467696  1.115696  0.410996  0.0  \n",
       "12    -19.208301  20.812314 -0.661779  0.224823 -1.562913 -0.076285  1.0  \n",
       "13     -2.990642  -6.023450  0.454172 -0.817888  0.895375 -0.209763  0.0  \n",
       "14      8.043721  -0.809234  0.907691 -0.100476  1.267555  1.588455  0.0  \n",
       "15     -7.796221  -3.797851  0.312685 -0.244940  0.161549 -0.115247  0.0  \n",
       "16      6.312771   8.687503  0.986447 -0.229403 -1.073884  1.508835  1.0  \n",
       "17      1.625112  23.632542  1.596164 -0.297995 -0.754230 -0.441304  1.0  \n",
       "18      6.154556  11.028889  1.191987 -0.991194 -0.329163 -0.507162  1.0  \n",
       "19      3.630651 -63.077201  0.035982 -1.546072  0.208326 -0.042123  1.0  \n",
       "20     -7.986622 -11.792867 -0.819839  1.434854  0.829881  1.141698  1.0  \n",
       "21     -9.518187  15.678412  1.741363 -0.994018 -0.061492  0.843210  1.0  \n",
       "22     -5.453506  -1.319901 -0.783176  0.612540  1.010973  1.175248  0.0  \n",
       "23     -2.885921  11.700869  0.321787 -0.326823  0.898741  1.524177  1.0  \n",
       "24      0.250864  -5.549026 -0.994825 -0.440106 -0.399215  0.673473  0.0  \n",
       "25    -16.529535  16.831672 -0.098802  0.508583  1.269552 -3.803546  1.0  \n",
       "26     -7.382390  13.124589  0.451710  1.683799  1.033908  1.859143  1.0  \n",
       "27     -6.175897 -23.107782  0.443091  0.381616  0.159900  1.570329  0.0  \n",
       "28    -21.355939   8.980533  1.660266  1.241206 -1.055996  0.271295  1.0  \n",
       "29     22.203966  23.691347  1.145119  0.275223  0.737223  0.034328  1.0  \n",
       "...          ...        ...       ...       ...       ...       ...  ...  \n",
       "29970  24.270069  -3.554248  0.171606 -1.696567  0.570271 -0.240245  1.0  \n",
       "29971 -13.288519 -16.789114  0.181235  1.286985  1.057842 -1.533249  0.0  \n",
       "29972   0.856884   9.644901 -0.295714 -2.523467 -0.414083 -1.826621  0.0  \n",
       "29973  21.035072  20.091340  0.497275 -0.314905  0.970853 -0.904545  1.0  \n",
       "29974 -10.297280   7.881537  0.100636 -0.055453  0.018624  0.494914  0.0  \n",
       "29975  -7.636908  -8.258788 -0.688108 -0.444376  1.344278  0.858647  0.0  \n",
       "29976   7.466658  -2.955608  0.586283 -0.631256 -1.466480 -1.232607  0.0  \n",
       "29977  17.610638   7.806287 -0.353744 -0.781991 -1.547958  0.972668  0.0  \n",
       "29978   7.663865  -8.871846  1.479316 -0.410378 -1.112925  0.160934  0.0  \n",
       "29979  23.375068   9.494462 -0.129133  0.042823  0.870694  0.532808  1.0  \n",
       "29980   5.373367 -35.817553 -0.938935 -0.720611 -0.487898 -1.382875  1.0  \n",
       "29981   6.224571   3.445422 -0.331401  0.145854  1.067402  0.988014  0.0  \n",
       "29982  17.252491  15.475249 -1.379234 -0.946054  0.699630  2.685629  1.0  \n",
       "29983  12.253294   2.994724  0.387423  0.646906 -0.996120 -0.066526  0.0  \n",
       "29984   2.792128  -0.478207  0.042082 -0.737793 -0.380879  0.906686  0.0  \n",
       "29985  -7.924374  46.484800  1.684358 -1.494005 -1.840045 -0.914339  1.0  \n",
       "29986 -32.206739   8.688207  0.287935  1.000555 -1.836084 -0.038285  1.0  \n",
       "29987   4.859717   6.487116 -1.106975  2.133127 -0.014530  0.177208  0.0  \n",
       "29988  -7.987547   7.389267  0.444272 -0.052928  0.891952 -0.916311  0.0  \n",
       "29989  -6.959231  -5.258259  0.208085 -1.085900  0.508263 -0.243952  0.0  \n",
       "29990   5.382210  -2.989414 -0.992296  0.142911 -1.929534 -0.429020  0.0  \n",
       "29991   9.584842   4.835983  0.603037 -1.336386 -0.776144 -0.241386  0.0  \n",
       "29992 -15.978451  25.493470  0.152119  0.819738 -0.213024  0.970754  1.0  \n",
       "29993  14.047263 -11.818754 -0.402763 -1.756006 -0.191832  0.780729  1.0  \n",
       "29994   1.316601  -8.056513  0.748109  0.190219 -1.979700 -0.658454  0.0  \n",
       "29995   9.407745 -16.139067  0.871199  0.270625  0.035268 -0.858278  0.0  \n",
       "29996  10.878877 -22.235942  0.950296 -0.782184  0.439711  0.246343  0.0  \n",
       "29997   3.395453 -15.555963 -1.450757  1.036389 -0.098259  0.791844  1.0  \n",
       "29998  -0.123210  -9.375042  0.500927  0.806953 -0.248629  0.310851  0.0  \n",
       "29999 -16.207698   2.237815  0.476220 -0.350022  0.102257 -0.450464  0.0  \n",
       "\n",
       "[30000 rows x 26 columns]"
      ]
     },
     "execution_count": 2,
     "metadata": {},
     "output_type": "execute_result"
    }
   ],
   "source": [
    "# attributes = ['x1', 'x2', 'x3', 'x4', 'x5', 'x6', 'x7', 'x8', 'x9', \n",
    "#               'x10','x11', 'x12', 'x13', 'x14', 'x15', 'x16', 'x17', 'x18', 'x19', \n",
    "#               'x20', 'x21', 'x22', 'x23', 'x24', 'x25', 'y']\n",
    "\n",
    "# loading in\n",
    "# COVID_19_train = pd.read_csv('train.csv', sep=',', names=attributes, header=None)\n",
    "COVID_19_train = pd.read_csv('train.csv')\n",
    "COVID_19_test = pd.read_csv('test.csv')\n",
    "\n",
    "C19_train = pd.DataFrame(COVID_19_train)\n",
    "C19_test = pd.DataFrame(COVID_19_test)\n",
    "\n",
    "C19_train"
   ]
  },
  {
   "cell_type": "markdown",
   "metadata": {},
   "source": [
    "### 2. Obtaining some higher level information"
   ]
  },
  {
   "cell_type": "markdown",
   "metadata": {},
   "source": [
    "Trying to get an idea of what the our input training set looks like"
   ]
  },
  {
   "cell_type": "code",
   "execution_count": 3,
   "metadata": {},
   "outputs": [
    {
     "name": "stdout",
     "output_type": "stream",
     "text": [
      "<class 'pandas.core.frame.DataFrame'>\n",
      "RangeIndex: 30000 entries, 0 to 29999\n",
      "Data columns (total 26 columns):\n",
      "x1     30000 non-null float64\n",
      "x2     30000 non-null float64\n",
      "x3     30000 non-null float64\n",
      "x4     30000 non-null float64\n",
      "x5     30000 non-null float64\n",
      "x6     30000 non-null float64\n",
      "x7     30000 non-null float64\n",
      "x8     30000 non-null float64\n",
      "x9     30000 non-null float64\n",
      "x10    30000 non-null float64\n",
      "x11    30000 non-null float64\n",
      "x12    30000 non-null float64\n",
      "x13    30000 non-null float64\n",
      "x14    30000 non-null float64\n",
      "x15    30000 non-null float64\n",
      "x16    30000 non-null float64\n",
      "x17    30000 non-null float64\n",
      "x18    30000 non-null float64\n",
      "x19    30000 non-null float64\n",
      "x20    30000 non-null float64\n",
      "x21    30000 non-null float64\n",
      "x22    30000 non-null float64\n",
      "x23    30000 non-null float64\n",
      "x24    30000 non-null float64\n",
      "x25    30000 non-null float64\n",
      "y      30000 non-null float64\n",
      "dtypes: float64(26)\n",
      "memory usage: 6.0 MB\n"
     ]
    }
   ],
   "source": [
    "C19_train.info()"
   ]
  },
  {
   "cell_type": "code",
   "execution_count": 4,
   "metadata": {},
   "outputs": [
    {
     "data": {
      "text/plain": [
       "1.0    13429\n",
       "3.0     9007\n",
       "2.0     7564\n",
       "Name: x1, dtype: int64"
      ]
     },
     "execution_count": 4,
     "metadata": {},
     "output_type": "execute_result"
    }
   ],
   "source": [
    "# Gathering info to see how many possible options of categorial x1 there are\n",
    "C19_train[\"x1\"].value_counts()"
   ]
  },
  {
   "cell_type": "code",
   "execution_count": 5,
   "metadata": {},
   "outputs": [
    {
     "data": {
      "text/html": [
       "<div>\n",
       "<style scoped>\n",
       "    .dataframe tbody tr th:only-of-type {\n",
       "        vertical-align: middle;\n",
       "    }\n",
       "\n",
       "    .dataframe tbody tr th {\n",
       "        vertical-align: top;\n",
       "    }\n",
       "\n",
       "    .dataframe thead th {\n",
       "        text-align: right;\n",
       "    }\n",
       "</style>\n",
       "<table border=\"1\" class=\"dataframe\">\n",
       "  <thead>\n",
       "    <tr style=\"text-align: right;\">\n",
       "      <th></th>\n",
       "      <th>x1</th>\n",
       "      <th>x2</th>\n",
       "      <th>x3</th>\n",
       "      <th>x4</th>\n",
       "      <th>x5</th>\n",
       "      <th>x6</th>\n",
       "      <th>x7</th>\n",
       "      <th>x8</th>\n",
       "      <th>x9</th>\n",
       "      <th>x10</th>\n",
       "      <th>...</th>\n",
       "      <th>x17</th>\n",
       "      <th>x18</th>\n",
       "      <th>x19</th>\n",
       "      <th>x20</th>\n",
       "      <th>x21</th>\n",
       "      <th>x22</th>\n",
       "      <th>x23</th>\n",
       "      <th>x24</th>\n",
       "      <th>x25</th>\n",
       "      <th>y</th>\n",
       "    </tr>\n",
       "  </thead>\n",
       "  <tbody>\n",
       "    <tr>\n",
       "      <th>count</th>\n",
       "      <td>30000.000000</td>\n",
       "      <td>30000.000000</td>\n",
       "      <td>30000.000000</td>\n",
       "      <td>30000.000000</td>\n",
       "      <td>30000.000000</td>\n",
       "      <td>30000.000000</td>\n",
       "      <td>30000.000000</td>\n",
       "      <td>30000.000000</td>\n",
       "      <td>30000.000000</td>\n",
       "      <td>30000.000000</td>\n",
       "      <td>...</td>\n",
       "      <td>30000.000000</td>\n",
       "      <td>30000.000000</td>\n",
       "      <td>30000.000000</td>\n",
       "      <td>30000.000000</td>\n",
       "      <td>30000.000000</td>\n",
       "      <td>30000.000000</td>\n",
       "      <td>30000.000000</td>\n",
       "      <td>30000.000000</td>\n",
       "      <td>30000.000000</td>\n",
       "      <td>30000.000000</td>\n",
       "    </tr>\n",
       "    <tr>\n",
       "      <th>mean</th>\n",
       "      <td>1.852600</td>\n",
       "      <td>0.049272</td>\n",
       "      <td>0.155542</td>\n",
       "      <td>0.264086</td>\n",
       "      <td>0.327877</td>\n",
       "      <td>0.467856</td>\n",
       "      <td>0.540467</td>\n",
       "      <td>0.645905</td>\n",
       "      <td>0.772064</td>\n",
       "      <td>0.855704</td>\n",
       "      <td>...</td>\n",
       "      <td>1.607029</td>\n",
       "      <td>1.643243</td>\n",
       "      <td>1.738432</td>\n",
       "      <td>1.912739</td>\n",
       "      <td>2.122779</td>\n",
       "      <td>-0.008287</td>\n",
       "      <td>-0.003695</td>\n",
       "      <td>-0.014306</td>\n",
       "      <td>-0.007142</td>\n",
       "      <td>0.500700</td>\n",
       "    </tr>\n",
       "    <tr>\n",
       "      <th>std</th>\n",
       "      <td>0.852153</td>\n",
       "      <td>0.790037</td>\n",
       "      <td>1.586722</td>\n",
       "      <td>2.370197</td>\n",
       "      <td>3.182403</td>\n",
       "      <td>3.924575</td>\n",
       "      <td>4.748936</td>\n",
       "      <td>5.538706</td>\n",
       "      <td>6.337332</td>\n",
       "      <td>7.163032</td>\n",
       "      <td>...</td>\n",
       "      <td>12.645386</td>\n",
       "      <td>13.398864</td>\n",
       "      <td>14.179822</td>\n",
       "      <td>15.058734</td>\n",
       "      <td>15.889472</td>\n",
       "      <td>0.996894</td>\n",
       "      <td>0.997866</td>\n",
       "      <td>0.998303</td>\n",
       "      <td>1.002864</td>\n",
       "      <td>0.500008</td>\n",
       "    </tr>\n",
       "    <tr>\n",
       "      <th>min</th>\n",
       "      <td>1.000000</td>\n",
       "      <td>-4.127232</td>\n",
       "      <td>-7.546048</td>\n",
       "      <td>-11.394922</td>\n",
       "      <td>-15.703917</td>\n",
       "      <td>-17.282928</td>\n",
       "      <td>-21.532381</td>\n",
       "      <td>-29.281607</td>\n",
       "      <td>-30.208977</td>\n",
       "      <td>-34.958885</td>\n",
       "      <td>...</td>\n",
       "      <td>-65.028714</td>\n",
       "      <td>-69.516983</td>\n",
       "      <td>-69.663771</td>\n",
       "      <td>-73.657652</td>\n",
       "      <td>-72.907504</td>\n",
       "      <td>-3.928834</td>\n",
       "      <td>-3.994068</td>\n",
       "      <td>-4.192774</td>\n",
       "      <td>-3.803546</td>\n",
       "      <td>0.000000</td>\n",
       "    </tr>\n",
       "    <tr>\n",
       "      <th>25%</th>\n",
       "      <td>1.000000</td>\n",
       "      <td>-0.422199</td>\n",
       "      <td>-0.775418</td>\n",
       "      <td>-1.125385</td>\n",
       "      <td>-1.530502</td>\n",
       "      <td>-1.814194</td>\n",
       "      <td>-2.246759</td>\n",
       "      <td>-2.614270</td>\n",
       "      <td>-2.988377</td>\n",
       "      <td>-3.323687</td>\n",
       "      <td>...</td>\n",
       "      <td>-5.778436</td>\n",
       "      <td>-6.161997</td>\n",
       "      <td>-6.549858</td>\n",
       "      <td>-6.848749</td>\n",
       "      <td>-7.156391</td>\n",
       "      <td>-0.681687</td>\n",
       "      <td>-0.680071</td>\n",
       "      <td>-0.684913</td>\n",
       "      <td>-0.686482</td>\n",
       "      <td>0.000000</td>\n",
       "    </tr>\n",
       "    <tr>\n",
       "      <th>50%</th>\n",
       "      <td>2.000000</td>\n",
       "      <td>0.032569</td>\n",
       "      <td>0.141492</td>\n",
       "      <td>0.254399</td>\n",
       "      <td>0.329104</td>\n",
       "      <td>0.470329</td>\n",
       "      <td>0.495226</td>\n",
       "      <td>0.630812</td>\n",
       "      <td>0.796000</td>\n",
       "      <td>0.836376</td>\n",
       "      <td>...</td>\n",
       "      <td>1.542984</td>\n",
       "      <td>1.705728</td>\n",
       "      <td>1.776420</td>\n",
       "      <td>1.898707</td>\n",
       "      <td>2.144885</td>\n",
       "      <td>-0.009180</td>\n",
       "      <td>-0.003500</td>\n",
       "      <td>-0.013049</td>\n",
       "      <td>-0.004206</td>\n",
       "      <td>1.000000</td>\n",
       "    </tr>\n",
       "    <tr>\n",
       "      <th>75%</th>\n",
       "      <td>3.000000</td>\n",
       "      <td>0.503805</td>\n",
       "      <td>1.076679</td>\n",
       "      <td>1.638515</td>\n",
       "      <td>2.165261</td>\n",
       "      <td>2.768946</td>\n",
       "      <td>3.316882</td>\n",
       "      <td>3.912253</td>\n",
       "      <td>4.491845</td>\n",
       "      <td>5.015648</td>\n",
       "      <td>...</td>\n",
       "      <td>8.983422</td>\n",
       "      <td>9.508459</td>\n",
       "      <td>10.020857</td>\n",
       "      <td>10.665602</td>\n",
       "      <td>11.308316</td>\n",
       "      <td>0.666875</td>\n",
       "      <td>0.665890</td>\n",
       "      <td>0.653100</td>\n",
       "      <td>0.667001</td>\n",
       "      <td>1.000000</td>\n",
       "    </tr>\n",
       "    <tr>\n",
       "      <th>max</th>\n",
       "      <td>3.000000</td>\n",
       "      <td>3.768093</td>\n",
       "      <td>7.606813</td>\n",
       "      <td>12.314023</td>\n",
       "      <td>14.647326</td>\n",
       "      <td>23.133919</td>\n",
       "      <td>24.032719</td>\n",
       "      <td>27.760556</td>\n",
       "      <td>32.032490</td>\n",
       "      <td>36.809509</td>\n",
       "      <td>...</td>\n",
       "      <td>66.652373</td>\n",
       "      <td>59.753684</td>\n",
       "      <td>79.408555</td>\n",
       "      <td>68.661508</td>\n",
       "      <td>77.972068</td>\n",
       "      <td>3.581391</td>\n",
       "      <td>4.616384</td>\n",
       "      <td>3.815528</td>\n",
       "      <td>4.014202</td>\n",
       "      <td>1.000000</td>\n",
       "    </tr>\n",
       "  </tbody>\n",
       "</table>\n",
       "<p>8 rows × 26 columns</p>\n",
       "</div>"
      ],
      "text/plain": [
       "                 x1            x2            x3            x4            x5  \\\n",
       "count  30000.000000  30000.000000  30000.000000  30000.000000  30000.000000   \n",
       "mean       1.852600      0.049272      0.155542      0.264086      0.327877   \n",
       "std        0.852153      0.790037      1.586722      2.370197      3.182403   \n",
       "min        1.000000     -4.127232     -7.546048    -11.394922    -15.703917   \n",
       "25%        1.000000     -0.422199     -0.775418     -1.125385     -1.530502   \n",
       "50%        2.000000      0.032569      0.141492      0.254399      0.329104   \n",
       "75%        3.000000      0.503805      1.076679      1.638515      2.165261   \n",
       "max        3.000000      3.768093      7.606813     12.314023     14.647326   \n",
       "\n",
       "                 x6            x7            x8            x9           x10  \\\n",
       "count  30000.000000  30000.000000  30000.000000  30000.000000  30000.000000   \n",
       "mean       0.467856      0.540467      0.645905      0.772064      0.855704   \n",
       "std        3.924575      4.748936      5.538706      6.337332      7.163032   \n",
       "min      -17.282928    -21.532381    -29.281607    -30.208977    -34.958885   \n",
       "25%       -1.814194     -2.246759     -2.614270     -2.988377     -3.323687   \n",
       "50%        0.470329      0.495226      0.630812      0.796000      0.836376   \n",
       "75%        2.768946      3.316882      3.912253      4.491845      5.015648   \n",
       "max       23.133919     24.032719     27.760556     32.032490     36.809509   \n",
       "\n",
       "           ...                x17           x18           x19           x20  \\\n",
       "count      ...       30000.000000  30000.000000  30000.000000  30000.000000   \n",
       "mean       ...           1.607029      1.643243      1.738432      1.912739   \n",
       "std        ...          12.645386     13.398864     14.179822     15.058734   \n",
       "min        ...         -65.028714    -69.516983    -69.663771    -73.657652   \n",
       "25%        ...          -5.778436     -6.161997     -6.549858     -6.848749   \n",
       "50%        ...           1.542984      1.705728      1.776420      1.898707   \n",
       "75%        ...           8.983422      9.508459     10.020857     10.665602   \n",
       "max        ...          66.652373     59.753684     79.408555     68.661508   \n",
       "\n",
       "                x21           x22           x23           x24           x25  \\\n",
       "count  30000.000000  30000.000000  30000.000000  30000.000000  30000.000000   \n",
       "mean       2.122779     -0.008287     -0.003695     -0.014306     -0.007142   \n",
       "std       15.889472      0.996894      0.997866      0.998303      1.002864   \n",
       "min      -72.907504     -3.928834     -3.994068     -4.192774     -3.803546   \n",
       "25%       -7.156391     -0.681687     -0.680071     -0.684913     -0.686482   \n",
       "50%        2.144885     -0.009180     -0.003500     -0.013049     -0.004206   \n",
       "75%       11.308316      0.666875      0.665890      0.653100      0.667001   \n",
       "max       77.972068      3.581391      4.616384      3.815528      4.014202   \n",
       "\n",
       "                  y  \n",
       "count  30000.000000  \n",
       "mean       0.500700  \n",
       "std        0.500008  \n",
       "min        0.000000  \n",
       "25%        0.000000  \n",
       "50%        1.000000  \n",
       "75%        1.000000  \n",
       "max        1.000000  \n",
       "\n",
       "[8 rows x 26 columns]"
      ]
     },
     "execution_count": 5,
     "metadata": {},
     "output_type": "execute_result"
    }
   ],
   "source": [
    "C19_train.describe()"
   ]
  },
  {
   "cell_type": "code",
   "execution_count": 6,
   "metadata": {
    "scrolled": true
   },
   "outputs": [
    {
     "data": {
      "text/plain": [
       "0        1.0\n",
       "1        1.0\n",
       "2        0.0\n",
       "3        0.0\n",
       "4        1.0\n",
       "5        1.0\n",
       "6        1.0\n",
       "7        1.0\n",
       "8        1.0\n",
       "9        1.0\n",
       "10       1.0\n",
       "11       0.0\n",
       "12       1.0\n",
       "13       0.0\n",
       "14       0.0\n",
       "15       0.0\n",
       "16       1.0\n",
       "17       1.0\n",
       "18       1.0\n",
       "19       1.0\n",
       "20       1.0\n",
       "21       1.0\n",
       "22       0.0\n",
       "23       1.0\n",
       "24       0.0\n",
       "25       1.0\n",
       "26       1.0\n",
       "27       0.0\n",
       "28       1.0\n",
       "29       1.0\n",
       "        ... \n",
       "29970    1.0\n",
       "29971    0.0\n",
       "29972    0.0\n",
       "29973    1.0\n",
       "29974    0.0\n",
       "29975    0.0\n",
       "29976    0.0\n",
       "29977    0.0\n",
       "29978    0.0\n",
       "29979    1.0\n",
       "29980    1.0\n",
       "29981    0.0\n",
       "29982    1.0\n",
       "29983    0.0\n",
       "29984    0.0\n",
       "29985    1.0\n",
       "29986    1.0\n",
       "29987    0.0\n",
       "29988    0.0\n",
       "29989    0.0\n",
       "29990    0.0\n",
       "29991    0.0\n",
       "29992    1.0\n",
       "29993    1.0\n",
       "29994    0.0\n",
       "29995    0.0\n",
       "29996    0.0\n",
       "29997    1.0\n",
       "29998    0.0\n",
       "29999    0.0\n",
       "Name: y, Length: 30000, dtype: float64"
      ]
     },
     "execution_count": 6,
     "metadata": {},
     "output_type": "execute_result"
    }
   ],
   "source": [
    "C19_train.y  # Classification either positive or negative for coronavirus"
   ]
  },
  {
   "cell_type": "code",
   "execution_count": 7,
   "metadata": {},
   "outputs": [
    {
     "data": {
      "text/plain": [
       "dtype('float64')"
      ]
     },
     "execution_count": 7,
     "metadata": {},
     "output_type": "execute_result"
    }
   ],
   "source": [
    "C19_train.y.dtype"
   ]
  },
  {
   "cell_type": "code",
   "execution_count": 8,
   "metadata": {},
   "outputs": [
    {
     "data": {
      "text/plain": [
       "0        3.0\n",
       "1        2.0\n",
       "2        1.0\n",
       "3        2.0\n",
       "4        2.0\n",
       "5        3.0\n",
       "6        3.0\n",
       "7        3.0\n",
       "8        3.0\n",
       "9        2.0\n",
       "10       1.0\n",
       "11       1.0\n",
       "12       3.0\n",
       "13       2.0\n",
       "14       1.0\n",
       "15       1.0\n",
       "16       3.0\n",
       "17       3.0\n",
       "18       2.0\n",
       "19       2.0\n",
       "20       3.0\n",
       "21       2.0\n",
       "22       1.0\n",
       "23       2.0\n",
       "24       1.0\n",
       "25       2.0\n",
       "26       3.0\n",
       "27       1.0\n",
       "28       2.0\n",
       "29       2.0\n",
       "        ... \n",
       "29970    3.0\n",
       "29971    1.0\n",
       "29972    1.0\n",
       "29973    3.0\n",
       "29974    1.0\n",
       "29975    2.0\n",
       "29976    1.0\n",
       "29977    1.0\n",
       "29978    1.0\n",
       "29979    2.0\n",
       "29980    3.0\n",
       "29981    1.0\n",
       "29982    3.0\n",
       "29983    1.0\n",
       "29984    1.0\n",
       "29985    3.0\n",
       "29986    2.0\n",
       "29987    1.0\n",
       "29988    1.0\n",
       "29989    1.0\n",
       "29990    1.0\n",
       "29991    2.0\n",
       "29992    3.0\n",
       "29993    3.0\n",
       "29994    1.0\n",
       "29995    1.0\n",
       "29996    1.0\n",
       "29997    3.0\n",
       "29998    1.0\n",
       "29999    1.0\n",
       "Name: x1, Length: 30000, dtype: float64"
      ]
     },
     "execution_count": 8,
     "metadata": {},
     "output_type": "execute_result"
    }
   ],
   "source": [
    "C19_train.x1 # Some categorical data, in first column"
   ]
  },
  {
   "cell_type": "markdown",
   "metadata": {},
   "source": [
    "### 3. Plot histograms of all the attributes"
   ]
  },
  {
   "cell_type": "code",
   "execution_count": 9,
   "metadata": {
    "scrolled": true
   },
   "outputs": [
    {
     "data": {
      "text/plain": [
       "array([[<matplotlib.axes._subplots.AxesSubplot object at 0x000001B29E85A470>,\n",
       "        <matplotlib.axes._subplots.AxesSubplot object at 0x000001B29E761B00>,\n",
       "        <matplotlib.axes._subplots.AxesSubplot object at 0x000001B29E8DB1D0>,\n",
       "        <matplotlib.axes._subplots.AxesSubplot object at 0x000001B29E8FA860>,\n",
       "        <matplotlib.axes._subplots.AxesSubplot object at 0x000001B29D831EF0>],\n",
       "       [<matplotlib.axes._subplots.AxesSubplot object at 0x000001B29D831F28>,\n",
       "        <matplotlib.axes._subplots.AxesSubplot object at 0x000001B29E679C50>,\n",
       "        <matplotlib.axes._subplots.AxesSubplot object at 0x000001B29E7AA320>,\n",
       "        <matplotlib.axes._subplots.AxesSubplot object at 0x000001B29E7CF9B0>,\n",
       "        <matplotlib.axes._subplots.AxesSubplot object at 0x000001B29E882080>],\n",
       "       [<matplotlib.axes._subplots.AxesSubplot object at 0x000001B29E8AB710>,\n",
       "        <matplotlib.axes._subplots.AxesSubplot object at 0x000001B29EA24DA0>,\n",
       "        <matplotlib.axes._subplots.AxesSubplot object at 0x000001B29EA53470>,\n",
       "        <matplotlib.axes._subplots.AxesSubplot object at 0x000001B29EA7AB00>,\n",
       "        <matplotlib.axes._subplots.AxesSubplot object at 0x000001B29EB1C1D0>],\n",
       "       [<matplotlib.axes._subplots.AxesSubplot object at 0x000001B29EB43860>,\n",
       "        <matplotlib.axes._subplots.AxesSubplot object at 0x000001B29EB6BEF0>,\n",
       "        <matplotlib.axes._subplots.AxesSubplot object at 0x000001B29EB9D5C0>,\n",
       "        <matplotlib.axes._subplots.AxesSubplot object at 0x000001B29EC03C50>,\n",
       "        <matplotlib.axes._subplots.AxesSubplot object at 0x000001B29EC37320>],\n",
       "       [<matplotlib.axes._subplots.AxesSubplot object at 0x000001B29EC5C9B0>,\n",
       "        <matplotlib.axes._subplots.AxesSubplot object at 0x000001B29EC8D080>,\n",
       "        <matplotlib.axes._subplots.AxesSubplot object at 0x000001B29ECB8710>,\n",
       "        <matplotlib.axes._subplots.AxesSubplot object at 0x000001B29ECDEDA0>,\n",
       "        <matplotlib.axes._subplots.AxesSubplot object at 0x000001B29ED0E470>],\n",
       "       [<matplotlib.axes._subplots.AxesSubplot object at 0x000001B29ED37B00>,\n",
       "        <matplotlib.axes._subplots.AxesSubplot object at 0x000001B29ED681D0>,\n",
       "        <matplotlib.axes._subplots.AxesSubplot object at 0x000001B29ED8D860>,\n",
       "        <matplotlib.axes._subplots.AxesSubplot object at 0x000001B29EDB8EF0>,\n",
       "        <matplotlib.axes._subplots.AxesSubplot object at 0x000001B29EE195C0>]],\n",
       "      dtype=object)"
      ]
     },
     "execution_count": 9,
     "metadata": {},
     "output_type": "execute_result"
    },
    {
     "data": {
      "image/png": "[encoded data removed]",
      "text/plain": [
       "<Figure size 1440x1080 with 30 Axes>"
      ]
     },
     "metadata": {},
     "output_type": "display_data"
    }
   ],
   "source": [
    "%matplotlib inline\n",
    "import matplotlib.pyplot as plt\n",
    "C19_train.hist(bins=50, figsize=(20,15))"
   ]
  },
  {
   "cell_type": "code",
   "execution_count": 10,
   "metadata": {},
   "outputs": [
    {
     "data": {
      "text/plain": [
       "<bound method NDFrame.head of         x1        x2        x3        x4        x5        x6         x7  \\\n",
       "0      3.0 -0.183355 -4.634184  1.184842  5.470261  3.672736  -4.030212   \n",
       "1      2.0  1.643093  0.232917 -3.235598 -0.082242 -6.190242  -2.308474   \n",
       "2      1.0  0.812938  0.095642 -1.170322 -1.808930 -2.618295   1.613534   \n",
       "3      2.0 -0.250723  0.011880  2.086732 -2.476512 -0.265453   4.399695   \n",
       "4      2.0  1.215325  1.675581  2.193322  2.983158  0.007759   2.983193   \n",
       "5      3.0 -0.586428  1.458492  2.502627  5.459522 -0.464288  -3.323099   \n",
       "6      3.0  0.100524 -1.388749 -2.665432 -6.028741  2.039358   4.406920   \n",
       "7      3.0 -0.807155 -0.410471  5.684534 -5.024604 -1.326458   1.545482   \n",
       "8      3.0 -0.336882 -0.588544 -1.669453 -0.652405 -6.343050  -1.139569   \n",
       "9      2.0  0.988316 -0.248479  0.837765  1.387419 -6.525173 -15.473819   \n",
       "10     1.0  0.492496 -0.342664 -2.018667 -3.226724 -1.563788  -1.297202   \n",
       "11     1.0 -0.044271  0.102832  2.559110  2.207415  2.384315   1.575261   \n",
       "12     3.0  1.950262 -1.248222  2.018527  0.261584  6.825969  -8.176299   \n",
       "13     2.0 -0.063870  0.782585  0.154649 -2.112620 -1.499814   1.104918   \n",
       "14     1.0 -0.673051 -0.534723  0.138136  2.275431  2.413616  -0.152226   \n",
       "15     1.0  0.100836 -0.460947 -2.717226 -1.662620  0.865854   2.838971   \n",
       "16     3.0  0.560719  1.333484  4.484460  3.941095  3.926157  -3.600442   \n",
       "17     3.0  1.381467  4.598438  3.503332  1.696726  0.818334 -14.742817   \n",
       "18     2.0 -0.023407  3.124605 -3.433907  8.416833  0.071899  -0.661532   \n",
       "19     2.0  0.458176  5.624262 -3.772076 -2.870160 -3.850363 -11.881385   \n",
       "20     3.0  0.554129  0.245771  1.841282  1.826561 -9.636799  -2.080864   \n",
       "21     2.0  0.015536 -0.262950 -0.394560  1.081687  4.065506   3.720861   \n",
       "22     1.0 -0.537952 -0.620316  0.210853 -2.497314  4.459141   3.211168   \n",
       "23     2.0  0.900744  1.224174 -4.547959 -1.949198 -1.757713 -12.907477   \n",
       "24     1.0 -0.485828 -1.279618 -0.740076  2.024787  2.782813   2.039256   \n",
       "25     2.0 -1.258572 -1.365189  5.823980 -1.547764  9.029883  -3.515040   \n",
       "26     3.0  0.537811  0.890671  2.713203 -0.914636 -7.192834   2.834049   \n",
       "27     1.0 -0.295589 -1.435815  1.096950 -0.412404 -0.512314   1.749384   \n",
       "28     2.0  1.196251  0.031439 -1.776928  1.570128 -7.756356  12.968647   \n",
       "29     2.0  0.572720 -0.633823  1.539597  0.887638  4.625691  -0.403910   \n",
       "...    ...       ...       ...       ...       ...       ...        ...   \n",
       "29970  3.0 -0.308503  0.503556  0.230071  0.212965  5.778664  -5.347113   \n",
       "29971  1.0 -0.097446 -0.064047 -1.655340  0.196205  5.057217   3.453455   \n",
       "29972  1.0 -0.104883 -0.036000  0.006546 -3.265820  0.246771  -1.231762   \n",
       "29973  3.0 -1.125992  1.172603  1.492605  0.357058  2.229146   0.631614   \n",
       "29974  1.0  0.224607 -0.949469  1.156429  2.283271 -1.585535   2.508690   \n",
       "29975  2.0 -0.075160 -0.226696 -1.363867 -2.044468  1.560925  -1.151656   \n",
       "29976  1.0  0.484138  0.196155 -0.531884  0.542940 -0.397734   0.242456   \n",
       "29977  1.0  0.709266 -0.898827  2.115023  2.294383 -2.713986  -4.052480   \n",
       "29978  1.0  0.585056  0.201768  0.912530 -0.677971 -0.574839   1.178331   \n",
       "29979  2.0  1.410844  1.750420  4.552329  1.365774  2.330993   1.675921   \n",
       "29980  3.0 -0.301438  0.604586  0.408752 -5.236854  2.625958  -9.278636   \n",
       "29981  1.0 -0.914673  1.035104  1.496337 -0.079006 -2.871616  -2.787302   \n",
       "29982  3.0  0.804758 -3.748910  4.255128 -2.385220  2.843651 -13.835901   \n",
       "29983  1.0  0.333782  0.095372  0.652596 -0.963214 -2.198635   8.354360   \n",
       "29984  1.0 -0.523608  0.746780 -0.409390 -0.413449 -0.380498   0.361039   \n",
       "29985  3.0  0.510628  0.557404 -0.806079  9.766863  3.087138   7.931738   \n",
       "29986  2.0  1.106604 -0.305827 -0.477495 -2.188293 -1.230255   6.039173   \n",
       "29987  1.0 -0.103577 -0.288426  0.066966 -1.601986  2.783405   1.812960   \n",
       "29988  1.0  0.635663  2.429275 -0.049699 -1.524759  3.306374  -3.589264   \n",
       "29989  1.0  0.156562  0.767585 -2.491665 -1.942559  2.620393   3.128137   \n",
       "29990  1.0  0.476488  1.179618 -2.500085  0.534435  0.527554   4.817085   \n",
       "29991  2.0 -0.009921  0.199510  2.287348  3.153397  5.705548  -0.020830   \n",
       "29992  3.0  0.649661 -2.099386  1.461290  4.686937  9.140539   0.527979   \n",
       "29993  3.0 -0.253859  0.340019 -1.984412  3.247675  0.575336  -3.435942   \n",
       "29994  1.0  0.736580  0.433341 -0.632017 -0.909613 -0.595241   1.163006   \n",
       "29995  1.0  0.342190  0.055188 -0.572283  0.574764  3.855534   6.558000   \n",
       "29996  1.0  0.438052 -0.064013  1.261939  2.458425 -2.141189   0.812509   \n",
       "29997  3.0  0.588171  1.798733 -0.660610 -3.502469  4.491251  11.738760   \n",
       "29998  1.0  0.134892  0.111594 -1.338915  0.349295 -2.937067   0.127768   \n",
       "29999  1.0 -0.936571 -0.397513  0.861954  1.481243 -4.381343   4.754328   \n",
       "\n",
       "              x8         x9        x10    ...           x16        x17  \\\n",
       "0       2.689942   8.962724   2.484879    ...     -6.469738 -15.994611   \n",
       "1      -0.968020  -5.374390   2.460543    ...      5.488683  22.711908   \n",
       "2      -5.186820  -0.011963   3.381312    ...      2.264152  -3.333037   \n",
       "3      -0.159362   0.674294  -7.503565    ...     10.880357   4.438590   \n",
       "4       2.731582   2.418476  -6.947729    ...      5.877623 -21.198210   \n",
       "5      12.077233  -5.563451   3.322810    ...      5.273967  -0.711339   \n",
       "6      -8.420067   4.183515   7.966043    ...      3.572028  -0.759000   \n",
       "7      12.270015   4.611056  -0.723930    ...     -3.598741   3.904253   \n",
       "8      -0.767075  -3.199307   2.588771    ...      0.290988  -6.440363   \n",
       "9       2.243488   5.006446   4.125233    ...     38.313011 -25.140891   \n",
       "10      5.479536   2.889477   6.274115    ...      4.103471   5.453938   \n",
       "11      2.614218   0.139660  -0.170927    ...     -0.783808  -7.696890   \n",
       "12     -9.379149  13.914775  -8.754574    ...    -12.536906   6.377316   \n",
       "13      3.215710  -1.838151   6.671896    ...     -1.695865  17.288401   \n",
       "14      0.330154   3.489944   5.548768    ...     -6.077430 -11.445495   \n",
       "15     -0.356720   1.706732  -0.025300    ...     -3.663976   2.909348   \n",
       "16      2.605128   0.992751   8.164185    ...     33.669229   2.451460   \n",
       "17     16.352322  -6.222663  -4.293430    ...    -12.702290  15.852935   \n",
       "18     -9.201236  -0.244423  -1.947979    ...    -20.434987  14.292659   \n",
       "19    -11.613016  10.589716   2.179813    ...    -11.255098  23.448100   \n",
       "20    -11.279587  -3.654433  -1.665717    ...      6.840933   1.080869   \n",
       "21     12.990639   8.090929   3.688688    ...     11.995186  -9.721408   \n",
       "22     -3.410369  -4.275734  -0.963878    ...     -1.240420  14.064743   \n",
       "23      1.503751  -2.004630  -0.928808    ...     10.143445   9.556780   \n",
       "24      3.137835   2.764713  -2.086667    ...      4.035862  10.061202   \n",
       "25     -0.519943   2.416324   9.584181    ...      1.726522  11.772576   \n",
       "26      3.304728 -11.796243   7.239909    ...     -2.399890  30.571771   \n",
       "27     -3.738585   2.055979   0.703683    ...     11.245945   9.618833   \n",
       "28      2.611279  -8.461652   7.287055    ...     27.546245  -8.524465   \n",
       "29      2.473997   1.005888   3.685610    ...      5.384512 -16.772133   \n",
       "...          ...        ...        ...    ...           ...        ...   \n",
       "29970   3.803804  -2.864367 -10.960941    ...     -1.596724  -1.982635   \n",
       "29971  -1.302837   0.820165  -5.033973    ...      0.783124 -11.040403   \n",
       "29972  -5.184906  10.371530   2.200866    ...     -5.741282   7.272503   \n",
       "29973   1.717285   3.464778  10.927536    ...     23.190541   6.751626   \n",
       "29974   1.244329  -5.762639   5.012303    ...     15.508633   0.331490   \n",
       "29975   1.707254  -2.840995   1.614782    ...      1.459101  -1.104888   \n",
       "29976  -2.361332   4.696063   1.762202    ...     -1.308508   3.215877   \n",
       "29977   0.548462   0.477169  -0.938677    ...     15.632699  -3.862029   \n",
       "29978   2.768214  -2.763979  -0.992121    ...    -12.040399  15.048956   \n",
       "29979  -0.533235   3.005663  10.404590    ...     42.324879   3.301354   \n",
       "29980  -8.625473   6.845845   6.796707    ...    -19.435441 -34.699658   \n",
       "29981  -1.795664   6.209063  -1.346746    ...      4.195186   5.834357   \n",
       "29982 -18.543890   3.567866   3.976667    ...     -7.851149  33.069380   \n",
       "29983  -0.072165   3.006769  -3.219080    ...     -6.572244   2.495758   \n",
       "29984   6.418492   5.376888  -3.709316    ...    -13.164895  -0.999924   \n",
       "29985  -9.366458 -12.053553 -18.502401    ...     -5.344068   5.469280   \n",
       "29986  -2.449108   3.600595   8.557280    ...      8.309945  15.242137   \n",
       "29987  -0.465854  -0.262328  -0.728728    ...     12.918819   2.964627   \n",
       "29988   1.502156   1.918500   0.316983    ...      0.755043  -1.000527   \n",
       "29989  -4.820041   3.880086   1.228865    ...      1.533144  -3.688173   \n",
       "29990   2.205532   6.492471   3.229629    ...     -3.307120  -5.239833   \n",
       "29991   5.398044   1.082984  -2.957557    ...     -4.016689   2.747255   \n",
       "29992  -4.741311  -0.730384  -4.514821    ...     -5.757049   0.770637   \n",
       "29993 -11.529774  -0.780487  -5.071603    ...      3.673927  -8.080178   \n",
       "29994   4.240000   2.575332   2.533575    ...    -15.014049  -4.456939   \n",
       "29995   5.319750  -2.841825  -2.912564    ...      6.392150  -3.143389   \n",
       "29996   0.854281  10.114633  -3.525051    ...    -15.205190 -13.992396   \n",
       "29997   2.148399  12.240018  10.362100    ...    -14.147107  13.963867   \n",
       "29998   6.326368   3.991437  -3.354036    ...     20.031081  11.039819   \n",
       "29999   1.131212  -3.297607   1.941285    ...     -8.147352  -1.980757   \n",
       "\n",
       "             x18        x19        x20        x21       x22       x23  \\\n",
       "0      15.024532  23.204973   2.528437   8.962604  0.266541 -1.383385   \n",
       "1      45.220479  -0.635627  22.675962  32.937243 -1.082314  0.571426   \n",
       "2      -8.586271  -3.326587   5.033094  -5.385510 -1.281024 -0.788055   \n",
       "3       9.183342   7.087640  25.453062  12.087652 -0.613746  0.141558   \n",
       "4      19.839208   9.945454  13.003429 -10.114149 -0.111361 -0.954487   \n",
       "5      21.769618  -0.028254  34.139830  16.388355  1.094223 -0.006528   \n",
       "6      20.886151  20.667753  -5.444716  -9.691848  0.106968  0.289668   \n",
       "7       2.738676 -18.404293  29.809074  45.261686 -0.390345 -1.810121   \n",
       "8       5.707824  27.422301 -12.839884 -29.174395  1.602833  1.263823   \n",
       "9      17.417926 -19.726156 -34.530741  28.621006 -2.476262  0.437255   \n",
       "10    -14.036660  44.209692 -28.761550  27.212683 -2.012468  0.779081   \n",
       "11     -2.616903   0.451265  21.640463   8.059171 -0.811931 -0.467696   \n",
       "12    -40.125053   4.438803 -19.208301  20.812314 -0.661779  0.224823   \n",
       "13    -12.215198   1.565094  -2.990642  -6.023450  0.454172 -0.817888   \n",
       "14     -5.854216  -2.480141   8.043721  -0.809234  0.907691 -0.100476   \n",
       "15     -7.463501  -0.095119  -7.796221  -3.797851  0.312685 -0.244940   \n",
       "16      7.365672  15.303374   6.312771   8.687503  0.986447 -0.229403   \n",
       "17     14.146498   5.920911   1.625112  23.632542  1.596164 -0.297995   \n",
       "18    -11.158580  -2.740799   6.154556  11.028889  1.191987 -0.991194   \n",
       "19     34.334409  -0.684337   3.630651 -63.077201  0.035982 -1.546072   \n",
       "20    -14.934743 -27.029272  -7.986622 -11.792867 -0.819839  1.434854   \n",
       "21      8.273754   2.150824  -9.518187  15.678412  1.741363 -0.994018   \n",
       "22     -3.031106  -5.834098  -5.453506  -1.319901 -0.783176  0.612540   \n",
       "23      8.601334  33.224651  -2.885921  11.700869  0.321787 -0.326823   \n",
       "24      1.374569  -6.236872   0.250864  -5.549026 -0.994825 -0.440106   \n",
       "25     -3.907588  -5.259780 -16.529535  16.831672 -0.098802  0.508583   \n",
       "26     -1.062162 -33.049460  -7.382390  13.124589  0.451710  1.683799   \n",
       "27      3.840551   5.455664  -6.175897 -23.107782  0.443091  0.381616   \n",
       "28      6.151649  25.477965 -21.355939   8.980533  1.660266  1.241206   \n",
       "29     -9.819354  13.298549  22.203966  23.691347  1.145119  0.275223   \n",
       "...          ...        ...        ...        ...       ...       ...   \n",
       "29970  26.248314  11.018793  24.270069  -3.554248  0.171606 -1.696567   \n",
       "29971 -16.038749  -3.430103 -13.288519 -16.789114  0.181235  1.286985   \n",
       "29972  -5.427300  11.611950   0.856884   9.644901 -0.295714 -2.523467   \n",
       "29973 -36.299898  -3.389095  21.035072  20.091340  0.497275 -0.314905   \n",
       "29974  -0.859812  -0.686515 -10.297280   7.881537  0.100636 -0.055453   \n",
       "29975   0.203151   3.608840  -7.636908  -8.258788 -0.688108 -0.444376   \n",
       "29976   3.589234  25.106064   7.466658  -2.955608  0.586283 -0.631256   \n",
       "29977 -11.683855   3.465106  17.610638   7.806287 -0.353744 -0.781991   \n",
       "29978   0.645397  19.855666   7.663865  -8.871846  1.479316 -0.410378   \n",
       "29979 -16.706718   8.132303  23.375068   9.494462 -0.129133  0.042823   \n",
       "29980 -25.582066   4.001489   5.373367 -35.817553 -0.938935 -0.720611   \n",
       "29981   4.542328  -4.364682   6.224571   3.445422 -0.331401  0.145854   \n",
       "29982 -19.110620   3.104756  17.252491  15.475249 -1.379234 -0.946054   \n",
       "29983   9.804773   5.504174  12.253294   2.994724  0.387423  0.646906   \n",
       "29984  -5.851261   4.568622   2.792128  -0.478207  0.042082 -0.737793   \n",
       "29985   7.783990   4.810483  -7.924374  46.484800  1.684358 -1.494005   \n",
       "29986 -15.834558  26.571791 -32.206739   8.688207  0.287935  1.000555   \n",
       "29987   8.508772   9.027977   4.859717   6.487116 -1.106975  2.133127   \n",
       "29988 -15.335729  16.931388  -7.987547   7.389267  0.444272 -0.052928   \n",
       "29989  15.638931   0.617553  -6.959231  -5.258259  0.208085 -1.085900   \n",
       "29990  10.299124  -6.247785   5.382210  -2.989414 -0.992296  0.142911   \n",
       "29991 -12.377818   7.873313   9.584842   4.835983  0.603037 -1.336386   \n",
       "29992 -13.480033 -19.358973 -15.978451  25.493470  0.152119  0.819738   \n",
       "29993   6.781584  32.819077  14.047263 -11.818754 -0.402763 -1.756006   \n",
       "29994   6.408305  -1.938125   1.316601  -8.056513  0.748109  0.190219   \n",
       "29995   7.421855   0.749486   9.407745 -16.139067  0.871199  0.270625   \n",
       "29996  18.326917   6.937393  10.878877 -22.235942  0.950296 -0.782184   \n",
       "29997   4.506591  10.880007   3.395453 -15.555963 -1.450757  1.036389   \n",
       "29998   3.334003   7.794350  -0.123210  -9.375042  0.500927  0.806953   \n",
       "29999  -2.586916  -8.551545 -16.207698   2.237815  0.476220 -0.350022   \n",
       "\n",
       "            x24       x25  \n",
       "0     -1.029273  1.711146  \n",
       "1     -0.063689 -3.122653  \n",
       "2      0.505804 -0.891985  \n",
       "3     -0.206084  0.538862  \n",
       "4      0.825140  1.437519  \n",
       "5     -0.308278 -0.269354  \n",
       "6      0.463266  0.544190  \n",
       "7      0.363185 -0.118386  \n",
       "8      0.258739  0.755062  \n",
       "9      0.228907 -0.213761  \n",
       "10     0.578787  0.049925  \n",
       "11     1.115696  0.410996  \n",
       "12    -1.562913 -0.076285  \n",
       "13     0.895375 -0.209763  \n",
       "14     1.267555  1.588455  \n",
       "15     0.161549 -0.115247  \n",
       "16    -1.073884  1.508835  \n",
       "17    -0.754230 -0.441304  \n",
       "18    -0.329163 -0.507162  \n",
       "19     0.208326 -0.042123  \n",
       "20     0.829881  1.141698  \n",
       "21    -0.061492  0.843210  \n",
       "22     1.010973  1.175248  \n",
       "23     0.898741  1.524177  \n",
       "24    -0.399215  0.673473  \n",
       "25     1.269552 -3.803546  \n",
       "26     1.033908  1.859143  \n",
       "27     0.159900  1.570329  \n",
       "28    -1.055996  0.271295  \n",
       "29     0.737223  0.034328  \n",
       "...         ...       ...  \n",
       "29970  0.570271 -0.240245  \n",
       "29971  1.057842 -1.533249  \n",
       "29972 -0.414083 -1.826621  \n",
       "29973  0.970853 -0.904545  \n",
       "29974  0.018624  0.494914  \n",
       "29975  1.344278  0.858647  \n",
       "29976 -1.466480 -1.232607  \n",
       "29977 -1.547958  0.972668  \n",
       "29978 -1.112925  0.160934  \n",
       "29979  0.870694  0.532808  \n",
       "29980 -0.487898 -1.382875  \n",
       "29981  1.067402  0.988014  \n",
       "29982  0.699630  2.685629  \n",
       "29983 -0.996120 -0.066526  \n",
       "29984 -0.380879  0.906686  \n",
       "29985 -1.840045 -0.914339  \n",
       "29986 -1.836084 -0.038285  \n",
       "29987 -0.014530  0.177208  \n",
       "29988  0.891952 -0.916311  \n",
       "29989  0.508263 -0.243952  \n",
       "29990 -1.929534 -0.429020  \n",
       "29991 -0.776144 -0.241386  \n",
       "29992 -0.213024  0.970754  \n",
       "29993 -0.191832  0.780729  \n",
       "29994 -1.979700 -0.658454  \n",
       "29995  0.035268 -0.858278  \n",
       "29996  0.439711  0.246343  \n",
       "29997 -0.098259  0.791844  \n",
       "29998 -0.248629  0.310851  \n",
       "29999  0.102257 -0.450464  \n",
       "\n",
       "[30000 rows x 25 columns]>"
      ]
     },
     "execution_count": 10,
     "metadata": {},
     "output_type": "execute_result"
    }
   ],
   "source": [
    "X_train_pre = C19_train.iloc[: , 0:25]   # transform data array \n",
    "X_test = C19_test.iloc[: , 0:25]\n",
    "X_train_pre.head"
   ]
  },
  {
   "cell_type": "code",
   "execution_count": 11,
   "metadata": {},
   "outputs": [
    {
     "name": "stdout",
     "output_type": "stream",
     "text": [
      "0        1.0\n",
      "1        1.0\n",
      "2        0.0\n",
      "3        0.0\n",
      "4        1.0\n",
      "5        1.0\n",
      "6        1.0\n",
      "7        1.0\n",
      "8        1.0\n",
      "9        1.0\n",
      "10       1.0\n",
      "11       0.0\n",
      "12       1.0\n",
      "13       0.0\n",
      "14       0.0\n",
      "15       0.0\n",
      "16       1.0\n",
      "17       1.0\n",
      "18       1.0\n",
      "19       1.0\n",
      "20       1.0\n",
      "21       1.0\n",
      "22       0.0\n",
      "23       1.0\n",
      "24       0.0\n",
      "25       1.0\n",
      "26       1.0\n",
      "27       0.0\n",
      "28       1.0\n",
      "29       1.0\n",
      "        ... \n",
      "29970    1.0\n",
      "29971    0.0\n",
      "29972    0.0\n",
      "29973    1.0\n",
      "29974    0.0\n",
      "29975    0.0\n",
      "29976    0.0\n",
      "29977    0.0\n",
      "29978    0.0\n",
      "29979    1.0\n",
      "29980    1.0\n",
      "29981    0.0\n",
      "29982    1.0\n",
      "29983    0.0\n",
      "29984    0.0\n",
      "29985    1.0\n",
      "29986    1.0\n",
      "29987    0.0\n",
      "29988    0.0\n",
      "29989    0.0\n",
      "29990    0.0\n",
      "29991    0.0\n",
      "29992    1.0\n",
      "29993    1.0\n",
      "29994    0.0\n",
      "29995    0.0\n",
      "29996    0.0\n",
      "29997    1.0\n",
      "29998    0.0\n",
      "29999    0.0\n",
      "Name: y, Length: 30000, dtype: float64\n"
     ]
    }
   ],
   "source": [
    "y_train = C19_train.iloc[:,-1]\n",
    "y_test = C19_test.iloc[:,-1]\n",
    "print(y_train)"
   ]
  },
  {
   "cell_type": "code",
   "execution_count": 12,
   "metadata": {},
   "outputs": [
    {
     "data": {
      "text/plain": [
       "(30000, 25)"
      ]
     },
     "execution_count": 12,
     "metadata": {},
     "output_type": "execute_result"
    }
   ],
   "source": [
    "X_train_pre.shape"
   ]
  },
  {
   "cell_type": "code",
   "execution_count": 13,
   "metadata": {},
   "outputs": [
    {
     "data": {
      "text/plain": [
       "(30000,)"
      ]
     },
     "execution_count": 13,
     "metadata": {},
     "output_type": "execute_result"
    }
   ],
   "source": [
    "y_train.shape"
   ]
  },
  {
   "cell_type": "code",
   "execution_count": 14,
   "metadata": {},
   "outputs": [
    {
     "data": {
      "text/plain": [
       "Index(['x1', 'x2', 'x3', 'x4', 'x5', 'x6', 'x7', 'x8', 'x9', 'x10', 'x11',\n",
       "       'x12', 'x13', 'x14', 'x15', 'x16', 'x17', 'x18', 'x19', 'x20', 'x21',\n",
       "       'x22', 'x23', 'x24', 'x25'],\n",
       "      dtype='object')"
      ]
     },
     "execution_count": 14,
     "metadata": {},
     "output_type": "execute_result"
    }
   ],
   "source": [
    "X_train_pre.columns"
   ]
  },
  {
   "cell_type": "markdown",
   "metadata": {},
   "source": [
    "### 4. Prepare Numerical and Categorial data through pipelining of both the traininng and testing set"
   ]
  },
  {
   "cell_type": "code",
   "execution_count": 15,
   "metadata": {},
   "outputs": [],
   "source": [
    "from sklearn.preprocessing import OneHotEncoder"
   ]
  },
  {
   "cell_type": "code",
   "execution_count": 16,
   "metadata": {},
   "outputs": [],
   "source": [
    "# from sklearn.impute import SimpleImputer\n",
    "# shouldn't need SimpleImputer or Combined Attributes Adder created in \n",
    "# Ch02 end to end ML project\n",
    "\n",
    "X_train_num = X_train_pre.drop(\"x1\", axis=1)\n",
    "\n",
    "from sklearn.pipeline import Pipeline\n",
    "from sklearn.preprocessing import StandardScaler\n",
    "\n",
    "num_pipeline = Pipeline([\n",
    "        ('std_scaler', StandardScaler()),\n",
    "    ])\n",
    "\n",
    "X_train_num_tr = num_pipeline.fit_transform(X_train_num)"
   ]
  },
  {
   "cell_type": "code",
   "execution_count": 17,
   "metadata": {},
   "outputs": [
    {
     "data": {
      "text/plain": [
       "array([[-0.29445543, -3.01867991,  0.388479  , ..., -1.38266321,\n",
       "        -1.0167101 ,  1.71340928],\n",
       "       [ 2.01743404,  0.04876503, -1.47656173, ...,  0.57636043,\n",
       "        -0.04946777, -3.10666585],\n",
       "       [ 0.96663571, -0.03775175, -0.60519514, ..., -0.78605085,\n",
       "         0.5210024 , -0.88233162],\n",
       "       ...,\n",
       "       [ 0.68213   ,  1.03560596, -0.39014087, ...,  1.04232486,\n",
       "        -0.08409703,  0.79671719],\n",
       "       [ 0.10837612, -0.02769797, -0.67632665, ...,  0.81239487,\n",
       "        -0.23472567,  0.3170894 ],\n",
       "       [-1.24786564, -0.34855752,  0.25224832, ..., -0.34707399,\n",
       "         0.11676318, -0.44206346]])"
      ]
     },
     "execution_count": 17,
     "metadata": {},
     "output_type": "execute_result"
    }
   ],
   "source": [
    "X_train_num_tr"
   ]
  },
  {
   "cell_type": "code",
   "execution_count": 18,
   "metadata": {},
   "outputs": [],
   "source": [
    "from sklearn.compose import ColumnTransformer\n",
    "\n",
    "# columns of both test and train set are same\n",
    "num_attribs = list(X_train_num)\n",
    "cat_attribs = [\"x1\"]\n",
    "\n",
    "full_pipeline = ColumnTransformer([\n",
    "        (\"num\", num_pipeline, num_attribs),\n",
    "        (\"cat\", OneHotEncoder(), cat_attribs),\n",
    "    ])\n",
    "\n",
    "X_train = full_pipeline.fit_transform(X_train_pre)"
   ]
  },
  {
   "cell_type": "markdown",
   "metadata": {},
   "source": [
    "### 5. Use RandomForestClassifier, report the importance of each attribute"
   ]
  },
  {
   "cell_type": "code",
   "execution_count": 19,
   "metadata": {},
   "outputs": [
    {
     "data": {
      "text/plain": [
       "RandomForestClassifier(bootstrap=True, ccp_alpha=0.0, class_weight=None,\n",
       "                       criterion='gini', max_depth=None, max_features='auto',\n",
       "                       max_leaf_nodes=None, max_samples=None,\n",
       "                       min_impurity_decrease=0.0, min_impurity_split=None,\n",
       "                       min_samples_leaf=1, min_samples_split=2,\n",
       "                       min_weight_fraction_leaf=0.0, n_estimators=100,\n",
       "                       n_jobs=-1, oob_score=False, random_state=42, verbose=0,\n",
       "                       warm_start=False)"
      ]
     },
     "execution_count": 19,
     "metadata": {},
     "output_type": "execute_result"
    }
   ],
   "source": [
    "from sklearn.ensemble import RandomForestClassifier\n",
    "\n",
    "RF_CLF = RandomForestClassifier(n_jobs=-1, random_state=42, n_estimators=100)\n",
    "RF_CLF.fit(X_train,y_train)\n"
   ]
  },
  {
   "cell_type": "code",
   "execution_count": 20,
   "metadata": {},
   "outputs": [
    {
     "data": {
      "text/plain": [
       "array([0.9593, 0.963 , 0.958 ])"
      ]
     },
     "execution_count": 20,
     "metadata": {},
     "output_type": "execute_result"
    }
   ],
   "source": [
    "from sklearn.model_selection import cross_val_score \n",
    "cross_val_score(RF_CLF, X_train, y_train, cv=3, scoring=\"accuracy\")"
   ]
  },
  {
   "cell_type": "code",
   "execution_count": 21,
   "metadata": {},
   "outputs": [],
   "source": [
    "feature_importance = list(zip(RF_CLF.feature_importances_, X_train_pre.columns))\n",
    "feature_importance.sort(reverse=True)"
   ]
  },
  {
   "cell_type": "code",
   "execution_count": 22,
   "metadata": {},
   "outputs": [
    {
     "name": "stdout",
     "output_type": "stream",
     "text": [
      "x1 0.04368001323313353\n",
      "x2 0.0410008639899888\n",
      "x3 0.03689951895427097\n",
      "x4 0.034752991086270626\n",
      "x5 0.022971267239576466\n",
      "x6 0.023092250925179216\n",
      "x7 0.025154430965476367\n",
      "x8 0.029318318501594512\n",
      "x9 0.025326133478628988\n",
      "x10 0.026756930305718525\n",
      "x11 0.017296026596624135\n",
      "x12 0.02651266958792644\n",
      "x13 0.023101683504041914\n",
      "x14 0.02243973238768359\n",
      "x15 0.02261731683317337\n",
      "x16 0.01782552054928475\n",
      "x17 0.020999857733033433\n",
      "x18 0.030619482684522022\n",
      "x19 0.020746485628934972\n",
      "x20 0.04173630815170659\n",
      "x21 0.006420609116582483\n",
      "x22 0.006215120582456871\n",
      "x23 0.006156396361313113\n",
      "x24 0.005991483138213072\n",
      "x25 0.2673993217100404\n"
     ]
    }
   ],
   "source": [
    "for name, score in zip(X_train_pre.columns, RF_CLF.feature_importances_):\n",
    "    print(name, score)"
   ]
  },
  {
   "cell_type": "code",
   "execution_count": 23,
   "metadata": {},
   "outputs": [
    {
     "data": {
      "text/plain": [
       "<matplotlib.axes._subplots.AxesSubplot at 0x1b2a76790b8>"
      ]
     },
     "execution_count": 23,
     "metadata": {},
     "output_type": "execute_result"
    },
    {
     "data": {
      "image/png": "[encoded data removed]",
      "text/plain": [
       "<Figure size 432x288 with 1 Axes>"
      ]
     },
     "metadata": {},
     "output_type": "display_data"
    }
   ],
   "source": [
    "pd.DataFrame(feature_importance, index=[x for (_,x) in feature_importance]).plot(kind = 'bar')"
   ]
  },
  {
   "cell_type": "markdown",
   "metadata": {},
   "source": [
    "***It appears that x25 is the most important feature by a long shot here***"
   ]
  },
  {
   "cell_type": "markdown",
   "metadata": {},
   "source": [
    "### 6. Train 3 Classifier in terms of accuracy, then obtain a soft-margin classifier"
   ]
  },
  {
   "cell_type": "markdown",
   "metadata": {},
   "source": [
    "1st classifier - Extra-Trees"
   ]
  },
  {
   "cell_type": "code",
   "execution_count": 24,
   "metadata": {},
   "outputs": [],
   "source": [
    "from sklearn.ensemble import ExtraTreesClassifier"
   ]
  },
  {
   "cell_type": "code",
   "execution_count": 25,
   "metadata": {},
   "outputs": [],
   "source": [
    "from sklearn.model_selection import RandomizedSearchCV\n",
    "from scipy.stats import randint\n",
    "  \n",
    "XT_clf = ExtraTreesClassifier(random_state=42)"
   ]
  },
  {
   "cell_type": "code",
   "execution_count": 26,
   "metadata": {},
   "outputs": [
    {
     "data": {
      "text/plain": [
       "ExtraTreesClassifier(bootstrap=False, ccp_alpha=0.0, class_weight=None,\n",
       "                     criterion='gini', max_depth=None, max_features='auto',\n",
       "                     max_leaf_nodes=None, max_samples=None,\n",
       "                     min_impurity_decrease=0.0, min_impurity_split=None,\n",
       "                     min_samples_leaf=1, min_samples_split=2,\n",
       "                     min_weight_fraction_leaf=0.0, n_estimators=100,\n",
       "                     n_jobs=None, oob_score=False, random_state=42, verbose=0,\n",
       "                     warm_start=False)"
      ]
     },
     "execution_count": 26,
     "metadata": {},
     "output_type": "execute_result"
    }
   ],
   "source": [
    "XT_clf.fit(X_train, y_train)"
   ]
  },
  {
   "cell_type": "code",
   "execution_count": 27,
   "metadata": {},
   "outputs": [
    {
     "data": {
      "text/plain": [
       "array([0.9664, 0.9681, 0.9681])"
      ]
     },
     "execution_count": 27,
     "metadata": {},
     "output_type": "execute_result"
    }
   ],
   "source": [
    "cross_val_score(XT_clf, X_train, y_train, cv=3, scoring=\"accuracy\")"
   ]
  },
  {
   "cell_type": "markdown",
   "metadata": {},
   "source": [
    "2. SVC Classifier"
   ]
  },
  {
   "cell_type": "code",
   "execution_count": 28,
   "metadata": {},
   "outputs": [
    {
     "data": {
      "text/plain": [
       "SVC(C=1.0, break_ties=False, cache_size=200, class_weight=None, coef0=0.0,\n",
       "    decision_function_shape='ovr', degree=3, gamma='auto', kernel='rbf',\n",
       "    max_iter=-1, probability=True, random_state=42, shrinking=True, tol=0.001,\n",
       "    verbose=False)"
      ]
     },
     "execution_count": 28,
     "metadata": {},
     "output_type": "execute_result"
    }
   ],
   "source": [
    "from sklearn.svm import SVC\n",
    "\n",
    "SVC_clf = SVC(gamma=\"auto\", probability=True, random_state=42)\n",
    "SVC_clf.fit(X_train, y_train)"
   ]
  },
  {
   "cell_type": "code",
   "execution_count": 29,
   "metadata": {},
   "outputs": [
    {
     "data": {
      "text/plain": [
       "array([0.9868, 0.9878, 0.9881])"
      ]
     },
     "execution_count": 29,
     "metadata": {},
     "output_type": "execute_result"
    }
   ],
   "source": [
    "cross_val_score(SVC_clf, X_train, y_train, cv=3, scoring=\"accuracy\")"
   ]
  },
  {
   "cell_type": "markdown",
   "metadata": {},
   "source": [
    "3. Random Forest Classifier"
   ]
  },
  {
   "cell_type": "code",
   "execution_count": 30,
   "metadata": {},
   "outputs": [
    {
     "data": {
      "text/plain": [
       "RandomForestClassifier(bootstrap=True, ccp_alpha=0.0, class_weight=None,\n",
       "                       criterion='gini', max_depth=None, max_features='auto',\n",
       "                       max_leaf_nodes=None, max_samples=None,\n",
       "                       min_impurity_decrease=0.0, min_impurity_split=None,\n",
       "                       min_samples_leaf=1, min_samples_split=2,\n",
       "                       min_weight_fraction_leaf=0.0, n_estimators=100,\n",
       "                       n_jobs=None, oob_score=False, random_state=42, verbose=0,\n",
       "                       warm_start=False)"
      ]
     },
     "execution_count": 30,
     "metadata": {},
     "output_type": "execute_result"
    }
   ],
   "source": [
    "from sklearn.ensemble import RandomForestClassifier\n",
    "\n",
    "RF_clf = RandomForestClassifier(random_state=42)\n",
    "RF_clf.fit(X_train, y_train)"
   ]
  },
  {
   "cell_type": "code",
   "execution_count": 31,
   "metadata": {},
   "outputs": [
    {
     "data": {
      "text/plain": [
       "array([0.9593, 0.963 , 0.958 ])"
      ]
     },
     "execution_count": 31,
     "metadata": {},
     "output_type": "execute_result"
    }
   ],
   "source": [
    "cross_val_score(RF_clf, X_train, y_train, cv=3, scoring=\"accuracy\")"
   ]
  },
  {
   "cell_type": "markdown",
   "metadata": {},
   "source": [
    "Combining and making a soft-margin voting classifier"
   ]
  },
  {
   "cell_type": "code",
   "execution_count": 32,
   "metadata": {},
   "outputs": [],
   "source": [
    "estimators = [XT_clf, SVC_clf, RF_clf]"
   ]
  },
  {
   "cell_type": "code",
   "execution_count": 33,
   "metadata": {},
   "outputs": [
    {
     "data": {
      "text/plain": [
       "[1.0, 0.9929, 1.0]"
      ]
     },
     "execution_count": 33,
     "metadata": {},
     "output_type": "execute_result"
    }
   ],
   "source": [
    "[estimator.score(X_train, y_train) for estimator in estimators]"
   ]
  },
  {
   "cell_type": "code",
   "execution_count": 34,
   "metadata": {},
   "outputs": [],
   "source": [
    "from sklearn.ensemble import VotingClassifier"
   ]
  },
  {
   "cell_type": "code",
   "execution_count": 35,
   "metadata": {},
   "outputs": [],
   "source": [
    "my_estimators = [\n",
    "    (\"extra_trees_clf\", XT_clf),\n",
    "    (\"svc_clf\", SVC_clf),\n",
    "    (\"random_forest_clf\", RF_clf),\n",
    "]"
   ]
  },
  {
   "cell_type": "code",
   "execution_count": 36,
   "metadata": {},
   "outputs": [],
   "source": [
    "voting_clf = VotingClassifier(my_estimators)"
   ]
  },
  {
   "cell_type": "code",
   "execution_count": 37,
   "metadata": {},
   "outputs": [
    {
     "data": {
      "text/plain": [
       "VotingClassifier(estimators=[('extra_trees_clf',\n",
       "                              ExtraTreesClassifier(bootstrap=False,\n",
       "                                                   ccp_alpha=0.0,\n",
       "                                                   class_weight=None,\n",
       "                                                   criterion='gini',\n",
       "                                                   max_depth=None,\n",
       "                                                   max_features='auto',\n",
       "                                                   max_leaf_nodes=None,\n",
       "                                                   max_samples=None,\n",
       "                                                   min_impurity_decrease=0.0,\n",
       "                                                   min_impurity_split=None,\n",
       "                                                   min_samples_leaf=1,\n",
       "                                                   min_samples_split=2,\n",
       "                                                   min_weight_fraction_leaf=0.0,\n",
       "                                                   n_estimators=100,\n",
       "                                                   n_jobs=No...\n",
       "                                                     criterion='gini',\n",
       "                                                     max_depth=None,\n",
       "                                                     max_features='auto',\n",
       "                                                     max_leaf_nodes=None,\n",
       "                                                     max_samples=None,\n",
       "                                                     min_impurity_decrease=0.0,\n",
       "                                                     min_impurity_split=None,\n",
       "                                                     min_samples_leaf=1,\n",
       "                                                     min_samples_split=2,\n",
       "                                                     min_weight_fraction_leaf=0.0,\n",
       "                                                     n_estimators=100,\n",
       "                                                     n_jobs=None,\n",
       "                                                     oob_score=False,\n",
       "                                                     random_state=42, verbose=0,\n",
       "                                                     warm_start=False))],\n",
       "                 flatten_transform=True, n_jobs=None, voting='hard',\n",
       "                 weights=None)"
      ]
     },
     "execution_count": 37,
     "metadata": {},
     "output_type": "execute_result"
    }
   ],
   "source": [
    "voting_clf.fit(X_train, y_train)"
   ]
  },
  {
   "cell_type": "code",
   "execution_count": 38,
   "metadata": {},
   "outputs": [
    {
     "data": {
      "text/plain": [
       "1.0"
      ]
     },
     "execution_count": 38,
     "metadata": {},
     "output_type": "execute_result"
    }
   ],
   "source": [
    "voting_clf.score(X_train, y_train)"
   ]
  },
  {
   "cell_type": "code",
   "execution_count": 39,
   "metadata": {},
   "outputs": [
    {
     "data": {
      "text/plain": [
       "[1.0, 0.9929, 1.0]"
      ]
     },
     "execution_count": 39,
     "metadata": {},
     "output_type": "execute_result"
    }
   ],
   "source": [
    "[estimator.score(X_train, y_train) for estimator in voting_clf.estimators_]"
   ]
  },
  {
   "cell_type": "code",
   "execution_count": 40,
   "metadata": {},
   "outputs": [],
   "source": [
    "voting_clf.voting = \"soft\""
   ]
  },
  {
   "cell_type": "code",
   "execution_count": 41,
   "metadata": {},
   "outputs": [
    {
     "data": {
      "text/plain": [
       "1.0"
      ]
     },
     "execution_count": 41,
     "metadata": {},
     "output_type": "execute_result"
    }
   ],
   "source": [
    "voting_clf.score(X_train, y_train)"
   ]
  },
  {
   "cell_type": "markdown",
   "metadata": {},
   "source": [
    "### 7. Explore 4 classifier in 6. on recall and precision trade-off and find the best classifier for our purposes"
   ]
  },
  {
   "cell_type": "code",
   "execution_count": 42,
   "metadata": {},
   "outputs": [],
   "source": [
    "from sklearn.metrics import roc_curve, roc_auc_score\n",
    "from sklearn.model_selection import cross_val_predict\n",
    "\n",
    "from sklearn.metrics import precision_score, recall_score\n",
    "from sklearn.metrics import precision_recall_curve"
   ]
  },
  {
   "cell_type": "markdown",
   "metadata": {},
   "source": [
    "**Extra Trees ROC Curve, and ROC AUC Score**"
   ]
  },
  {
   "cell_type": "code",
   "execution_count": 43,
   "metadata": {},
   "outputs": [],
   "source": [
    "y_probas_XT = cross_val_predict(XT_clf, X_train, y_train, cv=3,\n",
    "                                    method=\"predict_proba\")\n",
    "\n",
    "y_scores_XT = y_probas_XT[:, 1]\n",
    "fpr_XT, tpr_XT, thresholds_XT = roc_curve(y_train, y_scores_XT)"
   ]
  },
  {
   "cell_type": "code",
   "execution_count": 44,
   "metadata": {},
   "outputs": [
    {
     "data": {
      "image/png": "[encoded data removed]",
      "text/plain": [
       "<Figure size 576x432 with 1 Axes>"
      ]
     },
     "metadata": {},
     "output_type": "display_data"
    }
   ],
   "source": [
    "def plot_roc_curve(fpr, tpr, label=None):\n",
    "    plt.plot(fpr, tpr, linewidth=2, label=label)\n",
    "    plt.plot([0, 1], [0, 1], 'k--') # dashed diagonal\n",
    "    plt.axis([0, 1, 0, 1])                                    # Not shown in the book\n",
    "    plt.xlabel('False Positive Rate (Fall-Out)', fontsize=16) # Not shown\n",
    "    plt.ylabel('True Positive Rate (Recall)', fontsize=16)    # Not shown\n",
    "    plt.grid(True)                                            # Not shown\n",
    "\n",
    "#subplot dotted lines and dots from textbook\n",
    "plt.figure(figsize=(8, 6))                         # Not shown\n",
    "plot_roc_curve(fpr_XT, tpr_XT, \"Extra Tree Classifier\")\n",
    "\n",
    "plt.show()"
   ]
  },
  {
   "cell_type": "code",
   "execution_count": 45,
   "metadata": {},
   "outputs": [
    {
     "data": {
      "text/plain": [
       "0.9963434039441829"
      ]
     },
     "execution_count": 45,
     "metadata": {},
     "output_type": "execute_result"
    }
   ],
   "source": [
    "roc_auc_score(y_train, y_scores_XT)"
   ]
  },
  {
   "cell_type": "code",
   "execution_count": 46,
   "metadata": {},
   "outputs": [],
   "source": [
    "def plot_precision_vs_recall(precisions, recalls):\n",
    "    plt.plot(recalls, precisions, \"b-\", linewidth=2)\n",
    "    plt.xlabel(\"Recall\", fontsize=16)\n",
    "    plt.ylabel(\"Precision\", fontsize=16)\n",
    "    plt.axis([0, 1, 0, 1])\n",
    "    plt.grid(True)"
   ]
  },
  {
   "cell_type": "code",
   "execution_count": 47,
   "metadata": {},
   "outputs": [
    {
     "data": {
      "image/png": "[encoded data removed]",
      "text/plain": [
       "<Figure size 576x432 with 1 Axes>"
      ]
     },
     "metadata": {},
     "output_type": "display_data"
    }
   ],
   "source": [
    "precisions_XT, recalls_XT, thresholds_XT = precision_recall_curve(y_train, y_scores_XT)\n",
    "\n",
    "plt.figure(figsize=(8, 6))\n",
    "plot_precision_vs_recall(precisions_XT, recalls_XT)\n",
    "\n",
    "plt.show()"
   ]
  },
  {
   "cell_type": "code",
   "execution_count": 48,
   "metadata": {},
   "outputs": [],
   "source": [
    "threshold_100_recall_XT = thresholds_XT[np.argmax(recalls_XT >= 1.00)]"
   ]
  },
  {
   "cell_type": "code",
   "execution_count": 49,
   "metadata": {},
   "outputs": [
    {
     "data": {
      "text/plain": [
       "0.01"
      ]
     },
     "execution_count": 49,
     "metadata": {},
     "output_type": "execute_result"
    }
   ],
   "source": [
    "threshold_100_recall_XT"
   ]
  },
  {
   "cell_type": "code",
   "execution_count": 50,
   "metadata": {},
   "outputs": [],
   "source": [
    "y_train_pred_100_XT = (y_scores_XT >= threshold_100_recall_XT)"
   ]
  },
  {
   "cell_type": "code",
   "execution_count": 51,
   "metadata": {},
   "outputs": [
    {
     "data": {
      "text/plain": [
       "0.5770870951630873"
      ]
     },
     "execution_count": 51,
     "metadata": {},
     "output_type": "execute_result"
    }
   ],
   "source": [
    "precision_score(y_train, y_train_pred_100_XT)"
   ]
  },
  {
   "cell_type": "markdown",
   "metadata": {},
   "source": [
    "**SVC ROC Curve, and ROC AUC Score**"
   ]
  },
  {
   "cell_type": "code",
   "execution_count": 52,
   "metadata": {},
   "outputs": [],
   "source": [
    "y_probas_SVC = cross_val_predict(SVC_clf, X_train, y_train, cv=3,\n",
    "                                    method=\"predict_proba\")\n",
    "\n",
    "y_scores_SVC = y_probas_SVC[:, 1]\n",
    "fpr_SVC, tpr_SVC, thresholds_SVC = roc_curve(y_train, y_scores_SVC)"
   ]
  },
  {
   "cell_type": "code",
   "execution_count": 53,
   "metadata": {},
   "outputs": [
    {
     "data": {
      "image/png": "[encoded data removed]",
      "text/plain": [
       "<Figure size 576x432 with 1 Axes>"
      ]
     },
     "metadata": {},
     "output_type": "display_data"
    }
   ],
   "source": [
    "plt.figure(figsize=(8, 6))                         # Not shown\n",
    "plot_roc_curve(fpr_SVC, tpr_SVC, \"SVC Classifier\")\n",
    "\n",
    "plt.show()"
   ]
  },
  {
   "cell_type": "code",
   "execution_count": 54,
   "metadata": {},
   "outputs": [
    {
     "data": {
      "text/plain": [
       "0.9991270671779404"
      ]
     },
     "execution_count": 54,
     "metadata": {},
     "output_type": "execute_result"
    }
   ],
   "source": [
    "roc_auc_score(y_train, y_scores_SVC)"
   ]
  },
  {
   "cell_type": "code",
   "execution_count": 55,
   "metadata": {},
   "outputs": [
    {
     "data": {
      "image/png": "[encoded data removed]",
      "text/plain": [
       "<Figure size 576x432 with 1 Axes>"
      ]
     },
     "metadata": {},
     "output_type": "display_data"
    }
   ],
   "source": [
    "precisions_SVC, recalls_SVC, thresholds_SVC = precision_recall_curve(y_train, y_scores_SVC)\n",
    "\n",
    "plt.figure(figsize=(8, 6))\n",
    "plot_precision_vs_recall(precisions_SVC, recalls_SVC)\n",
    "\n",
    "plt.show()"
   ]
  },
  {
   "cell_type": "code",
   "execution_count": 56,
   "metadata": {},
   "outputs": [],
   "source": [
    "threshold_100_recall_SVC = thresholds_SVC[np.argmax(recalls_SVC >= 1.00)]"
   ]
  },
  {
   "cell_type": "code",
   "execution_count": 57,
   "metadata": {},
   "outputs": [
    {
     "data": {
      "text/plain": [
       "0.00021397008078930224"
      ]
     },
     "execution_count": 57,
     "metadata": {},
     "output_type": "execute_result"
    }
   ],
   "source": [
    "threshold_100_recall_SVC"
   ]
  },
  {
   "cell_type": "code",
   "execution_count": 58,
   "metadata": {},
   "outputs": [],
   "source": [
    "y_train_pred_100_SVC = (y_scores_SVC >= threshold_100_recall_SVC)"
   ]
  },
  {
   "cell_type": "code",
   "execution_count": 59,
   "metadata": {},
   "outputs": [
    {
     "data": {
      "text/plain": [
       "0.6921162972860895"
      ]
     },
     "execution_count": 59,
     "metadata": {},
     "output_type": "execute_result"
    }
   ],
   "source": [
    "precision_score(y_train, y_train_pred_100_SVC)"
   ]
  },
  {
   "cell_type": "markdown",
   "metadata": {},
   "source": [
    "**Random Forest ROC Curve, and ROC AUC Score**"
   ]
  },
  {
   "cell_type": "code",
   "execution_count": 60,
   "metadata": {},
   "outputs": [],
   "source": [
    "y_probas_RF = cross_val_predict(RF_clf, X_train, y_train, cv=3,\n",
    "                                    method=\"predict_proba\")\n",
    "\n",
    "y_scores_RF = y_probas_RF[:, 1]\n",
    "fpr_RF, tpr_RF, thresholds_RF = roc_curve(y_train, y_scores_RF)"
   ]
  },
  {
   "cell_type": "code",
   "execution_count": 61,
   "metadata": {},
   "outputs": [
    {
     "data": {
      "image/png": "[encoded data removed]",
      "text/plain": [
       "<Figure size 576x432 with 1 Axes>"
      ]
     },
     "metadata": {},
     "output_type": "display_data"
    }
   ],
   "source": [
    "plt.figure(figsize=(8, 6))                         # Not shown\n",
    "plot_roc_curve(fpr_RF, tpr_RF, \"Random Forest Classifier\")\n",
    "\n",
    "plt.show()"
   ]
  },
  {
   "cell_type": "code",
   "execution_count": 62,
   "metadata": {},
   "outputs": [
    {
     "data": {
      "text/plain": [
       "0.9954453444062084"
      ]
     },
     "execution_count": 62,
     "metadata": {},
     "output_type": "execute_result"
    }
   ],
   "source": [
    "roc_auc_score(y_train, y_scores_RF)"
   ]
  },
  {
   "cell_type": "code",
   "execution_count": 63,
   "metadata": {},
   "outputs": [
    {
     "data": {
      "image/png": "[encoded data removed]",
      "text/plain": [
       "<Figure size 576x432 with 1 Axes>"
      ]
     },
     "metadata": {},
     "output_type": "display_data"
    }
   ],
   "source": [
    "precisions_RF, recalls_RF, thresholds_RF = precision_recall_curve(y_train, y_scores_RF)\n",
    "\n",
    "plt.figure(figsize=(8, 6))\n",
    "plot_precision_vs_recall(precisions_RF, recalls_RF)\n",
    "\n",
    "plt.show()"
   ]
  },
  {
   "cell_type": "code",
   "execution_count": 64,
   "metadata": {},
   "outputs": [],
   "source": [
    "threshold_100_recall_RF = thresholds_RF[np.argmax(recalls_RF >= 1.00)]"
   ]
  },
  {
   "cell_type": "code",
   "execution_count": 65,
   "metadata": {},
   "outputs": [
    {
     "data": {
      "text/plain": [
       "0.0"
      ]
     },
     "execution_count": 65,
     "metadata": {},
     "output_type": "execute_result"
    }
   ],
   "source": [
    "threshold_100_recall_RF"
   ]
  },
  {
   "cell_type": "code",
   "execution_count": 66,
   "metadata": {},
   "outputs": [],
   "source": [
    "y_train_pred_100_RF = (y_scores_RF >= threshold_100_recall_RF)"
   ]
  },
  {
   "cell_type": "code",
   "execution_count": 67,
   "metadata": {},
   "outputs": [
    {
     "data": {
      "text/plain": [
       "0.5007"
      ]
     },
     "execution_count": 67,
     "metadata": {},
     "output_type": "execute_result"
    }
   ],
   "source": [
    "precision_score(y_train, y_train_pred_100_RF)"
   ]
  },
  {
   "cell_type": "markdown",
   "metadata": {},
   "source": [
    "**Voting Classifier ROC Curve, and ROC AUC Score**"
   ]
  },
  {
   "cell_type": "code",
   "execution_count": 68,
   "metadata": {},
   "outputs": [],
   "source": [
    "y_probas_VT = cross_val_predict(voting_clf, X_train, y_train, cv=3,\n",
    "                                    method=\"predict_proba\")\n",
    "\n",
    "y_scores_VT = y_probas_VT[:, 1]\n",
    "fpr_VT, tpr_VT, thresholds_VT = roc_curve(y_train, y_scores_VT)"
   ]
  },
  {
   "cell_type": "code",
   "execution_count": 69,
   "metadata": {},
   "outputs": [
    {
     "data": {
      "image/png": "[encoded data removed]",
      "text/plain": [
       "<Figure size 576x432 with 1 Axes>"
      ]
     },
     "metadata": {},
     "output_type": "display_data"
    }
   ],
   "source": [
    "plt.figure(figsize=(8, 6))                         # Not shown\n",
    "plot_roc_curve(fpr_VT, tpr_VT, \"Voting Classifier\")\n",
    "\n",
    "plt.show()"
   ]
  },
  {
   "cell_type": "code",
   "execution_count": 70,
   "metadata": {},
   "outputs": [
    {
     "data": {
      "text/plain": [
       "0.9985618505145604"
      ]
     },
     "execution_count": 70,
     "metadata": {},
     "output_type": "execute_result"
    }
   ],
   "source": [
    "roc_auc_score(y_train, y_scores_VT)"
   ]
  },
  {
   "cell_type": "code",
   "execution_count": 71,
   "metadata": {},
   "outputs": [
    {
     "data": {
      "image/png": "[encoded data removed]",
      "text/plain": [
       "<Figure size 576x432 with 1 Axes>"
      ]
     },
     "metadata": {},
     "output_type": "display_data"
    }
   ],
   "source": [
    "precisions_VT, recalls_VT, thresholds_VT = precision_recall_curve(y_train, y_scores_VT)\n",
    "\n",
    "plt.figure(figsize=(8, 6))\n",
    "plot_precision_vs_recall(precisions_VT, recalls_VT)\n",
    "\n",
    "plt.show()"
   ]
  },
  {
   "cell_type": "code",
   "execution_count": 72,
   "metadata": {},
   "outputs": [],
   "source": [
    "threshold_100_recall_VT = thresholds_VT[np.argmax(recalls_VT >= 1.00)]"
   ]
  },
  {
   "cell_type": "code",
   "execution_count": 73,
   "metadata": {},
   "outputs": [
    {
     "data": {
      "text/plain": [
       "0.0036932853027226062"
      ]
     },
     "execution_count": 73,
     "metadata": {},
     "output_type": "execute_result"
    }
   ],
   "source": [
    "threshold_100_recall_VT"
   ]
  },
  {
   "cell_type": "code",
   "execution_count": 74,
   "metadata": {},
   "outputs": [],
   "source": [
    "y_train_pred_100_VT = (y_scores_VT >= threshold_100_recall_VT)"
   ]
  },
  {
   "cell_type": "code",
   "execution_count": 75,
   "metadata": {},
   "outputs": [
    {
     "data": {
      "text/plain": [
       "0.6073262442890066"
      ]
     },
     "execution_count": 75,
     "metadata": {},
     "output_type": "execute_result"
    }
   ],
   "source": [
    "precision_score(y_train, y_train_pred_100_VT)"
   ]
  },
  {
   "cell_type": "markdown",
   "metadata": {},
   "source": [
    "**It appears that the SVC Classifier is best performing, with roughly a 0.69211 precision at recall=1.00, we will move on and fine tune the hyperparameters for this classifier**"
   ]
  },
  {
   "cell_type": "markdown",
   "metadata": {},
   "source": [
    "### 8. Fine tune hyperparameters for chosen classifier in terms of recall"
   ]
  },
  {
   "cell_type": "code",
   "execution_count": 76,
   "metadata": {},
   "outputs": [],
   "source": [
    "from sklearn.model_selection import GridSearchCV"
   ]
  },
  {
   "cell_type": "code",
   "execution_count": 77,
   "metadata": {},
   "outputs": [
    {
     "name": "stdout",
     "output_type": "stream",
     "text": [
      "Fitting 3 folds for each of 25 candidates, totalling 75 fits\n"
     ]
    },
    {
     "name": "stderr",
     "output_type": "stream",
     "text": [
      "[Parallel(n_jobs=-1)]: Using backend LokyBackend with 24 concurrent workers.\n",
      "[Parallel(n_jobs=-1)]: Done  54 out of  75 | elapsed:  8.0min remaining:  3.1min\n",
      "[Parallel(n_jobs=-1)]: Done  75 out of  75 | elapsed: 16.1min finished\n"
     ]
    },
    {
     "data": {
      "text/plain": [
       "GridSearchCV(cv=3, error_score=nan,\n",
       "             estimator=SVC(C=1.0, break_ties=False, cache_size=200,\n",
       "                           class_weight=None, coef0=0.0,\n",
       "                           decision_function_shape='ovr', degree=3,\n",
       "                           gamma='auto', kernel='rbf', max_iter=-1,\n",
       "                           probability=True, random_state=42, shrinking=True,\n",
       "                           tol=0.001, verbose=False),\n",
       "             iid='deprecated', n_jobs=-1,\n",
       "             param_grid={'C': array([1.e-01, 1.e+00, 1.e+01, 1.e+02, 1.e+03]),\n",
       "                         'gamma': array([1.e-04, 1.e-03, 1.e-02, 1.e-01, 1.e+00])},\n",
       "             pre_dispatch='2*n_jobs', refit=True, return_train_score=False,\n",
       "             scoring=None, verbose=3)"
      ]
     },
     "execution_count": 77,
     "metadata": {},
     "output_type": "execute_result"
    }
   ],
   "source": [
    "# Tuning hyperparameters for SVC kernel='rbf' (default and best performing kernel)\n",
    "# C and gamma are only tunable values, performing grid search across this set\n",
    "\n",
    "# list of values to search across for C and gamma respectable\n",
    "# C values from 10^-6 to 10^6\n",
    "# gamma values from 10^-6 to 10^6\n",
    "Clist = np.logspace(-5,5,num=11)\n",
    "gammalist = np.logspace(-5,5,num=11)\n",
    "\n",
    "parameters = {'C':Clist, 'gamma':gammalist}\n",
    "\n",
    "# secondary param_grid that should run faster than the one above\n",
    "# param_grid = {'C':[0.1, 1, 10, 100, 1000], 'gamma':[1, 0.1, 0.01, 0.001, 0.0001]}\n",
    "\n",
    "Clist2 = np.logspace(-1,3,num=5)\n",
    "gammalist2 = np.logspace(-4,0,num=5)\n",
    "param_grid = {'C':Clist2, 'gamma':gammalist2}\n",
    "\n",
    "\n",
    "grid_search = GridSearchCV(SVC_clf, param_grid, cv=3, n_jobs=-1, verbose=3, refit=True)\n",
    "grid_search.fit(X_train, y_train)"
   ]
  },
  {
   "cell_type": "code",
   "execution_count": 78,
   "metadata": {},
   "outputs": [
    {
     "data": {
      "text/plain": [
       "{'C': 1000.0, 'gamma': 0.001}"
      ]
     },
     "execution_count": 78,
     "metadata": {},
     "output_type": "execute_result"
    }
   ],
   "source": [
    "grid_search.best_params_"
   ]
  },
  {
   "cell_type": "code",
   "execution_count": 79,
   "metadata": {},
   "outputs": [
    {
     "data": {
      "text/plain": [
       "SVC(C=1000.0, break_ties=False, cache_size=200, class_weight=None, coef0=0.0,\n",
       "    decision_function_shape='ovr', degree=3, gamma=0.001, kernel='rbf',\n",
       "    max_iter=-1, probability=True, random_state=42, shrinking=True, tol=0.001,\n",
       "    verbose=False)"
      ]
     },
     "execution_count": 79,
     "metadata": {},
     "output_type": "execute_result"
    }
   ],
   "source": [
    "grid_search.best_estimator_"
   ]
  },
  {
   "cell_type": "markdown",
   "metadata": {},
   "source": [
    "### 9. Use best hyperparameters above to find precision, when recall=1"
   ]
  },
  {
   "cell_type": "code",
   "execution_count": 80,
   "metadata": {},
   "outputs": [],
   "source": [
    "# cross_val_score(grid_search.best_estimator_, X_train, y_train, cv=3, scoring=\"precision\")"
   ]
  },
  {
   "cell_type": "code",
   "execution_count": 81,
   "metadata": {},
   "outputs": [],
   "source": [
    "# cross_val_score(grid_search.best_estimator_, X_train, y_train, cv=3, scoring=\"recall\")"
   ]
  },
  {
   "cell_type": "code",
   "execution_count": 82,
   "metadata": {},
   "outputs": [
    {
     "data": {
      "image/png": "[encoded data removed]",
      "text/plain": [
       "<Figure size 576x432 with 1 Axes>"
      ]
     },
     "metadata": {},
     "output_type": "display_data"
    }
   ],
   "source": [
    "# doing this get an idea, the tuned hyperparameters shouldn't have drastic changes on the graph\n",
    "\n",
    "y_probas_GS = cross_val_predict(grid_search.best_estimator_, \n",
    "                                X_train, y_train, cv=3,\n",
    "                                method=\"predict_proba\")\n",
    "\n",
    "y_scores_GS = y_probas_GS[:, 1]\n",
    "\n",
    "precisions_GS, recalls_GS, thresholds_GS = precision_recall_curve(y_train, y_scores_GS)\n",
    "\n",
    "plt.figure(figsize=(8, 6))\n",
    "plot_precision_vs_recall(precisions_GS, recalls_GS)\n",
    "\n",
    "plt.show()"
   ]
  },
  {
   "cell_type": "code",
   "execution_count": 83,
   "metadata": {},
   "outputs": [],
   "source": [
    "threshold_100_recall_GS = thresholds_GS[np.argmax(recalls_GS >= 0.90)]"
   ]
  },
  {
   "cell_type": "code",
   "execution_count": 84,
   "metadata": {},
   "outputs": [
    {
     "data": {
      "text/plain": [
       "0.0009406313699467586"
      ]
     },
     "execution_count": 84,
     "metadata": {},
     "output_type": "execute_result"
    }
   ],
   "source": [
    "threshold_100_recall_GS"
   ]
  },
  {
   "cell_type": "code",
   "execution_count": 85,
   "metadata": {},
   "outputs": [],
   "source": [
    "y_train_pred_100_GS = (y_scores_GS >= threshold_100_recall_GS)"
   ]
  },
  {
   "cell_type": "code",
   "execution_count": 86,
   "metadata": {},
   "outputs": [
    {
     "data": {
      "text/plain": [
       "0.7185018654931599"
      ]
     },
     "execution_count": 86,
     "metadata": {},
     "output_type": "execute_result"
    }
   ],
   "source": [
    "precision_score(y_train, y_train_pred_100_GS)"
   ]
  },
  {
   "cell_type": "markdown",
   "metadata": {},
   "source": [
    "### 10. Apply this refined classifier to the test set, test.csv to see if recall and precision scores are achieved"
   ]
  },
  {
   "cell_type": "markdown",
   "metadata": {},
   "source": [
    "The test.csv was already loaded in, must pipeline it in the same way we did with the training set in part 4"
   ]
  },
  {
   "cell_type": "code",
   "execution_count": 87,
   "metadata": {},
   "outputs": [],
   "source": [
    "X_test_num = X_test.drop(\"x1\", axis=1)\n",
    "\n",
    "from sklearn.pipeline import Pipeline\n",
    "from sklearn.preprocessing import StandardScaler\n",
    "\n",
    "num_pipeline = Pipeline([\n",
    "        ('std_scaler', StandardScaler()),\n",
    "    ])\n",
    "\n",
    "X_test_num_tr = num_pipeline.fit_transform(X_test_num)"
   ]
  },
  {
   "cell_type": "code",
   "execution_count": 88,
   "metadata": {},
   "outputs": [
    {
     "data": {
      "text/plain": [
       "array([[-0.29445543, -3.01867991,  0.388479  , ..., -1.38266321,\n",
       "        -1.0167101 ,  1.71340928],\n",
       "       [ 2.01743404,  0.04876503, -1.47656173, ...,  0.57636043,\n",
       "        -0.04946777, -3.10666585],\n",
       "       [ 0.96663571, -0.03775175, -0.60519514, ..., -0.78605085,\n",
       "         0.5210024 , -0.88233162],\n",
       "       ...,\n",
       "       [ 0.68213   ,  1.03560596, -0.39014087, ...,  1.04232486,\n",
       "        -0.08409703,  0.79671719],\n",
       "       [ 0.10837612, -0.02769797, -0.67632665, ...,  0.81239487,\n",
       "        -0.23472567,  0.3170894 ],\n",
       "       [-1.24786564, -0.34855752,  0.25224832, ..., -0.34707399,\n",
       "         0.11676318, -0.44206346]])"
      ]
     },
     "execution_count": 88,
     "metadata": {},
     "output_type": "execute_result"
    }
   ],
   "source": [
    "X_train_num_tr"
   ]
  },
  {
   "cell_type": "code",
   "execution_count": 89,
   "metadata": {},
   "outputs": [
    {
     "data": {
      "text/plain": [
       "(10000, 24)"
      ]
     },
     "execution_count": 89,
     "metadata": {},
     "output_type": "execute_result"
    }
   ],
   "source": [
    "X_test_num.shape"
   ]
  },
  {
   "cell_type": "code",
   "execution_count": 90,
   "metadata": {},
   "outputs": [],
   "source": [
    "num_attribs = list(X_test_num)\n",
    "cat_attribs = [\"x1\"]\n",
    "\n",
    "full_pipeline = ColumnTransformer([\n",
    "        (\"num\", num_pipeline, num_attribs),\n",
    "        (\"cat\", OneHotEncoder(), cat_attribs),\n",
    "    ])\n",
    "\n",
    "X_test_mod = full_pipeline.fit_transform(X_test)"
   ]
  },
  {
   "cell_type": "code",
   "execution_count": 91,
   "metadata": {},
   "outputs": [
    {
     "data": {
      "text/plain": [
       "(10000, 27)"
      ]
     },
     "execution_count": 91,
     "metadata": {},
     "output_type": "execute_result"
    }
   ],
   "source": [
    "X_test_mod.shape"
   ]
  },
  {
   "cell_type": "code",
   "execution_count": 92,
   "metadata": {},
   "outputs": [
    {
     "data": {
      "image/png": "[encoded data removed]",
      "text/plain": [
       "<Figure size 576x432 with 1 Axes>"
      ]
     },
     "metadata": {},
     "output_type": "display_data"
    }
   ],
   "source": [
    "# doing this get an idea, the tuned hyperparameters shouldn't have drastic changes on the graph\n",
    "\n",
    "y_probas_test = cross_val_predict(grid_search.best_estimator_, \n",
    "                                X_test_mod, y_test, cv=3,\n",
    "                                method=\"predict_proba\")\n",
    "\n",
    "y_scores_test = y_probas_test[:, 1]\n",
    "\n",
    "precisions_test, recalls_test, thresholds_test = precision_recall_curve(y_test, y_scores_test)\n",
    "\n",
    "plt.figure(figsize=(8, 6))\n",
    "plot_precision_vs_recall(precisions_test, recalls_test)\n",
    "\n",
    "plt.show()"
   ]
  },
  {
   "cell_type": "code",
   "execution_count": 93,
   "metadata": {},
   "outputs": [],
   "source": [
    "threshold_100_recall_test = thresholds_test[np.argmax(recalls_test >= 1.00)]"
   ]
  },
  {
   "cell_type": "code",
   "execution_count": 94,
   "metadata": {},
   "outputs": [
    {
     "data": {
      "text/plain": [
       "0.0013033625695527216"
      ]
     },
     "execution_count": 94,
     "metadata": {},
     "output_type": "execute_result"
    }
   ],
   "source": [
    "threshold_100_recall_test "
   ]
  },
  {
   "cell_type": "code",
   "execution_count": 95,
   "metadata": {},
   "outputs": [],
   "source": [
    "y_test_pred_100 = (y_scores_test >= threshold_100_recall_test)"
   ]
  },
  {
   "cell_type": "code",
   "execution_count": 96,
   "metadata": {},
   "outputs": [
    {
     "data": {
      "text/plain": [
       "0.7072443181818182"
      ]
     },
     "execution_count": 96,
     "metadata": {},
     "output_type": "execute_result"
    }
   ],
   "source": [
    "precision_score(y_test, y_test_pred_100)"
   ]
  },
  {
   "cell_type": "markdown",
   "metadata": {},
   "source": [
    "***It seems that based on our best performing SVC Classifier with fine tuned C and gamma hyperparamerters on the training set, the classifier performed up to the desired constraints of recall = 100% and precision = 70% when applied to a pipelined test set. The precision score at recall = 100% is 70.72%, just 0.72% over our desired performance. These are some difficult constraints with recall = 100% to attempt to flag all positive test cases of the COVID-19. We are trying to stop a life-disrupting global pandemic after all, and catch all the true positives.\n",
    "南無阿彌陀佛***\n",
    "\n",
    "This has been a fun midterm, I would be curious as to where this data set came from, and if it's a real dataset, which seems unlikely, or some other set but modified. -Eric"
   ]
  },
  {
   "cell_type": "code",
   "execution_count": null,
   "metadata": {},
   "outputs": [],
   "source": []
  }
 ],
 "metadata": {
  "kernelspec": {
   "display_name": "Python 3",
   "language": "python",
   "name": "python3"
  },
  "language_info": {
   "codemirror_mode": {
    "name": "ipython",
    "version": 3
   },
   "file_extension": ".py",
   "mimetype": "text/x-python",
   "name": "python",
   "nbconvert_exporter": "python",
   "pygments_lexer": "ipython3",
   "version": "3.6.5"
  }
 },
 "nbformat": 4,
 "nbformat_minor": 2
}
